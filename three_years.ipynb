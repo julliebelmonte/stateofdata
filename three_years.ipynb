{
 "cells": [
  {
   "cell_type": "code",
   "execution_count": null,
   "metadata": {},
   "outputs": [],
   "source": [
    "import pandas as pd\n",
    "import numpy as np\n",
    "import matplotlib.pyplot as plt\n",
    "import seaborn as sns\n",
    "import plotly.express as px\n",
    "import plotly.graph_objects as go\n",
    "import plotly.graph_objects as go\n",
    "from plotly.subplots import make_subplots"
   ]
  },
  {
   "cell_type": "markdown",
   "metadata": {},
   "source": [
    "# Iniciando df"
   ]
  },
  {
   "cell_type": "code",
   "execution_count": 20,
   "metadata": {},
   "outputs": [],
   "source": [
    "#importando dados\n",
    "\n",
    "df_21 = pd.read_csv('state_of_data_2021.csv', low_memory=False)\n",
    "df_22 = pd.read_csv('State_of_data_2022.csv', low_memory=False)\n",
    "df_23 = pd.read_csv('State_of_data_2023.csv', low_memory=False)"
   ]
  },
  {
   "cell_type": "code",
   "execution_count": 21,
   "metadata": {},
   "outputs": [
    {
     "name": "stdout",
     "output_type": "stream",
     "text": [
      "('P0', 'id')\n",
      "('P1_a ', 'Idade')\n",
      "('P1_a_a ', 'Faixa idade')\n",
      "('P1_b ', 'Genero')\n",
      "('P1_e ', 'Estado onde mora')\n",
      "('P1_e_a ', 'uf onde mora')\n",
      "('P1_e_b ', 'Regiao onde mora')\n",
      "('P1_g_b ', 'Regiao de origem')\n",
      "('P1_g_c ', 'Mudou de Estado?')\n",
      "('P1_h ', 'Nivel de Ensino')\n",
      "('P1_i ', 'Área de Formação')\n",
      "('P2_a ', 'Qual sua situação atual de trabalho?')\n",
      "('P2_b ', 'Setor')\n",
      "('P2_c ', 'Numero de Funcionarios')\n",
      "('P2_d ', 'Gestor?')\n",
      "('P2_e ', 'Cargo como Gestor')\n",
      "('P2_f ', 'Cargo Atual')\n",
      "('P2_g ', 'Nivel')\n",
      "('P2_h ', 'Faixa salarial')\n",
      "('P2_i ', 'Quanto tempo de experiência na área de dados você tem?')\n",
      "('P2_j ', 'Quanto tempo de experiência na área de TI/Engenharia de Software você teve antes de começar a trabalhar na área de dados?')\n",
      "('P2_k ', 'Você está satisfeito na sua empresa atual?')\n",
      "('P2_l ', 'Qual o principal motivo da sua insatisfação com a empresa atual?')\n",
      "('P2_l_a ', 'Falta de oportunidade de crescimento no emprego atual')\n",
      "('P2_l_b ', 'Salário atual não corresponde ao mercado')\n",
      "('P2_l_c ', 'Não tenho uma boa relação com meu líder/gestor')\n",
      "('P2_l_d ', 'Gostaria de trabalhar em em outra área de atuação')\n",
      "('P2_l_e ', 'Gostaria de receber mais benefícios')\n",
      "('P2_l_f ', 'O clima de trabalho/ambiente não é bom')\n",
      "('P2_l_g ', 'Falta de maturidade analítica na empresa')\n",
      "('P2_m ', 'Você participou de entrevistas de emprego nos últimos 6 meses?')\n",
      "('P2_n ', 'Você pretende mudar de emprego nos próximos 6 meses?')\n",
      "('P2_o ', 'Quais os principais critérios que você leva em consideração no momento de decidir onde trabalhar?')\n",
      "('P2_o_a ', 'Remuneração/Salário')\n",
      "('P2_o_b ', 'Benefícios')\n",
      "('P2_o_c ', 'Propósito do trabalho e da empresa')\n",
      "('P2_o_d ', 'Flexibilidade de trabalho remoto')\n",
      "('P2_o_e ', 'Ambiente e clima de trabalho')\n",
      "('P2_o_f ', 'Oportunidade de aprendizado e trabalhar com referências na área')\n",
      "('P2_o_g ', 'Plano de carreira e oportunidades de crescimento profissional')\n",
      "('P2_o_h ', 'Maturidade da empresa em termos de tecnologia e dados')\n",
      "('P2_o_i ', 'Qualidade dos gestores e líderes')\n",
      "('P2_o_j ', 'Reputação que a empresa tem no mercado')\n",
      "('P2_q ', 'Atualmente qual a sua forma de trabalho?')\n",
      "('P2_r ', 'Qual a forma de trabalho ideal para você?')\n",
      "('P2_s ', 'Caso sua empresa decida pelo modelo 100% presencial qual será sua atitude?')\n",
      "('P3_a ', 'Qual o número aproximado de pessoas que atuam com dados na sua empresa hoje?')\n",
      "('P3_b ', 'Quais desses papéis/cargos fazem parte do time (ou chapter) de dados da sua empresa?')\n",
      "('P3_b_a ', 'Analytics Engineer')\n",
      "('P3_b_b ', 'Engenharia de Dados/Data Engineer')\n",
      "('P3_b_c ', 'Analista de Dados/Data Analyst')\n",
      "('P3_b_d ', 'Cientista de Dados/Data Scientist')\n",
      "('P3_b_e ', 'Database Administrator/DBA')\n",
      "('P3_b_f ', 'Analista de Business Intelligence/BI')\n",
      "('P3_b_g ', 'Arquiteto de Dados/Data Architect')\n",
      "('P3_b_h ', 'Data Product Manager/DPM')\n",
      "('P3_b_i ', 'Business Analyst')\n",
      "('P3_c ', 'Quais dessas responsabilidades fazem parte da sua rotina atual de trabalho como gestor?')\n",
      "('P3_c_a ', 'Pensar na visão de longo prazo de dados da empresa e fortalecimento da cultura analítica da companhia.')\n",
      "('P3_c_b ', 'Organização de treinamentos e iniciativas com o objetivo de aumentar a maturidade analítica das áreas de negócios.')\n",
      "('P3_c_c ', 'Atração, seleção e contratação de talentos para o time de dados.')\n",
      "('P3_c_d ', 'Decisão sobre contratação de ferramentas e tecnologias relacionadas a dados.')\n",
      "('P3_c_e ', 'Sou gestor da equipe responsável pela engenharia de dados e por manter o Data Lake da empresa como fonte única dos dados, garantindo a qualidade e confiabilidade da informação.')\n",
      "('P3_c_f ', 'Sou gestor da equipe responsável pela entrega de dados, estudos, relatórios e dashboards para as áreas de negócio da empresa.')\n",
      "('P3_c_g ', 'Sou gestor da equipe responsável por iniciativas e projetos envolvendo Inteligência Artificial e Machine Learning.')\n",
      "('P3_c_h ', 'Apesar de ser gestor ainda atuo na parte técnica, construindo soluções/análises/modelos etc.')\n",
      "('P3_c_i ', 'Gestão de projetos de dados, cuidando das etapas, equipes envolvidas, atingimento dos objetivos etc.')\n",
      "('P3_c_j ', 'Gestão de produtos de dados, cuidando da visão dos produtos, backlog, feedback de usuários etc.')\n",
      "('P3_c_k ', 'Gestão de pessoas, apoio no desenvolvimento das pessoas, evolução de carreira')\n",
      "('P3_d ', 'Quais são os 3 maiores desafios que você tem como gestor no atual momento?')\n",
      "('P3_d_ ', 'a Contratar novos talentos.')\n",
      "('P3_d_ ', 'b Reter talentos.')\n",
      "('P3_d_ ', 'c Convencer a empresa a aumentar os investimentos na área de dados.')\n",
      "('P3_d_ ', 'd Gestão de equipes no ambiente remoto.')\n",
      "('P3_d_ ', 'e Gestão de projetos envolvendo áreas multidisciplinares da empresa.')\n",
      "('P3_d_ ', 'f Organizar as informações e garantir a qualidade e confiabilidade.')\n",
      "('P3_d_ ', 'g Conseguir processar e armazenar um alto volume de dados.')\n",
      "('P3_d_ ', 'h Conseguir gerar valor para as áreas de negócios através de estudos e experimentos.')\n",
      "('P3_d_ ', 'i Desenvolver e manter modelos Machine Learning em produção.')\n",
      "('P3_d_ ', 'j Gerenciar a expectativa das áreas de negócio em relação as entregas das equipes de dados.')\n",
      "('P3_d_ ', 'k Garantir a manutenção dos projetos e modelos em produção, em meio ao crescimento da empresa.')\n",
      "('P3_d_l ', 'Conseguir levar inovação para a empresa através dos dados.')\n",
      "('P3_d_m ', 'Garantir retorno do investimento (ROI) em projetos de dados.')\n",
      "('P3_d_n ', 'Dividir o tempo entre entregas técnicas e gestão.')\n",
      "('P4_a_a ', 'Mesmo que esse não seja seu cargo formal, você considera que sua atuação no dia a dia, reflete alguma das opções listadas abaixo?')\n",
      "('P4_a ', 'Atuacao')\n",
      "('P4_b ', 'Quais das fontes de dados listadas você já analisou ou processou no trabalho?')\n",
      "('P4_b_a ', 'Dados relacionais (estruturados em bancos SQL)')\n",
      "('P4_b_b ', 'Dados armazenados em bancos NoSQL')\n",
      "('P4_b_c ', 'Imagens')\n",
      "('P4_b_d ', 'Textos/Documentos')\n",
      "('P4_b_e ', 'Vídeos')\n",
      "('P4_b_f ', 'Áudios')\n",
      "('P4_b_g ', 'Planilhas')\n",
      "('P4_b_h ', 'Dados georeferenciados')\n",
      "('P4_c ', 'Entre as fontes de dados listadas, quais você utiliza na maior parte do tempo?')\n",
      "('P4_c_a ', 'Dados relacionais (estruturados em bancos SQL)')\n",
      "('P4_c_b ', 'Dados armazenados em bancos NoSQL')\n",
      "('P4_c_c ', 'Imagens')\n",
      "('P4_c_d ', 'Textos/Documentos')\n",
      "('P4_c_e ', 'Vídeos')\n",
      "('P4_c_f ', 'Áudios')\n",
      "('P4_c_g ', 'Planilhas')\n",
      "('P4_c_h ', 'Dados georeferenciados')\n",
      "('P4_d ', 'Quais das linguagens listadas abaixo você utiliza no trabalho?')\n",
      "('P4_d_a ', 'SQL')\n",
      "('P4_d_b ', 'R ')\n",
      "('P4_d_c ', 'Python')\n",
      "('P4_d_d ', 'C/C++/C#')\n",
      "('P4_d_e ', '.NET')\n",
      "('P4_d_f ', 'Java')\n",
      "('P4_d_g ', 'Julia')\n",
      "('P4_d_h ', 'SAS/Stata')\n",
      "('P4_d_i ', 'Visual Basic/VBA')\n",
      "('P4_d_j ', 'Scala')\n",
      "('P4_d_k ', 'Matlab')\n",
      "('P4_d_l ', 'PHP')\n",
      "('P4_d_m ', 'Javascript')\n",
      "('P4_d_n ', 'Não utilizo nenhuma linguagem')\n",
      "('P4_e ', 'Entre as linguagens listadas abaixo, qual é a que você mais utiliza no trabalho?')\n",
      "('P4_e_a ', 'SQL')\n",
      "('P4_e_b ', 'R ')\n",
      "('P4_e_c ', 'Python')\n",
      "('P4_e_d ', 'C/C++/C#')\n",
      "('P4_e_e ', '.NET')\n",
      "('P4_e_f ', 'Java')\n",
      "('P4_e_g ', 'Julia')\n",
      "('P4_e_h ', 'SAS/Stata')\n",
      "('P4_e_i ', 'Visual Basic/VBA')\n",
      "('P4_e_j ', 'Scala')\n",
      "('P4_e_k ', 'Matlab')\n",
      "('P4_e_l ', 'PHP')\n",
      "('P4_e_m ', 'Javascript')\n",
      "('P4_e_n ', 'Não utilizo nenhuma linguagem')\n",
      "('P4_f ', 'Quais dos bancos de dados/fontes de dados listados abaixo você utiliza no trabalho?')\n",
      "('P4_f_a ', 'MySQL')\n",
      "('P4_f_b ', 'Oracle')\n",
      "('P4_f_c ', 'SQL SERVER')\n",
      "('P4_f_d ', 'SAP')\n",
      "('P4_f_e ', 'Amazon Aurora ou RDS')\n",
      "('P4_f_f ', 'Amazon DynamoDB')\n",
      "('P4_f_g ', 'CoachDB')\n",
      "('P4_f_h ', 'Cassandra')\n",
      "('P4_f_i ', 'MongoDB')\n",
      "('P4_f_j ', 'MariaDB')\n",
      "('P4_f_k ', 'Datomic')\n",
      "('P4_f_l ', 'S3')\n",
      "('P4_f_m ', 'PostgreSQL')\n",
      "('P4_f_n ', 'ElasticSearch')\n",
      "('P4_f_o ', 'DB2')\n",
      "('P4_f_p ', 'Microsoft Access')\n",
      "('P4_f_q ', 'SQLite')\n",
      "('P4_f_r ', 'Sybase')\n",
      "('P4_f_s ', 'Firebase')\n",
      "('P4_f_t ', 'Vertica')\n",
      "('P4_f_u ', 'Redis')\n",
      "('P4_f_v ', 'Neo4J')\n",
      "('P4_f_x ', 'Google BigQuery')\n",
      "('P4_f_y ', 'Google Firestore')\n",
      "('P4_f_z ', 'Amazon Redshift')\n",
      "('P4_f_z1 ', 'Amazon Athena')\n",
      "('P4_f_z2 ', 'Snowflake')\n",
      "('P4_f_z3 ', 'Databricks')\n",
      "('P4_f_z4 ', 'HBase')\n",
      "('P4_f_z5 ', 'Presto')\n",
      "('P4_f_z6 ', 'Splunk')\n",
      "('P4_f_z7 ', 'SAP HANA')\n",
      "('P4_f_z8 ', 'Hive')\n",
      "('P4_f_z9 ', 'Firebird')\n",
      "('P4_g ', 'Quais das opções de Cloud listadas abaixo você utiliza no trabalho?')\n",
      "('P4_g_a ', 'Amazon Web Services (AWS)')\n",
      "('P4_g_b ', 'Google Cloud (GCP)')\n",
      "('P4_g_c ', 'Azure (Microsoft)')\n",
      "('P4_g_d ', 'Oracle Cloud')\n",
      "('P4_g_e ', 'IBM')\n",
      "('P4_g_f ', 'Servidores On Premise/Não utilizamos Cloud')\n",
      "('P4_g_g ', 'Cloud Própria')\n",
      "('P4_h ', 'Quais as Ferramentas de Business Intelligence você utiliza no trabalho?')\n",
      "('P4_h_a ', 'Microsoft PowerBI')\n",
      "('P4_h_b ', 'Qlik View/Qlik Sense')\n",
      "('P4_h_c ', 'Tableau')\n",
      "('P4_h_d ', 'Metabase')\n",
      "('P4_h_e ', 'Superset')\n",
      "('P4_h_f ', 'Redash')\n",
      "('P4_h_g ', 'MicroStrategy')\n",
      "('P4_h_h ', 'IBM Analytics/Cognos')\n",
      "('P4_h_i ', 'SAP Business Objects')\n",
      "('P4_h_j ', 'Oracle Business Intelligence')\n",
      "('P4_h_k ', 'Amazon QuickSight')\n",
      "('P4_h_l ', 'Salesforce/Einstein Analytics')\n",
      "('P4_h_m ', 'Mode')\n",
      "('P4_h_n ', 'Alteryx')\n",
      "('P4_h_o ', 'Birst')\n",
      "('P4_h_p ', 'Looker')\n",
      "('P4_h_q ', 'Google Data Studio')\n",
      "('P4_h_r ', 'SAS Visual Analytics')\n",
      "('P4_h_s ', 'Grafana')\n",
      "('P4_h_t ', 'TIBCO Spotfire')\n",
      "('P4_h_u ', 'Pentaho')\n",
      "('P4_h_v ', 'Fazemos todas as análises utilizando apenas Excel ou planilhas do google')\n",
      "('P4_h_x ', 'Não utilizo nenhuma ferramenta de BI no trabalho')\n",
      "('P5_b ', 'Qual oportunidade você está buscando?')\n",
      "('P5_c ', 'Há quanto tempo você busca uma oportunidade na área de dados?')\n",
      "('P5_d ', 'Como tem sido a busca por um emprego na área de dados?')\n",
      "('P6_a ', 'Quais das opções abaixo fazem parte da sua rotina no trabalho atual como engenheiro de dados?')\n",
      "('P6_a_a ', 'Desenvolvo pipelines de dados utilizando linguagens de programação como Python, Scala, Java etc.')\n",
      "('P6_a_b ', 'Realizo construções de ETL's em ferramentas como Pentaho, Talend, Dataflow etc.')\n",
      "('P6_a_c ', 'Crio consultas através da linguagem SQL para exportar informações e compartilhar com as áreas de negócio.')\n",
      "('P6_a_d ', 'Atuo na integração de diferentes fontes de dados através de plataformas proprietárias como Stitch Data, Fivetran etc.')\n",
      "('P6_a_e ', 'Modelo soluções de arquitetura de dados, criando componentes de ingestão de dados, transformação e recuperação da informação.')\n",
      "('P6_a_f ', 'Desenvolvo/cuido da manutenção de repositórios de dados baseados em streaming de eventos como Data Lakes e Data Lakehouses.')\n",
      "('P6_a_g ', 'Atuo na modelagem dos dados, com o objetivo de criar conjuntos de dados como Data Warehouses, Data Marts etc.')\n",
      "('P6_a_h ', 'Cuido da qualidade dos dados, metadados e dicionário de dados.')\n",
      "('P6_a_i ', 'Nenhuma das opções listadas refletem meu dia a dia.')\n",
      "('P6_b ', 'Quais as ferramentas/tecnologias de ETL que você utiliza no trabalho como Data Engineer?')\n",
      "('P6_b_a ', 'Scripts Python')\n",
      "('P6_b_b ', 'SQL & Stored Procedures')\n",
      "('P6_b_c ', 'Apache Airflow')\n",
      "('P6_b_d ', 'Luigi')\n",
      "('P6_b_e ', 'AWS Glue')\n",
      "('P6_b_f ', 'Talend')\n",
      "('P6_b_g ', 'Stitch')\n",
      "('P6_b_h ', 'Fivetran')\n",
      "('P6_b_i ', 'Google Dataflow')\n",
      "('P6_b_j ', 'Oracle Data Integrator')\n",
      "('P6_b_k ', 'IBM DataStage')\n",
      "('P6_b_l ', 'SAP BW ETL')\n",
      "('P6_b_m ', 'SQL Server Integration Services (SSIS)')\n",
      "('P6_b_n ', 'SAS Data Integration')\n",
      "('P6_b_o ', 'Qlik Sense')\n",
      "('P6_b_p ', 'Knime')\n",
      "('P6_b_q ', 'Não utilizo ferramentas de ETL')\n",
      "('P6_c ', 'Sua organização possui um Data Lake?')\n",
      "('P6_d ', 'Qual tecnologia utilizada como plataforma do Data Lake?')\n",
      "('P6_e ', 'Sua organização possui um Data Warehouse?')\n",
      "('P6_f ', 'Qual tecnologia utilizada como plataforma do Data Warehouse?')\n",
      "('P6_g ', 'Quais as ferramentas de gestão de Qualidade de dados, Metadados e catálogo de dados você utiliza no trabalho?')\n",
      "('P6_g_a ', 'great_expectations')\n",
      "('P6_g_b ', 'dbt')\n",
      "('P6_g_c ', 'AWS Deequ')\n",
      "('P6_g_d ', 'Apache Griffin')\n",
      "('P6_g_e ', 'Datafold')\n",
      "('P6_g_f ', 'Amundsen')\n",
      "('P6_g_g ', 'Monte Carlo')\n",
      "('P6_g_h ', 'SODA')\n",
      "('P6_g_i ', 'Big Eye')\n",
      "('P6_g_j ', 'Data Band')\n",
      "('P6_g_k ', 'Anomalo')\n",
      "('P6_g_l ', 'Metaplane')\n",
      "('P6_g_m ', 'Acceldata')\n",
      "('P6_h ', 'Em qual das opções abaixo você gasta a maior parte do seu tempo?')\n",
      "('P6_h_a ', 'Desenvolvendo pipelines de dados utilizando linguagens de programação como Python, Scala, Java etc.')\n",
      "('P6_h_b ', 'Realizando construções de ETL's em ferramentas como Pentaho, Talend, Dataflow etc.')\n",
      "('P6_h_c ', 'Criando consultas através da linguagem SQL para exportar informações e compartilhar com as áreas de negócio.')\n",
      "('P6_h_d ', 'Atuando na integração de diferentes fontes de dados através de plataformas proprietárias como Stitch Data, Fivetran etc.')\n",
      "('P6_h_e ', 'Modelando soluções de arquitetura de dados, criando componentes de ingestão de dados, transformação e recuperação da informação.')\n",
      "('P6_h_f ', 'Desenvolvendo/cuidando da manutenção de repositórios de dados baseados em streaming de eventos como Data Lakes e Data Lakehouses.')\n",
      "('P6_h_g ', 'Atuando na modelagem dos dados, com o objetivo de criar conjuntos de dados como Data Warehouses, Data Marts etc.')\n",
      "('P6_h_h ', 'Cuidando da qualidade dos dados, metadados e dicionário de dados.')\n",
      "('P7_a ', 'Quais das opções abaixo fazem parte da sua rotina no trabalho atual com análise de dados?')\n",
      "('P7_a_a ', 'Processo e analiso dados utilizando linguagens de programação como Python, R etc.')\n",
      "('P7_a_b ', 'Realizo construções de dashboards em ferramentas de BI como PowerBI, Tableau, Looker, Qlik etc.')\n",
      "('P7_a_c ', 'Utilizo API's para extrair dados e complementar minhas análises.')\n",
      "('P7_a_d ', 'Realizo experimentos e estudos utilizando metodologias estatísticas como teste de hipótese, modelos de regressão etc.')\n",
      "('P7_a_e ', 'Desenvolvo/cuido da manutenção de ETL's utilizando tecnologias como Talend, Pentaho, Airflow, Dataflow etc.')\n",
      "('P7_a_f ', 'Atuo na modelagem dos dados, com o objetivo de criar conjuntos de dados, Data Warehouses, Data Marts etc.')\n",
      "('P7_a_g ', 'Desenvolvo/cuido da manutenção de planilhas para atender as áreas de negócio.')\n",
      "('P7_a_h ', 'Utilizo ferramentas avançadas de estatística como SAS')\n",
      "('P7_b ', 'Quais as ferramentas/tecnologias de ETL que você utiliza no trabalho como Data Analyst?')\n",
      "('P7_b_a ', 'Scripts Python')\n",
      "('P7_b_b ', 'SQL & Stored Procedures')\n",
      "('P7_b_c ', 'Apache Airflow')\n",
      "('P7_b_d ', 'Luigi')\n",
      "('P7_b_e ', 'AWS Glue')\n",
      "('P7_b_f ', 'Talend')\n",
      "('P7_b_g ', 'Stitch')\n",
      "('P7_b_h ', 'Fivetran')\n",
      "('P7_b_i ', 'Google Dataflow')\n",
      "('P7_b_j ', 'Oracle Data Integrator')\n",
      "('P7_b_k ', 'IBM DataStage')\n",
      "('P7_b_l ', 'SAP BW ETL')\n",
      "('P7_b_m ', 'SQL Server Integration Services (SSIS)')\n",
      "('P7_b_n ', 'SAS Data Integration')\n",
      "('P7_b_o ', 'Qlik Sense')\n",
      "('P7_b_p ', 'Knime')\n",
      "('P7_b_q ', 'Não utilizo ferramentas de ETL')\n",
      "('P7_c ', 'Sua empresa utiliza alguma das ferramentas listadas para dar mais autonomia em análise de dados para as áreas de negócio?')\n",
      "('P7_c_a ', 'Ferramentas de AutoML como H2O.ai, Data Robot, BigML etc.')\n",
      "('P7_c_b ', '\"\"Point and Click\"\" Analytics como Alteryx, Knime, Rapidminer etc.')\n",
      "('P7_c_c ', 'Product metricts & Insights como Mixpanel, Amplitude, Adobe Analytics.')\n",
      "('P7_c_d ', 'Ferramentas de análise dentro de ferramentas de CRM como Salesforce Einstein Anaytics ou Zendesk dashboards.')\n",
      "('P7_c_e ', 'Minha empresa não utiliza essas ferramentas.')\n",
      "('P7_c_f ', 'Não sei informar.')\n",
      "('P7_d ', 'Em qual das opções abaixo você gasta a maior parte do seu tempo de trabalho?')\n",
      "('P7_d_a ', 'Processando e analisando dados utilizando linguagens de programação como Python, R etc.')\n",
      "('P7_d_b ', 'Realizando construções de dashboards em ferramentas de BI como PowerBI, Tableau, Looker, Qlik etc.')\n",
      "('P7_d_c ', 'Utilizando API's para extrair dados e complementar minhas análises.')\n",
      "('P7_d_d ', 'Realizando experimentos e estudos utilizando metodologias estatísticas como teste de hipótese, modelos de regressão etc.')\n",
      "('P7_d_e ', 'Desenvolvendo/cuidando da manutenção de ETL's utilizando tecnologias como Talend, Pentaho, Airflow, Dataflow etc.')\n",
      "('P7_d_f ', 'Atuando na modelagem dos dados, com o objetivo de criar conjuntos de dados, Data Warehouses, Data Marts etc.')\n",
      "('P7_d_g ', 'Desenvolvendo/cuidando da manutenção de planilhas do Excel ou Google Sheets para atender as áreas de negócio.')\n",
      "('P7_d_h ', 'Utilizando ferramentas avançadas de estatística como SAS, SPSS, Stata etc, para realizar análises.')\n",
      "('P8_a ', 'Quais das opções abaixo fazem parte da sua rotina no trabalho atual com ciência de dados?')\n",
      "('P8_a_a ', 'Estudos Ad-hoc com o objetivo de confirmar hipóteses, realizar modelos preditivos, forecasts, análise de cluster para resolver problemas pontuais e responder perguntas das áreas de negócio.')\n",
      "('P8_a_b ', 'Sou responsável pela coleta e limpeza dos dados que uso para análise e modelagem.')\n",
      "('P8_a_c ', 'Sou responsável por entrar em contato com os times de negócio para definição do problema, identificar a solução e apresentação de resultados.')\n",
      "('P8_a_d ', 'Desenvolvo modelos de Machine Learning com o objetivo de colocar em produção em sistemas (produtos de dados).')\n",
      "('P8_a_e ', 'Sou responsável por colocar modelos em produção, criar os pipelines de dados, APIs de consumo e monitoramento.')\n",
      "('P8_a_f ', 'Cuido da manutenção de modelos de Machine Learning já em produção, atuando no monitoramento, ajustes e refatoração quando necessário.')\n",
      "('P8_a_g ', 'Realizo construções de dashboards em ferramentas de BI como PowerBI, Tableau, Looker, Qlik, etc')\n",
      "('P8_a_h ', 'Utilizo ferramentas avançadas de estatística como SAS, SPSS, Stata etc, para realizar análises estatísticas e ajustar modelos.Crio e dou manutenção em ETLs, DAGs e automações de pipelines de dados.')\n",
      "('P8_a_j ', 'Sou responsável por criar e manter a infra que meus modelos e soluções rodam (clusters, servidores, API, containers, etc.)')\n",
      "('P8_b ', 'Quais as técnicas e métodos listados abaixo você costuma utilizar no trabalho?')\n",
      "('P8_b_a ', 'Utilizo modelos de regressão (linear, logística, GLM)')\n",
      "('P8_b_b ', 'Utilizo redes neurais ou modelos baseados em árvore para criar modelos de classificação')\n",
      "('P8_b_c ', 'Desenvolvo sistemas de recomendação (RecSys)')\n",
      "('P8_b_d ', 'Utilizo métodos estatísticos Bayesianos para analisar dados')\n",
      "('P8_b_e ', 'Utilizo técnicas de NLP (Natural Language Processing) para análisar dados não-estruturados')\n",
      "('P8_b_f ', 'Utilizo métodos estatísticos clássicos (Testes de hipótese, análise multivariada, sobrevivência, dados longitudinais, inferência estatistica) para analisar dados')\n",
      "('P8_b_g ', 'Utilizo cadeias de Markov ou HMM's para realizar análises de dados')\n",
      "('P8_b_h ', 'Desenvolvo técnicas de Clusterização (K-means, Spectral, DBScan etc)')\n",
      "('P8_b_i ', 'Realizo previsões através de modelos de Séries Temporais (Time Series)')\n",
      "('P8_b_j ', 'Utilizo modelos de Reinforcement Learning (aprendizado por reforço)')\n",
      "('P8_b_k ', 'Utilizo modelos de Machine Learning para detecção de fraude')\n",
      "('P8_b_l ', 'Utilizo métodos de Visão Computacional')\n",
      "('P8_b_m ', 'Utilizo modelos de Detecção de Churn')\n",
      "('P8_c ', 'Quais dessas tecnologias fazem parte do seu dia a dia como cientista de dados?')\n",
      "('P8_c_a ', 'Ferramentas de BI (PowerBI, Looker, Tableau, Qlik etc)')\n",
      "('P8_c_b ', 'Planilhas (Excel, Google Sheets etc)')\n",
      "('P8_c_c ', 'Ambientes de desenvolvimento local (R-studio, JupyterLab, Anaconda)')\n",
      "('P8_c_d ', 'Ambientes de desenvolvimento na nuvem (Google Colab, AWS Sagemaker, Kaggle Notebooks etc)')\n",
      "('P8_c_e ', 'Ferramentas de AutoML (Datarobot, H2O, Auto-Keras etc)')\n",
      "('P8_c_f ', 'Ferramentas de ETL (Apache Airflow, NiFi, Stitch, Fivetran, Pentaho etc)')\n",
      "('P8_c_g ', 'Plataformas de Machine Learning (TensorFlow, Azure Machine Learning, Kubeflow etc)')\n",
      "('P8_c_h ', 'Feature Store (Feast, Hopsworks, AWS Feature Store, Databricks Feature Store etc)')\n",
      "('P8_c_i ', 'Sistemas de controle de versão (Github, DVC, Neptune, Gitlab etc)')\n",
      "('P8_c_j ', 'Plataformas de Data Apps (Streamlit, Shiny, Plotly Dash etc)')\n",
      "('P8_c_k ', 'Ferramentas de estatística avançada como SPSS, SAS, etc.')\n",
      "('P8_c_l ', 'Não utilizo nenhuma dessas ferramentas no meu dia a dia.')\n",
      "('P8_d ', 'Em qual das opções abaixo você gasta a maior parte do seu tempo no trabalho?')\n",
      "('P8_d_a ', 'Coletando e limpando os dados que uso para análise e modelagem.')\n",
      "('P8_d_b ', 'Entrando em contato com os times de negócio para definição do problema, identificar a solução e apresentação de resultados.')\n",
      "('P8_d_c ', 'Desenvolvendo modelos de Machine Learning com o objetivo de colocar em produção em sistemas (produtos de dados).')\n",
      "('P8_d_d ', 'Colocando modelos em produção, criando os pipelines de dados, APIs de consumo e monitoramento.')\n",
      "('P8_d_e ', 'Cuidando da manutenção de modelos de Machine Learning já em produção, atuando no monitoramento, ajustes e refatoração quando necessário.')\n",
      "('P8_d_f ', 'Realizando construções de dashboards em ferramentas de BI como PowerBI, Tableau, Looker, Qlik, etc.')\n",
      "('P8_d_g ', 'Criando e dando manutenção em ETLs, DAGs e automações de pipelines de dados.')\n",
      "('P8_d_h ', 'Criando e gerenciando soluções de Feature Store e cultura de MLOps.')\n",
      "('P8_d_i ', 'Criando e mantendo a infra que meus modelos e soluções rodam (clusters, servidores, API, containers, etc.)')\n",
      "('P9_a ', 'Quais das iniciativas do Data Hackers que você já acessou/acompanhou?')\n",
      "('P9_a_a ', 'Blog/Medium do Data Hackers')\n",
      "('P9_a_b ', 'Podcast do Data Hackers')\n",
      "('P9_a_d ', 'Newsletter Semanal')\n",
      "('P9_a_e ', 'Canal do Slack')\n",
      "('P9_a_f ', 'Canal do Youtube do Data Hackers')\n",
      "('P9_a_g ', 'Ainda não conhecia o Data Hackers')\n"
     ]
    }
   ],
   "source": [
    "for col in df_21.columns:\n",
    "    print(col)"
   ]
  },
  {
   "cell_type": "code",
   "execution_count": 22,
   "metadata": {},
   "outputs": [
    {
     "name": "stdout",
     "output_type": "stream",
     "text": [
      "('P0', 'id')\n",
      "('P1_a ', 'Idade')\n",
      "('P1_a_1 ', 'Faixa idade')\n",
      "('P1_b ', 'Genero')\n",
      "('P1_c ', 'Cor/raca/etnia')\n",
      "('P1_d ', 'PCD')\n",
      "('P1_e ', 'experiencia_profissional_prejudicada')\n",
      "('P1_f ', 'aspectos_prejudicados')\n",
      "('P1_g ', 'vive_no_brasil')\n",
      "('P1_i ', 'Estado onde mora')\n",
      "('P1_i_1 ', 'uf onde mora')\n",
      "('P1_i_2 ', 'Regiao onde mora')\n",
      "('P1_j ', 'Mudou de Estado?')\n",
      "('P1_k ', 'Regiao de origem')\n",
      "('P1_l ', 'Nivel de Ensino')\n",
      "('P1_m ', 'Área de Formação')\n",
      "('P2_a ', 'Qual sua situação atual de trabalho?')\n",
      "('P2_b ', 'Setor')\n",
      "('P2_c ', 'Numero de Funcionarios')\n",
      "('P2_d ', 'Gestor?')\n",
      "('P2_e ', 'Cargo como Gestor')\n",
      "('P2_f ', 'Cargo Atual')\n",
      "('P2_g ', 'Nivel')\n",
      "('P2_h ', 'Faixa salarial')\n",
      "('P2_i ', 'Quanto tempo de experiência na área de dados você tem?')\n",
      "('P2_j ', 'Quanto tempo de experiência na área de TI/Engenharia de Software você teve antes de começar a trabalhar na área de dados?')\n",
      "('P2_k ', 'Você está satisfeito na sua empresa atual?')\n",
      "('P2_l ', 'Qual o principal motivo da sua insatisfação com a empresa atual?')\n",
      "('P2_l_1 ', 'Falta de oportunidade de crescimento no emprego atual')\n",
      "('P2_l_2 ', 'Salário atual não corresponde ao mercado')\n",
      "('P2_l_3 ', 'Não tenho uma boa relação com meu líder/gestor')\n",
      "('P2_l_4 ', 'Gostaria de trabalhar em em outra área de atuação')\n",
      "('P2_l_5 ', 'Gostaria de receber mais benefícios')\n",
      "('P2_l_6 ', 'O clima de trabalho/ambiente não é bom')\n",
      "('P2_l_7 ', 'Falta de maturidade analítica na empresa')\n",
      "('P2_m ', 'Você participou de entrevistas de emprego nos últimos 6 meses?')\n",
      "('P2_n ', 'Você pretende mudar de emprego nos próximos 6 meses?')\n",
      "('P2_o ', 'Quais os principais critérios que você leva em consideração no momento de decidir onde trabalhar?')\n",
      "('P2_o_1 ', 'Remuneração/Salário')\n",
      "('P2_o_2 ', 'Benefícios')\n",
      "('P2_o_3 ', 'Propósito do trabalho e da empresa')\n",
      "('P2_o_4 ', 'Flexibilidade de trabalho remoto')\n",
      "('P2_o_5 ', 'Ambiente e clima de trabalho')\n",
      "('P2_o_6 ', 'Oportunidade de aprendizado e trabalhar com referências na área')\n",
      "('P2_o_7 ', 'Plano de carreira e oportunidades de crescimento profissional')\n",
      "('P2_o_8 ', 'Maturidade da empresa em termos de tecnologia e dados')\n",
      "('P2_o_9 ', 'Qualidade dos gestores e líderes')\n",
      "('P2_o_10 ', 'Reputação que a empresa tem no mercado')\n",
      "('P2_p ', 'Atualmente qual a sua forma de trabalho?')\n",
      "('P2_q ', 'Qual a forma de trabalho ideal para você?')\n",
      "('P2_r ', 'Caso sua empresa decida pelo modelo 100% presencial qual será sua atitude?')\n",
      "('P2_s ', 'Sua empresa passu por Layoff em 2022?')\n",
      "('P3_a ', 'Qual o número aproximado de pessoas que atuam com dados na sua empresa hoje?')\n",
      "('P3_b ', 'Quais desses papéis/cargos fazem parte do time (ou chapter) de dados da sua empresa?')\n",
      "('P3_b_1 ', 'Analytics Engineer')\n",
      "('P3_b_2 ', 'Engenharia de Dados/Data Engineer')\n",
      "('P3_b_3 ', 'Analista de Dados/Data Analyst')\n",
      "('P3_b_4 ', 'Cientista de Dados/Data Scientist')\n",
      "('P3_b_5 ', 'Database Administrator/DBA')\n",
      "('P3_b_6 ', 'Analista de Business Intelligence/BI')\n",
      "('P3_b_7 ', 'Arquiteto de Dados/Data Architect')\n",
      "('P3_b_8 ', 'Data Product Manager/DPM')\n",
      "('P3_b_9 ', 'Business Analyst')\n",
      "('P3_c ', 'Quais dessas responsabilidades fazem parte da sua rotina atual de trabalho como gestor?')\n",
      "('P3_c_1 ', 'Pensar na visão de longo prazo de dados da empresa e fortalecimento da cultura analítica da companhia.')\n",
      "('P3_c_2 ', 'Organização de treinamentos e iniciativas com o objetivo de aumentar a maturidade analítica das áreas de negócios.')\n",
      "('P3_c_3 ', 'Atração, seleção e contratação de talentos para o time de dados.')\n",
      "('P3_c_4 ', 'Decisão sobre contratação de ferramentas e tecnologias relacionadas a dados.')\n",
      "('P3_c_5 ', 'Sou gestor da equipe responsável pela engenharia de dados e por manter o Data Lake da empresa como fonte única dos dados, garantindo a qualidade e confiabilidade da informação.')\n",
      "('P3_c_6 ', 'Sou gestor da equipe responsável pela entrega de dados, estudos, relatórios e dashboards para as áreas de negócio da empresa.')\n",
      "('P3_c_7 ', 'Sou gestor da equipe responsável por iniciativas e projetos envolvendo Inteligência Artificial e Machine Learning.')\n",
      "('P3_c_8 ', 'Apesar de ser gestor ainda atuo na parte técnica, construindo soluções/análises/modelos etc.')\n",
      "('P3_c_9 ', 'Gestão de projetos de dados, cuidando das etapas, equipes envolvidas, atingimento dos objetivos etc.')\n",
      "('P3_c_10 ', 'Gestão de produtos de dados, cuidando da visão dos produtos, backlog, feedback de usuários etc.')\n",
      "('P3_c_11 ', 'Gestão de pessoas, apoio no desenvolvimento das pessoas, evolução de carreira')\n",
      "('P3_d ', 'Quais são os 3 maiores desafios que você tem como gestor no atual momento?')\n",
      "('P3_d_1 ', 'a Contratar novos talentos.')\n",
      "('P3_d_2 ', 'b Reter talentos.')\n",
      "('P3_d_3 ', 'c Convencer a empresa a aumentar os investimentos na área de dados.')\n",
      "('P3_d_4 ', 'd Gestão de equipes no ambiente remoto.')\n",
      "('P3_d_5 ', 'e Gestão de projetos envolvendo áreas multidisciplinares da empresa.')\n",
      "('P3_d_6 ', 'f Organizar as informações e garantir a qualidade e confiabilidade.')\n",
      "('P3_d_7 ', 'g Conseguir processar e armazenar um alto volume de dados.')\n",
      "('P3_d_8 ', 'h Conseguir gerar valor para as áreas de negócios através de estudos e experimentos.')\n",
      "('P3_d_9 ', 'i Desenvolver e manter modelos Machine Learning em produção.')\n",
      "('P3_d_10 ', 'j Gerenciar a expectativa das áreas de negócio em relação as entregas das equipes de dados.')\n",
      "('P3_d_11 ', 'k Garantir a manutenção dos projetos e modelos em produção, em meio ao crescimento da empresa.')\n",
      "('P3_d_12 ', 'Conseguir levar inovação para a empresa através dos dados.')\n",
      "('P3_d_13 ', 'Garantir retorno do investimento (ROI) em projetos de dados.')\n",
      "('P3_d_14 ', 'Dividir o tempo entre entregas técnicas e gestão.')\n",
      "('P4_a ', 'Mesmo que esse não seja seu cargo formal, você considera que sua atuação no dia a dia, reflete alguma das opções listadas abaixo?')\n",
      "('P4_a_1 ', 'Atuacao')\n",
      "('P4_b ', 'Quais das fontes de dados listadas você já analisou ou processou no trabalho?')\n",
      "('P4_b_1 ', 'Dados relacionais (estruturados em bancos SQL)')\n",
      "('P4_b_2 ', 'Dados armazenados em bancos NoSQL')\n",
      "('P4_b_3 ', 'Imagens')\n",
      "('P4_b_4 ', 'Textos/Documentos')\n",
      "('P4_b_5 ', 'Vídeos')\n",
      "('P4_b_6 ', 'Áudios')\n",
      "('P4_b_7 ', 'Planilhas')\n",
      "('P4_b_8 ', 'Dados georeferenciados')\n",
      "('P4_c ', 'Entre as fontes de dados listadas, quais você utiliza na maior parte do tempo?')\n",
      "('P4_c_1 ', 'Dados relacionais (estruturados em bancos SQL)')\n",
      "('P4_c_2 ', 'Dados armazenados em bancos NoSQL')\n",
      "('P4_c_3 ', 'Imagens')\n",
      "('P4_c_4 ', 'Textos/Documentos')\n",
      "('P4_c_5 ', 'Vídeos')\n",
      "('P4_c_6 ', 'Áudios')\n",
      "('P4_c_7 ', 'Planilhas')\n",
      "('P4_c_8 ', 'Dados georeferenciados')\n",
      "('P4_d ', 'Quais das linguagens listadas abaixo você utiliza no trabalho?')\n",
      "('P4_d_1 ', 'SQL')\n",
      "('P4_d_2 ', 'R ')\n",
      "('P4_d_3 ', 'Python')\n",
      "('P4_d_4 ', 'C/C++/C#')\n",
      "('P4_d_5 ', '.NET')\n",
      "('P4_d_6 ', 'Java')\n",
      "('P4_d_7 ', 'Julia')\n",
      "('P4_d_8 ', 'SAS/Stata')\n",
      "('P4_d_9 ', 'Visual Basic/VBA')\n",
      "('P4_d_10 ', 'Scala')\n",
      "('P4_d_11 ', 'Matlab')\n",
      "('P4_d_12 ', 'PHP')\n",
      "('P4_d_13 ', 'Javascript')\n",
      "('P4_d_14 ', 'Não utilizo nenhuma linguagem')\n",
      "('P4_e ', 'Entre as linguagens listadas abaixo, qual é a que você mais utiliza no trabalho?')\n",
      "('P4_f ', 'Entre as linguagens listadas abaixo, qual é a sua preferida?')\n",
      "('P4_g ', 'Quais dos bancos de dados/fontes de dados listados abaixo você utiliza no trabalho?')\n",
      "('P4_g_1 ', 'MySQL')\n",
      "('P4_g_2 ', 'Oracle')\n",
      "('P4_g_3 ', 'SQL SERVER')\n",
      "('P4_f_4 ', 'Amazon Aurora ou RDS')\n",
      "('P4_f_5 ', 'DynamoDB')\n",
      "('P4_f_6 ', 'CoachDB')\n",
      "('P4_f_7 ', 'Cassandra')\n",
      "('P4_f_8 ', 'MongoDB')\n",
      "('P4_f_9 ', 'MariaDB')\n",
      "('P4_f_10 ', 'Datomic')\n",
      "('P4_f_11 ', 'S3')\n",
      "('P4_f_12 ', 'PostgreSQL')\n",
      "('P4_f_13 ', 'ElasticSearch')\n",
      "('P4_f_14 ', 'DB2')\n",
      "('P4_f_15 ', 'Microsoft Access')\n",
      "('P4_f_16 ', 'SQLite')\n",
      "('P4_f_17 ', 'Sybase')\n",
      "('P4_f_18 ', 'Firebase')\n",
      "('P4_f_19 ', 'Vertica')\n",
      "('P4_f_20 ', 'Redis')\n",
      "('P4_f_21 ', 'Neo4J')\n",
      "('P4_f_22 ', 'Google BigQuery')\n",
      "('P4_f_23 ', 'Google Firestore')\n",
      "('P4_f_24 ', 'Amazon Redshift')\n",
      "('P4_f_25 ', 'Amazon Athena')\n",
      "('P4_f_26 ', 'Snowflake')\n",
      "('P4_f_27 ', 'Databricks')\n",
      "('P4_f_28 ', 'HBase')\n",
      "('P4_f_29 ', 'Presto')\n",
      "('P4_f_30 ', 'Splunk')\n",
      "('P4_f_31 ', 'SAP HANA')\n",
      "('P4_f_32 ', 'Hive')\n",
      "('P4_f_33 ', 'Firebird')\n",
      "('P4_g ', 'Quais das opções de Cloud listadas abaixo você utiliza no trabalho?')\n",
      "('P4_h ', 'Dentre as opções listadas, qual sua Cloud preferida?')\n",
      "('P4_h_1 ', 'Azure (Microsoft)')\n",
      "('P4_h_2 ', 'Amazon Web Services (AWS)')\n",
      "('P4_h_3 ', 'Google Cloud (GCP)')\n",
      "('P4_i ', 'Microsoft PowerBI')\n",
      "('P4_i_1 ', 'Microsoft PowerBI')\n",
      "('P4_i_2 ', 'Qlik View/Qlik Sense')\n",
      "('P4_i_3 ', 'Tableau')\n",
      "('P4_i_4 ', 'Metabase')\n",
      "('P4_i_5 ', 'Superset')\n",
      "('P4_i_6 ', 'Redash')\n",
      "('P4_i_7 ', 'MicroStrategy')\n",
      "('P4_i_8 ', 'IBM Analytics/Cognos')\n",
      "('P4_i_9 ', 'SAP Business Objects')\n",
      "('P4_i_10 ', 'Oracle Business Intelligence')\n",
      "('P4_i_11 ', 'Amazon QuickSight')\n",
      "('P4_i_12 ', 'Salesforce/Einstein Analytics')\n",
      "('P4_i_13 ', 'Mode')\n",
      "('P4_i_14 ', 'Alteryx')\n",
      "('P4_i_15 ', 'Birst')\n",
      "('P4_i_16 ', 'Looker')\n",
      "('P4_i_17 ', 'Google Data Studio')\n",
      "('P4_i_18 ', 'SAS Visual Analytics')\n",
      "('P4_i_19 ', 'Grafana')\n",
      "('P4_i_20 ', 'TIBCO Spotfire')\n",
      "('P4_i_21 ', 'Pentaho')\n",
      "('P4_i_22 ', 'Fazemos todas as análises utilizando apenas Excel ou planilhas do google')\n",
      "('P4_i_23 ', 'Não utilizo nenhuma ferramenta de BI no trabalho')\n",
      "('P5_a ', 'Qual seu objetivo na área de dados?')\n",
      "('P5_b ', 'Qual oportunidade você está buscando?')\n",
      "('P5_c ', 'Há quanto tempo você busca uma oportunidade na área de dados?')\n",
      "('P5_d ', 'Como tem sido a busca por um emprego na área de dados?')\n",
      "('P6_a ', 'Quais das opções abaixo fazem parte da sua rotina no trabalho atual como engenheiro de dados?')\n",
      "('P6_a_1 ', 'Desenvolvo pipelines de dados utilizando linguagens de programação como Python, Scala, Java etc.')\n",
      "('P6_a_2 ', 'Realizo construções de ETL's em ferramentas como Pentaho, Talend, Dataflow etc.')\n",
      "('P6_a_3 ', 'Crio consultas através da linguagem SQL para exportar informações e compartilhar com as áreas de negócio.')\n",
      "('P6_a_4 ', 'Atuo na integração de diferentes fontes de dados através de plataformas proprietárias como Stitch Data, Fivetran etc.')\n",
      "('P6_a_5 ', 'Modelo soluções de arquitetura de dados, criando componentes de ingestão de dados, transformação e recuperação da informação.')\n",
      "('P6_a_6 ', 'Desenvolvo/cuido da manutenção de repositórios de dados baseados em streaming de eventos como Data Lakes e Data Lakehouses.')\n",
      "('P6_a_7 ', 'Atuo na modelagem dos dados, com o objetivo de criar conjuntos de dados como Data Warehouses, Data Marts etc.')\n",
      "('P6_a_8 ', 'Cuido da qualidade dos dados, metadados e dicionário de dados.')\n",
      "('P6_a_9 ', 'Nenhuma das opções listadas refletem meu dia a dia.')\n",
      "('P6_b ', 'Quais as ferramentas/tecnologias de ETL que você utiliza no trabalho como Data Engineer?')\n",
      "('P6_b_1 ', 'Scripts Python')\n",
      "('P6_b_2 ', 'SQL & Stored Procedures')\n",
      "('P6_b_3 ', 'Apache Airflow')\n",
      "('P6_b_4 ', 'Luigi')\n",
      "('P6_b_5 ', 'AWS Glue')\n",
      "('P6_b_6 ', 'Talend')\n",
      "('P6_b_7 ', 'Pentaho')\n",
      "('P6_b_8 ', 'Alteryx')\n",
      "('P6_b_9 ', 'Stitch')\n",
      "('P6_b_10 ', 'Fivetran')\n",
      "('P6_b_11 ', 'Google Dataflow')\n",
      "('P6_b_12 ', 'Oracle Data Integrator')\n",
      "('P6_b_13 ', 'IBM DataStage')\n",
      "('P6_b_14 ', 'SAP BW ETL')\n",
      "('P6_b_15 ', 'SQL Server Integration Services (SSIS)')\n",
      "('P6_b_16 ', 'SAS Data Integration')\n",
      "('P6_b_17 ', 'Qlik Sense')\n",
      "('P6_b_18 ', 'Knime')\n",
      "('P6_b_19 ', 'Databricks')\n",
      "('P6_b_19 ', 'Não utilizo ferramentas de ETL')\n",
      "('P6_c ', 'Sua organização possui um Data Lake?')\n",
      "('P6_d ', 'Qual tecnologia utilizada como plataforma do Data Lake?')\n",
      "('P6_e ', 'Sua organização possui um Data Warehouse?')\n",
      "('P6_f ', 'Qual tecnologia utilizada como plataforma do Data Warehouse?')\n",
      "('P6_g ', 'Quais as ferramentas de gestão de Qualidade de dados, Metadados e catálogo de dados você utiliza no trabalho?')\n",
      "('P6_g_1 ', 'great_expectations')\n",
      "('P6_g_2 ', 'dbt')\n",
      "('P6_g_3 ', 'AWS Deequ')\n",
      "('P6_g_4 ', 'Apache Griffin')\n",
      "('P6_g_5 ', 'Datafold')\n",
      "('P6_g_6 ', 'Amundsen')\n",
      "('P6_g_7 ', 'Monte Carlo')\n",
      "('P6_g_8 ', 'SODA')\n",
      "('P6_g_9 ', 'Big Eye')\n",
      "('P6_g_10 ', 'Data Band')\n",
      "('P6_g_11 ', 'Anomalo')\n",
      "('P6_g_l ', 'Metaplane')\n",
      "('P6_g_m ', 'Acceldata')\n",
      "('P6_h ', 'Em qual das opções abaixo você gasta a maior parte do seu tempo?')\n",
      "('P6_h_1 ', 'Desenvolvendo pipelines de dados utilizando linguagens de programação como Python, Scala, Java etc.')\n",
      "('P6_h_2 ', 'Realizando construções de ETL's em ferramentas como Pentaho, Talend, Dataflow etc.')\n",
      "('P6_h_3 ', 'Criando consultas através da linguagem SQL para exportar informações e compartilhar com as áreas de negócio.')\n",
      "('P6_h_4 ', 'Atuando na integração de diferentes fontes de dados através de plataformas proprietárias como Stitch Data, Fivetran etc.')\n",
      "('P6_h_5 ', 'Modelando soluções de arquitetura de dados, criando componentes de ingestão de dados, transformação e recuperação da informação.')\n",
      "('P6_h_6 ', 'Desenvolvendo/cuidando da manutenção de repositórios de dados baseados em streaming de eventos como Data Lakes e Data Lakehouses.')\n",
      "('P6_h_7 ', 'Atuando na modelagem dos dados, com o objetivo de criar conjuntos de dados como Data Warehouses, Data Marts etc.')\n",
      "('P6_h_8 ', 'Cuidando da qualidade dos dados, metadados e dicionário de dados.')\n",
      "('P6_h_9 ', 'Nenhuma das opções listadas refletem meu dia a dia.')\n",
      "('P7_1 ', 'Quais das opções abaixo fazem parte da sua rotina no trabalho atual com análise de dados?')\n",
      "('P7_a_1 ', 'Processo e analiso dados utilizando linguagens de programação como Python, R etc.')\n",
      "('P7_a_2 ', 'Realizo construções de dashboards em ferramentas de BI como PowerBI, Tableau, Looker, Qlik etc.')\n",
      "('P7_a_3 ', 'Crio consultas através da linguagem SQL para exportar informações e compartilhar com as áreas de negócio.')\n",
      "('P7_a_4 ', 'Utilizo API's para extrair dados e complementar minhas análises.')\n",
      "('P7_a_5 ', 'Realizo experimentos e estudos utilizando metodologias estatísticas como teste de hipótese, modelos de regressão etc.')\n",
      "('P7_a_6 ', 'Desenvolvo/cuido da manutenção de ETL's utilizando tecnologias como Talend, Pentaho, Airflow, Dataflow etc.')\n",
      "('P7_a_7 ', 'Atuo na modelagem dos dados, com o objetivo de criar conjuntos de dados, Data Warehouses, Data Marts etc.')\n",
      "('P7_a_8 ', 'Desenvolvo/cuido da manutenção de planilhas para atender as áreas de negócio.')\n",
      "('P7_a_9 ', 'Utilizo ferramentas avançadas de estatística como SAS')\n",
      "('P7_a_10 ', 'Nenhuma das opções listadas refletem meu dia a dia.')\n",
      "('P7_b ', 'Quais as ferramentas/tecnologias de ETL que você utiliza no trabalho como Data Analyst?')\n",
      "('P7_b_1 ', 'Scripts Python')\n",
      "('P7_b_2 ', 'SQL & Stored Procedures')\n",
      "('P7_b_3 ', 'Apache Airflow')\n",
      "('P7_b_4 ', 'Luigi')\n",
      "('P7_b_5 ', 'AWS Glue')\n",
      "('P7_b_6 ', 'Talend')\n",
      "('P7_b_7 ', 'Pentaho')\n",
      "('P7_b_8 ', 'Alteryx')\n",
      "('P7_b_9 ', 'Stitch')\n",
      "('P7_b_10 ', 'Fivetran')\n",
      "('P7_b_11 ', 'Google Dataflow')\n",
      "('P7_b_12 ', 'Oracle Data Integrator')\n",
      "('P7_b_13 ', 'IBM DataStage')\n",
      "('P7_b_14 ', 'SAP BW ETL')\n",
      "('P7_b_15 ', 'SQL Server Integration Services (SSIS)')\n",
      "('P7_b_16 ', 'SAS Data Integration')\n",
      "('P7_b_17 ', 'Qlik Sense')\n",
      "('P7_b_18 ', 'Knime')\n",
      "('P7_b_19 ', 'Databricks')\n",
      "('P7_b_20 ', 'Não utilizo ferramentas de ETL')\n",
      "('P7_c ', 'Sua empresa utiliza alguma das ferramentas listadas para dar mais autonomia em análise de dados para as áreas de negócio?')\n",
      "('P7_c_1 ', 'Ferramentas de AutoML como H2O.ai, Data Robot, BigML etc.')\n",
      "('P7_c_2 ', '\"\"Point and Click\"\" Analytics como Alteryx, Knime, Rapidminer etc.')\n",
      "('P7_c_3 ', 'Product metricts & Insights como Mixpanel, Amplitude, Adobe Analytics.')\n",
      "('P7_c_4 ', 'Ferramentas de análise dentro de ferramentas de CRM como Salesforce Einstein Anaytics ou Zendesk dashboards.')\n",
      "('P7_c_5 ', 'Minha empresa não utiliza essas ferramentas.')\n",
      "('P7_c_6 ', 'Não sei informar.')\n",
      "('P7_d ', 'Em qual das opções abaixo você gasta a maior parte do seu tempo de trabalho?')\n",
      "('P7_d_1 ', 'Processando e analisando dados utilizando linguagens de programação como Python, R etc.')\n",
      "('P7_d_2 ', 'Realizando construções de dashboards em ferramentas de BI como PowerBI, Tableau, Looker, Qlik etc.')\n",
      "('P7_d_3 ', 'Criando consultas através da linguagem SQL para exportar informações e compartilhar com as áreas de negócio.')\n",
      "('P7_d_4 ', 'Utilizando API's para extrair dados e complementar minhas análises.')\n",
      "('P7_d_5 ', 'Realizando experimentos e estudos utilizando metodologias estatísticas como teste de hipótese, modelos de regressão etc.')\n",
      "('P7_d_6 ', 'Desenvolvendo/cuidando da manutenção de ETL's utilizando tecnologias como Talend, Pentaho, Airflow, Dataflow etc.')\n",
      "('P7_d_7 ', 'Atuando na modelagem dos dados, com o objetivo de criar conjuntos de dados, Data Warehouses, Data Marts etc.')\n",
      "('P7_d_8 ', 'Desenvolvendo/cuidando da manutenção de planilhas do Excel ou Google Sheets para atender as áreas de negócio.')\n",
      "('P7_d_9 ', 'Utilizando ferramentas avançadas de estatística como SAS, SPSS, Stata etc, para realizar análises.')\n",
      "('P7_d_10 ', 'Nenhuma das opções listadas refletem meu dia a dia.')\n",
      "('P8_a ', 'Quais das opções abaixo fazem parte da sua rotina no trabalho atual com ciência de dados?')\n",
      "('P8_a_1 ', 'Estudos Ad-hoc com o objetivo de confirmar hipóteses, realizar modelos preditivos, forecasts, análise de cluster para resolver problemas pontuais e responder perguntas das áreas de negócio.')\n",
      "('P8_a_2 ', 'Sou responsável pela coleta e limpeza dos dados que uso para análise e modelagem.')\n",
      "('P8_a_3 ', 'Sou responsável por entrar em contato com os times de negócio para definição do problema, identificar a solução e apresentação de resultados.')\n",
      "('P8_a_4 ', 'Desenvolvo modelos de Machine Learning com o objetivo de colocar em produção em sistemas (produtos de dados).')\n",
      "('P8_a_5 ', 'Sou responsável por colocar modelos em produção, criar os pipelines de dados, APIs de consumo e monitoramento.')\n",
      "('P8_a_6 ', 'Cuido da manutenção de modelos de Machine Learning já em produção, atuando no monitoramento, ajustes e refatoração quando necessário.')\n",
      "('P8_a_7 ', 'Realizo construções de dashboards em ferramentas de BI como PowerBI, Tableau, Looker, Qlik, etc')\n",
      "('P8_a_8 ', 'Utilizo ferramentas avançadas de estatística como SAS, SPSS, Stata etc, para realizar análises estatísticas e ajustar modelos.Crio e dou manutenção em ETLs, DAGs e automações de pipelines de dados.')\n",
      "('P8_a_9 ', 'Crio e dou manutenção em ETLs, DAGs e automações de pipelines de dados.')\n",
      "('P8_a_10 ', 'Crio e gerencio soluções de Feature Store e cultura de MLOps.')\n",
      "('P8_a_11 ', 'Sou responsável por criar e manter a infra que meus modelos e soluções rodam (clusters, servidores, API, containers, etc.)')\n",
      "('P8_b ', 'Quais as técnicas e métodos listados abaixo você costuma utilizar no trabalho?')\n",
      "('P8_b_1 ', 'Utilizo modelos de regressão (linear, logística, GLM)')\n",
      "('P8_b_2 ', 'Utilizo redes neurais ou modelos baseados em árvore para criar modelos de classificação')\n",
      "('P8_b_3 ', 'Desenvolvo sistemas de recomendação (RecSys)')\n",
      "('P8_b_4 ', 'Utilizo métodos estatísticos Bayesianos para analisar dados')\n",
      "('P8_b_5 ', 'Utilizo técnicas de NLP (Natural Language Processing) para análisar dados não-estruturados')\n",
      "('P8_b_6 ', 'Utilizo métodos estatísticos clássicos (Testes de hipótese, análise multivariada, sobrevivência, dados longitudinais, inferência estatistica) para analisar dados')\n",
      "('P8_b_7 ', 'Utilizo cadeias de Markov ou HMM's para realizar análises de dados')\n",
      "('P8_b_8 ', 'Desenvolvo técnicas de Clusterização (K-means, Spectral, DBScan etc)')\n",
      "('P8_b_9 ', 'Realizo previsões através de modelos de Séries Temporais (Time Series)')\n",
      "('P8_b_10 ', 'Utilizo modelos de Reinforcement Learning (aprendizado por reforço)')\n",
      "('P8_b_11 ', 'Utilizo modelos de Machine Learning para detecção de fraude')\n",
      "('P8_b_l ', 'Utilizo métodos de Visão Computacional')\n",
      "('P8_b_m ', 'Utilizo modelos de Detecção de Churn')\n",
      "('P8_3 ', 'Quais dessas tecnologias fazem parte do seu dia a dia como cientista de dados?')\n",
      "('P8_c_1 ', 'Ferramentas de BI (PowerBI, Looker, Tableau, Qlik etc)')\n",
      "('P8_c_2 ', 'Planilhas (Excel, Google Sheets etc)')\n",
      "('P8_c_3 ', 'Ambientes de desenvolvimento local (R-studio, JupyterLab, Anaconda)')\n",
      "('P8_c_4 ', 'Ambientes de desenvolvimento na nuvem (Google Colab, AWS Sagemaker, Kaggle Notebooks etc)')\n",
      "('P8_c_5 ', 'Ferramentas de AutoML (Datarobot, H2O, Auto-Keras etc)')\n",
      "('P8_c_6 ', 'Ferramentas de ETL (Apache Airflow, NiFi, Stitch, Fivetran, Pentaho etc)')\n",
      "('P8_c_7 ', 'Plataformas de Machine Learning (TensorFlow, Azure Machine Learning, Kubeflow etc)')\n",
      "('P8_c_8 ', 'Feature Store (Feast, Hopsworks, AWS Feature Store, Databricks Feature Store etc)')\n",
      "('P8_c_9 ', 'Sistemas de controle de versão (Github, DVC, Neptune, Gitlab etc)')\n",
      "('P8_c_10 ', 'Plataformas de Data Apps (Streamlit, Shiny, Plotly Dash etc)')\n",
      "('P8_c_11 ', 'Ferramentas de estatística avançada como SPSS, SAS, etc.')\n",
      "('P8_d ', 'Em qual das opções abaixo você gasta a maior parte do seu tempo no trabalho?')\n",
      "('P8_d_1 ', 'Estudos Ad-hoc com o objetivo de confirmar hipóteses, realizar modelos preditivos, forecasts, análise de cluster para resolver problemas pontuais e responder perguntas das áreas de negócio.')\n",
      "('P8_d_2 ', 'Coletando e limpando os dados que uso para análise e modelagem.')\n",
      "('P8_d_3 ', 'Entrando em contato com os times de negócio para definição do problema, identificar a solução e apresentação de resultados.')\n",
      "('P8_d_4 ', 'Desenvolvendo modelos de Machine Learning com o objetivo de colocar em produção em sistemas (produtos de dados).')\n",
      "('P8_d_5 ', 'Colocando modelos em produção, criando os pipelines de dados, APIs de consumo e monitoramento.')\n",
      "('P8_d_6 ', 'Cuidando da manutenção de modelos de Machine Learning já em produção, atuando no monitoramento, ajustes e refatoração quando necessário.')\n",
      "('P8_d_7 ', 'Realizando construções de dashboards em ferramentas de BI como PowerBI, Tableau, Looker, Qlik, etc.')\n",
      "('P8_d_8 ', 'Utilizando ferramentas avançadas de estatística como SAS, SPSS, Stata etc, para realizar análises.')\n",
      "('P8_d_9 ', 'Criando e dando manutenção em ETLs, DAGs e automações de pipelines de dados.')\n",
      "('P8_d_10 ', 'Criando e gerenciando soluções de Feature Store e cultura de MLOps.')\n",
      "('P8_d_11 ', 'Criando e mantendo a infra que meus modelos e soluções rodam (clusters, servidores, API, containers, etc.)')\n"
     ]
    }
   ],
   "source": [
    "for col in df_22.columns:\n",
    "    print(col)"
   ]
  },
  {
   "cell_type": "code",
   "execution_count": 23,
   "metadata": {},
   "outputs": [
    {
     "name": "stdout",
     "output_type": "stream",
     "text": [
      "('P0', 'id')\n",
      "('P1_a ', 'Idade')\n",
      "('P1_a_1 ', 'Faixa idade')\n",
      "('P1_b ', 'Genero')\n",
      "('P1_c ', 'Cor/raca/etnia')\n",
      "('P1_d ', 'PCD')\n",
      "('P1_e ', 'experiencia_profissional_prejudicada')\n",
      "('P1_e_1 ', 'Não acredito que minha experiência profissional seja afetada')\n",
      "('P1_e_2 ', 'Experiencia prejudicada devido a minha Cor Raça Etnia')\n",
      "('P1_e_3 ', 'Experiencia prejudicada devido a minha identidade de gênero')\n",
      "('P1_e_4 ', 'Experiencia prejudicada devido ao fato de ser PCD')\n",
      "('P1_f ', 'aspectos_prejudicados')\n",
      "('P1_f_1', 'Quantidade de oportunidades de emprego/vagas recebidas')\n",
      "('P1_f_2', 'Senioridade das vagas recebidas em relação à sua experiência')\n",
      "('P1_f_3', 'Aprovação em processos seletivos/entrevistas')\n",
      "('P1_f_4', 'Oportunidades de progressão de carreira')\n",
      "('P1_f_5', 'Velocidade de progressão de carreira')\n",
      "('P1_f_6', 'Nível de cobrança no trabalho/Stress no trabalho')\n",
      "('P1_f_7', 'Atenção dada diante das minhas opiniões e ideias')\n",
      "('P1_f_8', 'Relação com outros membros da empresa, em momentos de trabalho')\n",
      "('P1_f_9', 'Relação com outros membros da empresa, em momentos de integração e outros momentos fora do trabalho')\n",
      "('P1_g ', 'vive_no_brasil')\n",
      "('P1_i ', 'Estado onde mora')\n",
      "('P1_i_1 ', 'uf onde mora')\n",
      "('P1_i_2 ', 'Regiao onde mora')\n",
      "('P1_j ', 'Mudou de Estado?')\n",
      "('P1_k ', 'Regiao de origem')\n",
      "('P1_l ', 'Nivel de Ensino')\n",
      "('P1_m ', 'Área de Formação')\n",
      "('P2_a ', 'Qual sua situação atual de trabalho?')\n",
      "('P2_b ', 'Setor')\n",
      "('P2_c ', 'Numero de Funcionarios')\n",
      "('P2_d ', 'Gestor?')\n",
      "('P2_e ', 'Cargo como Gestor')\n",
      "('P2_f ', 'Cargo Atual')\n",
      "('P2_g ', 'Nivel')\n",
      "('P2_h ', 'Faixa salarial')\n",
      "('P2_i ', 'Quanto tempo de experiência na área de dados você tem?')\n",
      "('P2_j ', 'Quanto tempo de experiência na área de TI/Engenharia de Software você teve antes de começar a trabalhar na área de dados?')\n",
      "('P2_k ', 'Você está satisfeito na sua empresa atual?')\n",
      "('P2_l ', 'Qual o principal motivo da sua insatisfação com a empresa atual?')\n",
      "('P2_l_1 ', 'Falta de oportunidade de crescimento no emprego atual')\n",
      "('P2_l_2 ', 'Salário atual não corresponde ao mercado')\n",
      "('P2_l_3 ', 'Não tenho uma boa relação com meu líder/gestor')\n",
      "('P2_l_4 ', 'Gostaria de trabalhar em em outra área de atuação')\n",
      "('P2_l_5 ', 'Gostaria de receber mais benefícios')\n",
      "('P2_l_6 ', 'O clima de trabalho/ambiente não é bom')\n",
      "('P2_l_7 ', 'Falta de maturidade analítica na empresa')\n",
      "('P2_m ', 'Você participou de entrevistas de emprego nos últimos 6 meses?')\n",
      "('P2_n ', 'Você pretende mudar de emprego nos próximos 6 meses?')\n",
      "('P2_o ', 'Quais os principais critérios que você leva em consideração no momento de decidir onde trabalhar?')\n",
      "('P2_o_1 ', 'Remuneração/Salário')\n",
      "('P2_o_2 ', 'Benefícios')\n",
      "('P2_o_3 ', 'Propósito do trabalho e da empresa')\n",
      "('P2_o_4 ', 'Flexibilidade de trabalho remoto')\n",
      "('P2_o_5 ', 'Ambiente e clima de trabalho')\n",
      "('P2_o_6 ', 'Oportunidade de aprendizado e trabalhar com referências na área')\n",
      "('P2_o_7 ', 'Plano de carreira e oportunidades de crescimento profissional')\n",
      "('P2_o_8 ', 'Maturidade da empresa em termos de tecnologia e dados')\n",
      "('P2_o_9 ', 'Qualidade dos gestores e líderes')\n",
      "('P2_o_10 ', 'Reputação que a empresa tem no mercado')\n",
      "('P2_q ', 'Empresa que trabaha passou por layoff em 2023')\n",
      "('P2_r ', 'Atualmente qual a sua forma de trabalho?')\n",
      "('P2_s ', 'Qual a forma de trabalho ideal para você?')\n",
      "('P2_t ', 'Caso sua empresa decida pelo modelo 100% presencial qual será sua atitude?')\n",
      "('P3_a ', 'Qual o número aproximado de pessoas que atuam com dados na sua empresa hoje?')\n",
      "('P3_b ', 'Quais desses papéis/cargos fazem parte do time (ou chapter) de dados da sua empresa?')\n",
      "('P3_b_1 ', 'Analytics Engineer')\n",
      "('P3_b_2 ', 'Engenharia de Dados/Data Engineer')\n",
      "('P3_b_3 ', 'Analista de Dados/Data Analyst')\n",
      "('P3_b_4 ', 'Cientista de Dados/Data Scientist')\n",
      "('P3_b_5 ', 'Database Administrator/DBA')\n",
      "('P3_b_6 ', 'Analista de Business Intelligence/BI')\n",
      "('P3_b_7 ', 'Arquiteto de Dados/Data Architect')\n",
      "('P3_b_8 ', 'Data Product Manager/DPM')\n",
      "('P3_b_9 ', 'Business Analyst')\n",
      "('P3_c ', 'Quais dessas responsabilidades fazem parte da sua rotina atual de trabalho como gestor?')\n",
      "('P3_c_1 ', 'Pensar na visão de longo prazo de dados da empresa e fortalecimento da cultura analítica da companhia.')\n",
      "('P3_c_2 ', 'Organização de treinamentos e iniciativas com o objetivo de aumentar a maturidade analítica das áreas de negócios.')\n",
      "('P3_c_3 ', 'Atração, seleção e contratação de talentos para o time de dados.')\n",
      "('P3_c_4 ', 'Decisão sobre contratação de ferramentas e tecnologias relacionadas a dados.')\n",
      "('P3_c_5 ', 'Sou gestor da equipe responsável pela engenharia de dados e por manter o Data Lake da empresa como fonte única dos dados, garantindo a qualidade e confiabilidade da informação.')\n",
      "('P3_c_6 ', 'Sou gestor da equipe responsável pela entrega de dados, estudos, relatórios e dashboards para as áreas de negócio da empresa.')\n",
      "('P3_c_7 ', 'Sou gestor da equipe responsável por iniciativas e projetos envolvendo Inteligência Artificial e Machine Learning.')\n",
      "('P3_c_8 ', 'Apesar de ser gestor ainda atuo na parte técnica, construindo soluções/análises/modelos etc.')\n",
      "('P3_c_9 ', 'Gestão de projetos de dados, cuidando das etapas, equipes envolvidas, atingimento dos objetivos etc.')\n",
      "('P3_c_10 ', 'Gestão de produtos de dados, cuidando da visão dos produtos, backlog, feedback de usuários etc.')\n",
      "('P3_c_11 ', 'Gestão de pessoas, apoio no desenvolvimento das pessoas, evolução de carreira')\n",
      "('P3_d ', 'Quais são os 3 maiores desafios que você tem como gestor no atual momento?')\n",
      "('P3_d_1 ', 'a Contratar novos talentos.')\n",
      "('P3_d_2 ', 'b Reter talentos.')\n",
      "('P3_d_3 ', 'c Convencer a empresa a aumentar os investimentos na área de dados.')\n",
      "('P3_d_4 ', 'd Gestão de equipes no ambiente remoto.')\n",
      "('P3_d_5 ', 'e Gestão de projetos envolvendo áreas multidisciplinares da empresa.')\n",
      "('P3_d_6 ', 'f Organizar as informações e garantir a qualidade e confiabilidade.')\n",
      "('P3_d_7 ', 'g Conseguir processar e armazenar um alto volume de dados.')\n",
      "('P3_d_8 ', 'h Conseguir gerar valor para as áreas de negócios através de estudos e experimentos.')\n",
      "('P3_d_9 ', 'i Desenvolver e manter modelos Machine Learning em produção.')\n",
      "('P3_d_10 ', 'j Gerenciar a expectativa das áreas de negócio em relação as entregas das equipes de dados.')\n",
      "('P3_d_11 ', 'k Garantir a manutenção dos projetos e modelos em produção, em meio ao crescimento da empresa.')\n",
      "('P3_d_12 ', 'Conseguir levar inovação para a empresa através dos dados.')\n",
      "('P3_d_13 ', 'Garantir retorno do investimento (ROI) em projetos de dados.')\n",
      "('P3_d_14 ', 'Dividir o tempo entre entregas técnicas e gestão.')\n",
      "('P3_e ', 'AI Generativa é uma prioridade em sua empresa?')\n",
      "('P3_f ', 'Tipos de uso de AI Generativa e LLMs na empresa')\n",
      "('P3_f_1 ', 'Colaboradores usando AI generativa de forma independente e descentralizada')\n",
      "('P3_f_2 ', 'Direcionamento centralizado do uso de AI generativa')\n",
      "('P3_f_3 ', 'Desenvolvedores utilizando Copilots')\n",
      "('P3_f_4 ', 'AI Generativa e LLMs para melhorar produtos externos')\n",
      "('P3_f_5 ', 'AI Generativa e LLMs para melhorar produtos internos para os colaboradores')\n",
      "('P3_f_6 ', 'IA Generativa e LLMs como principal frente do negócio')\n",
      "('P3_f_7 ', 'IA Generativa e LLMs não é prioridade')\n",
      "('P3_f_8 ', 'Não sei opinar sobre o uso de IA Generativa e LLMs na empresa')\n",
      "('P3_g ', 'Motivos que levam a empresa a não usar AI Genrativa e LLMs')\n",
      "('P3_g_1 ', 'Falta de compreensão dos casos de uso')\n",
      "('P3_g_2 ', 'Falta de confiabilidade das saídas (alucinação dos modelos)')\n",
      "('P3_g_3 ', 'Incerteza em relação a regulamentação')\n",
      "('P3_g_4 ', 'Preocupações com segurança e privacidade de dados')\n",
      "('P3_g_5 ', 'Retorno sobre investimento (ROI) não comprovado de IA Generativa')\n",
      "('P3_g_6 ', 'Dados da empresa não estão prontos para uso de IA Generativa')\n",
      "('P3_g_7 ', 'Falta de expertise ou falta de recursos')\n",
      "('P3_g_8 ', 'Alta direção da empresa não vê valor ou não vê como prioridade')\n",
      "('P3_g_9 ', 'Preocupações com propriedade intelectual')\n",
      "('P4_a ', 'Mesmo que esse não seja seu cargo formal, você considera que sua atuação no dia a dia, reflete alguma das opções listadas abaixo?')\n",
      "('P4_a_1 ', 'Atuacao')\n",
      "('P4_b ', 'Quais das fontes de dados listadas você já analisou ou processou no trabalho?')\n",
      "('P4_b_1 ', 'Dados relacionais (estruturados em bancos SQL)')\n",
      "('P4_b_2 ', 'Dados armazenados em bancos NoSQL')\n",
      "('P4_b_3 ', 'Imagens')\n",
      "('P4_b_4 ', 'Textos/Documentos')\n",
      "('P4_b_5 ', 'Vídeos')\n",
      "('P4_b_6 ', 'Áudios')\n",
      "('P4_b_7 ', 'Planilhas')\n",
      "('P4_b_8 ', 'Dados georeferenciados')\n",
      "('P4_c ', 'Entre as fontes de dados listadas, quais você utiliza na maior parte do tempo?')\n",
      "('P4_c_1 ', 'Dados relacionais (estruturados em bancos SQL)')\n",
      "('P4_c_2 ', 'Dados armazenados em bancos NoSQL')\n",
      "('P4_c_3 ', 'Imagens')\n",
      "('P4_c_4 ', 'Textos/Documentos')\n",
      "('P4_c_5 ', 'Vídeos')\n",
      "('P4_c_6 ', 'Áudios')\n",
      "('P4_c_7 ', 'Planilhas')\n",
      "('P4_c_8 ', 'Dados georeferenciados')\n",
      "('P4_d ', 'Quais das linguagens listadas abaixo você utiliza no trabalho?')\n",
      "('P4_d_1 ', 'SQL')\n",
      "('P4_d_2 ', 'R ')\n",
      "('P4_d_3 ', 'Python')\n",
      "('P4_d_4 ', 'C/C++/C#')\n",
      "('P4_d_5 ', '.NET')\n",
      "('P4_d_6 ', 'Java')\n",
      "('P4_d_7 ', 'Julia')\n",
      "('P4_d_8 ', 'SAS/Stata')\n",
      "('P4_d_9 ', 'Visual Basic/VBA')\n",
      "('P4_d_10 ', 'Scala')\n",
      "('P4_d_11 ', 'Matlab')\n",
      "('P4_d_12 ', 'Rust')\n",
      "('P4_d_13 ', 'PHP')\n",
      "('P4_d_14 ', 'JavaScript')\n",
      "('P4_d_15 ', 'Não utilizo nenhuma linguagem')\n",
      "('P4_e ', 'Entre as linguagens listadas abaixo, qual é a que você mais utiliza no trabalho?')\n",
      "('P4_f ', 'Entre as linguagens listadas abaixo, qual é a sua preferida?')\n",
      "('P4_g ', 'Quais dos bancos de dados/fontes de dados listados abaixo você utiliza no trabalho?')\n",
      "('P4_g_1 ', 'MySQL')\n",
      "('P4_g_2 ', 'Oracle')\n",
      "('P4_g_3 ', 'SQL SERVER')\n",
      "('P4_g_4 ', 'Amazon Aurora ou RDS')\n",
      "('P4_g_5 ', 'DynamoDB')\n",
      "('P4_g_6 ', 'CoachDB')\n",
      "('P4_g_7 ', 'Cassandra')\n",
      "('P4_g_8 ', 'MongoDB')\n",
      "('P4_g_9 ', 'MariaDB')\n",
      "('P4_g_10 ', 'Datomic')\n",
      "('P4_g_11 ', 'S3')\n",
      "('P4_g_12 ', 'PostgreSQL')\n",
      "('P4_g_13 ', 'ElasticSearch')\n",
      "('P4_g_14 ', 'DB2')\n",
      "('P4_g_15 ', 'Microsoft Access')\n",
      "('P4_g_16 ', 'SQLite')\n",
      "('P4_g_17 ', 'Sybase')\n",
      "('P4_g_18 ', 'Firebase')\n",
      "('P4_g_19 ', 'Vertica')\n",
      "('P4_g_20 ', 'Redis')\n",
      "('P4_g_21 ', 'Neo4J')\n",
      "('P4_g_22 ', 'Google BigQuery')\n",
      "('P4_g_23 ', 'Google Firestore')\n",
      "('P4_g_24 ', 'Amazon Redshift')\n",
      "('P4_g_25 ', 'Amazon Athena')\n",
      "('P4_g_26 ', 'Snowflake')\n",
      "('P4_g_27 ', 'Databricks')\n",
      "('P4_g_28 ', 'HBase')\n",
      "('P4_g_29 ', 'Presto')\n",
      "('P4_g_30 ', 'Splunk')\n",
      "('P4_g_31 ', 'SAP HANA')\n",
      "('P4_g_32 ', 'Hive')\n",
      "('P4_g_33 ', 'Firebird')\n",
      "('P4_h ', 'Dentre as opções listadas, qual sua Cloud preferida?')\n",
      "('P4_h_1 ', 'Azure (Microsoft)')\n",
      "('P4_h_2 ', 'Amazon Web Services (AWS)')\n",
      "('P4_h_3 ', 'Google Cloud (GCP)')\n",
      "('P4_h_4 ', 'Oracle Cloud')\n",
      "('P4_h_5 ', 'IBM')\n",
      "('P4_h_6 ', 'Servidores On Premise/Não utilizamos Cloud')\n",
      "('P4_h_7 ', 'Cloud Própria')\n",
      "('P4_i ', 'Cloud preferida')\n",
      "('P4_j ', 'Ferramenta de BI utilizada no dia a dia')\n",
      "('P4_j_1 ', 'Microsoft PowerBI')\n",
      "('P4_j_2 ', 'Qlik View/Qlik Sense')\n",
      "('P4_j_3 ', 'Tableau')\n",
      "('P4_j_4 ', 'Metabase')\n",
      "('P4_j_5 ', 'Superset')\n",
      "('P4_j_6 ', 'Redash')\n",
      "('P4_j_7 ', 'Looker')\n",
      "('P4_j_8 ', 'Looker Studio(Google Data Studio)')\n",
      "('P4_j_9 ', 'Amazon Quicksight')\n",
      "('P4_j_10 ', 'Mode')\n",
      "('P4_j_11 ', 'Alteryx')\n",
      "('P4_j_12 ', 'MicroStrategy')\n",
      "('P4_j_13 ', 'IBM Analytics/Cognos')\n",
      "('P4_j_14 ', 'SAP Business Objects/SAP Analytics')\n",
      "('P4_j_15 ', 'Oracle Business Intelligence')\n",
      "('P4_j_16 ', 'Salesforce/Einstein Analytics')\n",
      "('P4_j_17 ', 'Birst')\n",
      "('P4_j_18 ', 'SAS Visual Analytics')\n",
      "('P4_j_19 ', 'Grafana')\n",
      "('P4_j_20 ', 'TIBCO Spotfire')\n",
      "('P4_j_21 ', 'Pentaho')\n",
      "('P4_j_22 ', 'Fazemos todas as análises utilizando apenas Excel ou planilhas do google')\n",
      "('P4_j_23 ', 'Não utilizo nenhuma ferramenta de BI no trabalho')\n",
      "('P4_k ', 'Qual sua ferramenta de BI preferida?')\n",
      "('P4_l ', 'Qual o tipo de uso de AI Generativa e LLMs na empresa')\n",
      "('P4_l_1 ', 'Colaboradores usando AI generativa de forma independente e descentralizada')\n",
      "('P4_l_2 ', 'Direcionamento centralizado do uso de AI generativa')\n",
      "('P4_l_3 ', 'Desenvolvedores utilizando Copilots')\n",
      "('P4_l_4 ', 'AI Generativa e LLMs para melhorar produtos externos para os clientes finais')\n",
      "('P4_l_5 ', 'AI Generativa e LLMs para melhorar produtos internos para os colaboradores')\n",
      "('P4_l_6 ', 'IA Generativa e LLMs como principal frente do negócio')\n",
      "('P4_l_7 ', 'IA Generativa e LLMs não é prioridade')\n",
      "('P4_l_8 ', 'Não sei opinar sobre o uso de IA Generativa e LLMs na empresa')\n",
      "('P4_m ', 'Utiliza ChatGPT ou LLMs no trabalho?')\n",
      "('P4_m_1 ', 'Não uso soluções de AI Generativa com foco em produtividade')\n",
      "('P4_m_2 ', 'Uso soluções gratuitas de AI Generativa com foco em produtividade')\n",
      "('P4_m_3 ', 'Uso e pago pelas soluções de AI Generativa com foco em produtividade')\n",
      "('P4_m_4 ', 'A empresa que trabalho paga pelas soluções de AI Generativa com foco em produtividade')\n",
      "('P4_m_5 ', 'Uso soluções do tipo Copilot')\n",
      "('P5_a ', 'Qual seu objetivo na área de dados?')\n",
      "('P5_b ', 'Qual oportunidade você está buscando?')\n",
      "('P5_c ', 'Há quanto tempo você busca uma oportunidade na área de dados?')\n",
      "('P5_d ', 'Como tem sido a busca por um emprego na área de dados?')\n",
      "('P6_a ', 'Quais das opções abaixo fazem parte da sua rotina no trabalho atual como engenheiro de dados?')\n",
      "('P6_a_1 ', 'Desenvolvo pipelines de dados utilizando linguagens de programação como Python, Scala, Java etc.')\n",
      "('P6_a_2 ', 'Realizo construções de ETL's em ferramentas como Pentaho, Talend, Dataflow etc.')\n",
      "('P6_a_3 ', 'Crio consultas através da linguagem SQL para exportar informações e compartilhar com as áreas de negócio.')\n",
      "('P6_a_4 ', 'Atuo na integração de diferentes fontes de dados através de plataformas proprietárias como Stitch Data, Fivetran etc.')\n",
      "('P6_a_5 ', 'Modelo soluções de arquitetura de dados, criando componentes de ingestão de dados, transformação e recuperação da informação.')\n",
      "('P6_a_6 ', 'Desenvolvo/cuido da manutenção de repositórios de dados baseados em streaming de eventos como Data Lakes e Data Lakehouses.')\n",
      "('P6_a_7 ', 'Atuo na modelagem dos dados, com o objetivo de criar conjuntos de dados como Data Warehouses, Data Marts etc.')\n",
      "('P6_a_8 ', 'Cuido da qualidade dos dados, metadados e dicionário de dados.')\n",
      "('P6_a_9 ', 'Nenhuma das opções listadas refletem meu dia a dia.')\n",
      "('P6_b ', 'Quais as ferramentas/tecnologias de ETL que você utiliza no trabalho como Data Engineer?')\n",
      "('P6_b_1 ', 'Scripts Python')\n",
      "('P6_b_2 ', 'SQL & Stored Procedures')\n",
      "('P6_b_3 ', 'Apache Airflow')\n",
      "('P6_b_4 ', 'Apache NiFi')\n",
      "('P6_b_5 ', 'Luigi')\n",
      "('P6_b_6 ', 'AWS Glue')\n",
      "('P6_b_7 ', 'Talend')\n",
      "('P6_b_8 ', 'Pentaho')\n",
      "('P6_b_9 ', 'Alteryx')\n",
      "('P6_b_10 ', 'Stitch')\n",
      "('P6_b_11 ', 'Fivetran')\n",
      "('P6_b_12 ', 'Google Dataflow')\n",
      "('P6_b_13 ', 'Oracle Data Integrator')\n",
      "('P6_b_14 ', 'IBM DataStage')\n",
      "('P6_b_15 ', 'SAP BW ETL')\n",
      "('P6_b_16 ', 'SQL Server Integration Services (SSIS))\n",
      "('P6_b_17 ', 'SAS Data Integration')\n",
      "('P6_b_18 ', 'Qlik Sense')\n",
      "('P6_b_19 ', 'Knime')\n",
      "('P6_b_20 ', 'Databricks')\n",
      "('P6_b_21 ', 'Não utilizo ferramentas de ETL')\n",
      "('P6_c ', 'Sua organização possui um Data Lake?')\n",
      "('P6_d ', 'Qual tecnologia utilizada como plataforma do Data Lake?')\n",
      "('P6_e ', 'Sua organização possui um Data Warehouse?')\n",
      "('P6_f ', 'Qual tecnologia utilizada como plataforma do Data Warehouse?')\n",
      "('P6_g ', 'Quais as ferramentas de gestão de Qualidade de dados, Metadados e catálogo de dados você utiliza no trabalho?')\n",
      "('P6_h ', 'Em qual das opções abaixo você gasta a maior parte do seu tempo?')\n",
      "('P6_h_1 ', 'Desenvolvendo pipelines de dados utilizando linguagens de programação como Python, Scala, Java etc.')\n",
      "('P6_h_2 ', 'Realizando construções de ETL's em ferramentas como Pentaho, Talend, Dataflow etc.')\n",
      "('P6_h_3 ', 'Criando consultas através da linguagem SQL para exportar informações e compartilhar com as áreas de negócio.')\n",
      "('P6_h_4 ', 'Atuando na integração de diferentes fontes de dados através de plataformas proprietárias como Stitch Data, Fivetran etc.')\n",
      "('P6_h_5 ', 'Modelando soluções de arquitetura de dados, criando componentes de ingestão de dados, transformação e recuperação da informação.')\n",
      "('P6_h_6 ', 'Desenvolvendo/cuidando da manutenção de repositórios de dados baseados em streaming de eventos como Data Lakes e Data Lakehouses.')\n",
      "('P6_h_7 ', 'Atuando na modelagem dos dados, com o objetivo de criar conjuntos de dados como Data Warehouses, Data Marts etc.')\n",
      "('P6_h_8 ', 'Cuidando da qualidade dos dados, metadados e dicionário de dados.')\n",
      "('P6_h_9 ', 'Nenhuma das opções listadas refletem meu dia a dia.')\n",
      "('P7_1 ', 'Quais das opções abaixo fazem parte da sua rotina no trabalho atual com análise de dados?')\n",
      "('P7_a_1 ', 'Processo e analiso dados utilizando linguagens de programação como Python, R etc.')\n",
      "('P7_a_2 ', 'Realizo construções de dashboards em ferramentas de BI como PowerBI, Tableau, Looker, Qlik etc.')\n",
      "('P7_a_3 ', 'Crio consultas através da linguagem SQL para exportar informações e compartilhar com as áreas de negócio.')\n",
      "('P7_a_4 ', 'Utilizo API's para extrair dados e complementar minhas análises.')\n",
      "('P7_a_5 ', 'Realizo experimentos e estudos utilizando metodologias estatísticas como teste de hipótese, modelos de regressão etc.')\n",
      "('P7_a_6 ', 'Desenvolvo/cuido da manutenção de ETL's utilizando tecnologias como Talend, Pentaho, Airflow, Dataflow etc.')\n",
      "('P7_a_7 ', 'Atuo na modelagem dos dados, com o objetivo de criar conjuntos de dados, Data Warehouses, Data Marts etc.')\n",
      "('P7_a_8 ', 'Desenvolvo/cuido da manutenção de planilhas para atender as áreas de negócio.')\n",
      "('P7_a_9 ', 'Utilizo ferramentas avançadas de estatística como SASS, PSS, Stata etc')\n",
      "('P7_a_10 ', 'Nenhuma das opções listadas refletem meu dia a dia.')\n",
      "('P7_b ', 'Quais as ferramentas/tecnologias de ETL que você utiliza no trabalho como Data Analyst?')\n",
      "('P7_b_1 ', 'Scripts Python')\n",
      "('P7_b_2 ', 'SQL & Stored Procedures')\n",
      "('P7_b_3 ', 'Apache Airflow')\n",
      "('P7_b_4 ', 'Apache NiFi')\n",
      "('P7_b_5 ', 'Luigi')\n",
      "('P7_b_6 ', 'AWS Glue')\n",
      "('P7_b_7 ', 'Talend')\n",
      "('P7_b_8 ', 'Pentaho')\n",
      "('P7_b_9 ', 'Alteryx')\n",
      "('P7_b_10 ', 'Stitch')\n",
      "('P7_b_11 ', 'Fivetran')\n",
      "('P7_b_12 ', 'Google Dataflow')\n",
      "('P7_b_13 ', 'Oracle Data Integrator')\n",
      "('P7_b_14 ', 'IBM DataStage')\n",
      "('P7_b_15 ', 'SAP BW ETL')\n",
      "('P7_b_16 ', 'SQL Server Integration Services (SSIS)')\n",
      "('P7_b_17 ', 'SAS Data Integration')\n",
      "('P7_b_18 ', 'Qlik Sense')\n",
      "('P7_b_19 ', 'Knime')\n",
      "('P7_b_20 ', 'Databricks')\n",
      "('P7_b_21 ', 'Não utilizo ferramentas de ETL')\n",
      "('P7_c ', 'Sua empresa utiliza alguma das ferramentas listadas para dar mais autonomia em análise de dados para as áreas de negócio?')\n",
      "('P7_c_1 ', 'Ferramentas de AutoML como H2O.ai, Data Robot, BigML etc.')\n",
      "('P7_c_2 ', '\"\"Point and Click\"\" Analytics como Alteryx, Knime, Rapidminer etc.')\n",
      "('P7_c_3 ', 'Product metricts & Insights como Mixpanel, Amplitude, Adobe Analytics.')\n",
      "('P7_c_4 ', 'Ferramentas de análise dentro de ferramentas de CRM como Salesforce Einstein Anaytics ou Zendesk dashboards.')\n",
      "('P7_c_5 ', 'Minha empresa não utiliza essas ferramentas.')\n",
      "('P7_c_6 ', 'Não sei informar.')\n",
      "('P7_d ', 'Em qual das opções abaixo você gasta a maior parte do seu tempo de trabalho?')\n",
      "('P7_d_1 ', 'Processando e analisando dados utilizando linguagens de programação como Python, R etc.')\n",
      "('P7_d_2 ', 'Realizando construções de dashboards em ferramentas de BI como PowerBI, Tableau, Looker, Qlik etc.')\n",
      "('P7_d_3 ', 'Criando consultas através da linguagem SQL para exportar informações e compartilhar com as áreas de negócio.')\n",
      "('P7_d_4 ', 'Utilizando API's para extrair dados e complementar minhas análises.')\n",
      "('P7_d_5 ', 'Realizando experimentos e estudos utilizando metodologias estatísticas como teste de hipótese, modelos de regressão etc.')\n",
      "('P7_d_6 ', 'Desenvolvendo/cuidando da manutenção de ETL's utilizando tecnologias como Talend, Pentaho, Airflow, Dataflow etc.')\n",
      "('P7_d_7 ', 'Atuando na modelagem dos dados, com o objetivo de criar conjuntos de dados, Data Warehouses, Data Marts etc.')\n",
      "('P7_d_8 ', 'Desenvolvendo/cuidando da manutenção de planilhas do Excel ou Google Sheets para atender as áreas de negócio.')\n",
      "('P7_d_9 ', 'Utilizando ferramentas avançadas de estatística como SAS, SPSS, Stata etc, para realizar análises.')\n",
      "('P7_d_10 ', 'Nenhuma das opções listadas refletem meu dia a dia.')\n",
      "('P8_a ', 'Quais das opções abaixo fazem parte da sua rotina no trabalho atual com ciência de dados?')\n",
      "('P8_a_1 ', 'Estudos Ad-hoc com o objetivo de confirmar hipóteses, realizar modelos preditivos, forecasts, análise de cluster para resolver problemas pontuais e responder perguntas das áreas de negócio.')\n",
      "('P8_a_2 ', 'Sou responsável pela coleta e limpeza dos dados que uso para análise e modelagem.')\n",
      "('P8_a_3 ', 'Sou responsável por entrar em contato com os times de negócio para definição do problema, identificar a solução e apresentação de resultados.')\n",
      "('P8_a_4 ', 'Desenvolvo modelos de Machine Learning com o objetivo de colocar em produção em sistemas (produtos de dados).')\n",
      "('P8_a_5 ', 'Sou responsável por colocar modelos em produção, criar os pipelines de dados, APIs de consumo e monitoramento.')\n",
      "('P8_a_6 ', 'Cuido da manutenção de modelos de Machine Learning já em produção, atuando no monitoramento, ajustes e refatoração quando necessário.')\n",
      "('P8_a_7 ', 'Realizo construções de dashboards em ferramentas de BI como PowerBI, Tableau, Looker, Qlik, etc')\n",
      "('P8_a_8 ', 'Utilizo ferramentas avançadas de estatística como SAS, SPSS, Stata etc, para realizar análises estatísticas e ajustar modelos.')\n",
      "('P8_a_9 ', 'Crio e dou manutenção em ETLs, DAGs e automações de pipelines de dados.')\n",
      "('P8_a_10 ', 'Crio e gerencio soluções de Feature Store e cultura de MLOps.')\n",
      "('P8_a_11 ', 'Sou responsável por criar e manter a infra que meus modelos e soluções rodam (clusters, servidores, API, containers, etc.)')\n",
      "('P8_a_12 ', 'Treino e aplico LLM's para solucionar problemas de negócio.')\n",
      "('P8_b ', 'Quais as técnicas e métodos listados abaixo você costuma utilizar no trabalho?')\n",
      "('P8_b_1 ', 'Utilizo modelos de regressão (linear, logística, GLM)')\n",
      "('P8_b_2 ', 'Utilizo redes neurais ou modelos baseados em árvore para criar modelos de classificação')\n",
      "('P8_b_3 ', 'Desenvolvo sistemas de recomendação (RecSys)')\n",
      "('P8_b_4 ', 'Utilizo métodos estatísticos Bayesianos para analisar dados')\n",
      "('P8_b_5 ', 'Utilizo técnicas de NLP (Natural Language Processing) para análisar dados não-estruturados')\n",
      "('P8_b_6 ', 'Utilizo métodos estatísticos clássicos (Testes de hipótese, análise multivariada, sobrevivência, dados longitudinais, inferência estatistica) para analisar dados')\n",
      "('P8_b_7 ', 'Utilizo cadeias de Markov ou HMM's para realizar análises de dados')\n",
      "('P8_b_8 ', 'Desenvolvo técnicas de Clusterização (K-means, Spectral, DBScan etc)')\n",
      "('P8_b_9 ', 'Realizo previsões através de modelos de Séries Temporais (Time Series)')\n",
      "('P8_b_10 ', 'Utilizo modelos de Reinforcement Learning (aprendizado por reforço)')\n",
      "('P8_b_11 ', 'Utilizo modelos de Machine Learning para detecção de fraude')\n",
      "('P8_b_12 ', 'Utilizo métodos de Visão Computacional')\n",
      "('P8_b_13 ', 'Utilizo modelos de Detecção de Churn')\n",
      "('P8_b_14 ', 'Utilizo LLM's para solucionar problemas de negócio')\n",
      "('P8_3 ', 'Quais dessas tecnologias fazem parte do seu dia a dia como cientista de dados?')\n",
      "('P8_c_1 ', 'Ferramentas de BI (PowerBI, Looker, Tableau, Qlik etc)')\n",
      "('P8_c_2 ', 'Planilhas (Excel, Google Sheets etc)')\n",
      "('P8_c_3 ', 'Ambientes de desenvolvimento local (R-studio, JupyterLab, Anaconda)')\n",
      "('P8_c_4 ', 'Ambientes de desenvolvimento na nuvem (Google Colab, AWS Sagemaker, Kaggle Notebooks etc)')\n",
      "('P8_c_5 ', 'Ferramentas de AutoML (Datarobot, H2O, Auto-Keras etc)')\n",
      "('P8_c_6 ', 'Ferramentas de ETL (Apache Airflow, NiFi, Stitch, Fivetran, Pentaho etc)')\n",
      "('P8_c_7 ', 'Plataformas de Machine Learning (TensorFlow, Azure Machine Learning, Kubeflow etc)')\n",
      "('P8_c_8 ', 'Feature Store (Feast, Hopsworks, AWS Feature Store, Databricks Feature Store etc)')\n",
      "('P8_c_9 ', 'Sistemas de controle de versão (Github, DVC, Neptune, Gitlab etc)')\n",
      "('P8_c_10 ', 'Plataformas de Data Apps (Streamlit, Shiny, Plotly Dash etc)')\n",
      "('P8_c_11 ', 'Ferramentas de estatística avançada como SPSS, SAS, etc.')\n",
      "('P8_d ', 'Em qual das opções abaixo você gasta a maior parte do seu tempo no trabalho?')\n",
      "('P8_d_1 ', 'Estudos Ad-hoc com o objetivo de confirmar hipóteses, realizar modelos preditivos, forecasts, análise de cluster para resolver problemas pontuais e responder perguntas das áreas de negócio.')\n",
      "('P8_d_2 ', 'Coletando e limpando os dados que uso para análise e modelagem.')\n",
      "('P8_d_3 ', 'Entrando em contato com os times de negócio para definição do problema, identificar a solução e apresentação de resultados.')\n",
      "('P8_d_4 ', 'Desenvolvendo modelos de Machine Learning com o objetivo de colocar em produção em sistemas (produtos de dados).')\n",
      "('P8_d_5 ', 'Colocando modelos em produção, criando os pipelines de dados, APIs de consumo e monitoramento.')\n",
      "('P8_d_6 ', 'Cuidando da manutenção de modelos de Machine Learning já em produção, atuando no monitoramento, ajustes e refatoração quando necessário.')\n",
      "('P8_d_7 ', 'Realizando construções de dashboards em ferramentas de BI como PowerBI, Tableau, Looker, Qlik, etc.')\n",
      "('P8_d_8 ', 'Utilizando ferramentas avançadas de estatística como SAS, SPSS, Stata etc, para realizar análises.')\n",
      "('P8_d_9 ', 'Criando e dando manutenção em ETLs, DAGs e automações de pipelines de dados.')\n",
      "('P8_d_10 ', 'Criando e gerenciando soluções de Feature Store e cultura de MLOps.')\n",
      "('P8_d_11 ', 'Criando e mantendo a infra que meus modelos e soluções rodam (clusters, servidores, API, containers, etc.)')\n",
      "('P8_d_12 ', 'Treinando e aplicando LLM's para solucionar problemas de negócio.')\n"
     ]
    }
   ],
   "source": [
    "for col in df_23.columns:\n",
    "    print(col)"
   ]
  },
  {
   "cell_type": "markdown",
   "metadata": {},
   "source": [
    "# Preparando dados: padronizar nomes das colunas, selecionar apenas as relevantes e juntar os 3 anos em um único df"
   ]
  },
  {
   "cell_type": "code",
   "execution_count": 24,
   "metadata": {},
   "outputs": [],
   "source": [
    "def load_data(dfs):\n",
    "    \"\"\"\n",
    "    Carrega e padroniza os datasets do State of Data e padroniza as colunas relacionadas a gênero.\n",
    "    \n",
    "    Args:\n",
    "        dfs: dicionário com ano como chave e DataFrame como valor\n",
    "        \n",
    "    Returns:\n",
    "        DataFrame unificado com os dados dos três anos\n",
    "    \"\"\"\n",
    "    datasets = dfs\n",
    "    \n",
    "    gender_columns = {\n",
    "        '2021': \"('P1_b ', 'Genero')\",\n",
    "        '2022': \"('P1_b ', 'Genero')\",\n",
    "        '2023': \"('P1_b ', 'Genero')\"\n",
    "    }\n",
    "    \n",
    "    column_mapping = {\n",
    "        # Dados demográficos - Categoria P1\n",
    "        '2021': {\n",
    "            'idade': \"('P1_a ', 'Idade')\",\n",
    "            'faixa_idade': \"('P1_a_a ', 'Faixa idade')\",\n",
    "            'genero': \"('P1_b ', 'Genero')\",\n",
    "            'estado': \"('P1_e ', 'Estado onde mora')\",\n",
    "            'uf': \"('P1_e_a ', 'uf onde mora')\",\n",
    "            'regiao': \"('P1_e_b ', 'Regiao onde mora')\",\n",
    "            'regiao_origem': \"('P1_g_b ', 'Regiao de origem')\",\n",
    "            'mudou_estado': \"('P1_g_c ', 'Mudou de Estado?')\",\n",
    "            'nivel_ensino': \"('P1_h ', 'Nivel de Ensino')\",\n",
    "            'area_formacao': \"('P1_i ', 'Área de Formação')\"\n",
    "        },\n",
    "        '2022': {\n",
    "            'idade': \"('P1_a ', 'Idade')\",\n",
    "            'faixa_idade': \"('P1_a_1 ', 'Faixa idade')\",\n",
    "            'genero': \"('P1_b ', 'Genero')\",\n",
    "            'estado': \"('P1_i ', 'Estado onde mora')\",\n",
    "            'uf': \"('P1_i_1 ', 'uf onde mora')\",\n",
    "            'regiao': \"('P1_i_2 ', 'Regiao onde mora')\",\n",
    "            'regiao_origem': \"('P1_k ', 'Regiao de origem')\",\n",
    "            'mudou_estado': \"('P1_j ', 'Mudou de Estado?')\",\n",
    "            'nivel_ensino': \"('P1_l ', 'Nivel de Ensino')\",\n",
    "            'area_formacao': \"('P1_m ', 'Área de Formação')\"\n",
    "        },\n",
    "        '2023': {\n",
    "            'idade': \"('P1_a ', 'Idade')\",\n",
    "            'faixa_idade': \"('P1_a_1 ', 'Faixa idade')\",\n",
    "            'genero': \"('P1_b ', 'Genero')\",\n",
    "            'estado': \"('P1_i ', 'Estado onde mora')\",\n",
    "            'uf': \"('P1_i_1 ', 'uf onde mora')\",\n",
    "            'regiao': \"('P1_i_2 ', 'Regiao onde mora')\",\n",
    "            'regiao_origem': \"('P1_k ', 'Regiao de origem')\",\n",
    "            'mudou_estado': \"('P1_j ', 'Mudou de Estado?')\",\n",
    "            'nivel_ensino': \"('P1_l ', 'Nivel de Ensino')\",\n",
    "            'area_formacao': \"('P1_m ', 'Área de Formação')\"\n",
    "        }\n",
    "    }\n",
    "    \n",
    "    # Colunas para informações profissionais \n",
    "    professional_columns = {\n",
    "    '2021': {\n",
    "        'situacao': \"('P2_a ', 'Qual sua situação atual de trabalho?')\",\n",
    "        'setor': \"('P2_b ', 'Setor')\",\n",
    "        'cargo': \"('P2_f ', 'Cargo Atual')\",\n",
    "        'nivel': \"('P2_g ', 'Nivel')\",\n",
    "        'faixa_salarial': \"('P2_h ', 'Faixa salarial')\",\n",
    "        'tempo_area_dados': \"('P2_i ', 'Quanto tempo de experiência na área de dados você tem?')\",\n",
    "        'tempo_area_ti': \"('P2_j ', 'Quanto tempo de experiência na área de TI/Engenharia de Software você teve antes de começar a trabalhar na área de dados?')\",\n",
    "        'modalidade': \"('P2_q ', 'Atualmente qual a sua forma de trabalho?')\"\n",
    "    },\n",
    "    '2022': {\n",
    "        'situacao': \"('P2_a ', 'Qual sua situação atual de trabalho?')\",\n",
    "        'setor': \"('P2_b ', 'Setor')\",\n",
    "        'cargo': \"('P2_f ', 'Cargo Atual')\",\n",
    "        'nivel': \"('P2_g ', 'Nivel')\",\n",
    "        'faixa_salarial': \"('P2_h ', 'Faixa salarial')\",\n",
    "        'tempo_area_dados': \"('P2_i ', 'Quanto tempo de experiência na área de dados você tem?')\",\n",
    "        'tempo_area_ti': \"('P2_j ', 'Quanto tempo de experiência na área de TI/Engenharia de Software você teve antes de começar a trabalhar na área de dados?')\",\n",
    "        'modalidade': \"('P2_p ', 'Atualmente qual a sua forma de trabalho?')\"\n",
    "    },\n",
    "    '2023': {\n",
    "        'situacao': \"('P2_a ', 'Qual sua situação atual de trabalho?')\",\n",
    "        'setor': \"('P2_b ', 'Setor')\",\n",
    "        'cargo': \"('P2_f ', 'Cargo Atual')\",\n",
    "        'nivel': \"('P2_g ', 'Nivel')\",\n",
    "        'faixa_salarial': \"('P2_h ', 'Faixa salarial')\",\n",
    "        'tempo_area_dados': \"('P2_i ', 'Quanto tempo de experiência na área de dados você tem?')\",\n",
    "        'tempo_area_ti': \"('P2_j ', 'Quanto tempo de experiência na área de TI/Engenharia de Software você teve antes de começar a trabalhar na área de dados?')\",\n",
    "        'modalidade': \"('P2_r ', 'Atualmente qual a sua forma de trabalho?')\"\n",
    "    }\n",
    "}\n",
    "    \n",
    "    # Aplicando mapeamento e selecionando colunas relevantes\n",
    "    processed_data = []\n",
    "    \n",
    "    for year, df in datasets.items():\n",
    "        # Adicionando a coluna ano_pesquisa se não existir\n",
    "        df['ano_pesquisa'] = year\n",
    "        \n",
    "        # Removendo linhas onde o gênero é \"Outro\"\n",
    "        gender_col = gender_columns[year]\n",
    "        df = df[df[gender_col] != \"Outro\"]\n",
    "\n",
    "        # Criando um novo DataFrame apenas com colunas relevantes\n",
    "        year_data = pd.DataFrame()\n",
    "        year_data['ano_pesquisa'] = df['ano_pesquisa']\n",
    "        \n",
    "        # Colunas demográficas\n",
    "        for new_col, old_col in column_mapping[year].items():\n",
    "            year_data[new_col] = df[old_col]\n",
    "        \n",
    "        # Colunas profissionais\n",
    "        for new_col, old_col in professional_columns[year].items():\n",
    "            year_data[new_col] = df[old_col]\n",
    "        \n",
    "        processed_data.append(year_data)\n",
    "    \n",
    "    # Combinando todos os datasets processados\n",
    "    combined_data = pd.concat(processed_data, ignore_index=True)\n",
    "    \n",
    "    return combined_data\n",
    "\n",
    "# Usando os DataFrames já carregados\n",
    "dfs = {\n",
    "    '2021': df_21,\n",
    "    '2022': df_22,\n",
    "    '2023': df_23\n",
    "}\n",
    "\n",
    "# Chamando a função para carregar e processar os dados\n",
    "df_unificado = load_data(dfs)\n"
   ]
  },
  {
   "cell_type": "code",
   "execution_count": 25,
   "metadata": {},
   "outputs": [],
   "source": [
    "# Ajustando Variáveis\n",
    "\n",
    "df_unificado[\"nivel_ensino\"] = df_unificado[\"nivel_ensino\"].replace({'Prefiro não informar': None})\n",
    "\n",
    "\n",
    "df_unificado[\"faixa_salarial\"] = df_unificado[\"faixa_salarial\"].replace({\n",
    "    'Menos de R$ 1.000/mês': \"R$1k\",\n",
    "    'de R$ 1.001/mês a R$ 2.000/mês': \"R$1k-2k\",\n",
    "    'de R$ 2.001/mês a R$ 3000/mês': \"R$2k-3k\",\n",
    "    'de R$ 3.001/mês a R$ 4.000/mês': \"R$3k-4k\", \n",
    "    'de R$ 4.001/mês a R$ 6.000/mês': \"R$4k-6k\",\n",
    "    'de R$ 6.001/mês a R$ 8.000/mês': \"R$6k-8k\",\n",
    "    'de R$ 8.001/mês a R$ 12.000/mês': \"R$8k-12k\",\n",
    "    'de R$ 12.001/mês a R$ 16.000/mês': \"R$12k-16k\",\n",
    "    'de R$ 16.001/mês a R$ 20.000/mês': \"R$16k-20k\",\n",
    "    'de R$ 20.001/mês a R$ 25.000/mês': \"R$20k-25k\",\n",
    "    'de R$ 25.001/mês a R$ 30.000/mês': \"R$25k-30k\",\n",
    "    'de R$ 30.001/mês a R$ 40.000/mês': \"R$30k-40k\",\n",
    "    'Acima de R$ 40.001/mês': \"R$40k\"\n",
    "})\n",
    "\n",
    "\n",
    "df_unificado[\"cargo\"] = df_unificado[\"cargo\"].replace({ \n",
    "    \"Cientista de Dados/Data Scientist\"                       : \"Cientista de Dados\",\n",
    "    \"Analista de BI/BI Analyst/Analytics Engineer\"            : \"Analista de BI\",\n",
    "    \"Analista de Dados/Data Analyst\"                          : \"Analista de Dados\",\n",
    "    \"Engenheiro de Dados/Data Engineer\"                       : \"Engenheiro de Dados\",\n",
    "    \"Outro\"                                                   : \"Outro\",\n",
    "    \"Analista de Negócios/Business Analyst\"                   : \"Analista de Negócios\",\n",
    "    \"Desenvolvedor ou Engenheiro de Software\"                 : \"Dev ou Engenheiro de Software\",\n",
    "    \"Engenheiro de Machine Learning/ML Engineer\"              : \"Engenheiro de Machine Learning\",\n",
    "    \"Outras Engenharias (não inclui dev)\"                     : \"Outras Engenharias (não inclui dev)\",\n",
    "    \"Estatístico\"                                             : \"Estatístico\",\n",
    "    \"Analista Administrativo\"                                 : \"Analista Administrativo\",\n",
    "    \"Analista de Inteligência de Mercado/Market Intelligence\" : \"Analista de Inteligência de Mercado\",\n",
    "    \"DBA/Administrador de Banco de Dados\"                     : \"Administrador de Banco de Dados\",\n",
    "    \"Analista de Sistemas/Analista de TI\"                     : \"Analista de Sistemas\",\n",
    "    \"Analista de Marketing\"                                   : \"Analista de Marketing\",\n",
    "    \"Técnico\"                                                 : \"Técnico\",\n",
    "    \"Suporte Técnico\"                                         : \"Suporte Técnico\",\n",
    "    \"Professor\"                                               : \"Professor\",\n",
    "    \"Arquiteto de Dados\"                                      : \"Arquiteto de Dados\",\n",
    "    \"Product Manager\"                                         : \"Product Manager\",\n",
    "    \"Arquiteto de dados\"                                      : \"Arquiteto de Dados\"\n",
    "})\n",
    "\n",
    "\n",
    "\n",
    "df_unificado[\"nivel_ensino\"] = df_unificado[\"nivel_ensino\"].astype('category')\n",
    "df_unificado[\"nivel_ensino\"] = df_unificado[\"nivel_ensino\"].cat.reorder_categories([\n",
    "    'Não tenho graduação formal', \n",
    "    'Estudante de Graduação',\n",
    "    'Graduação/Bacharelado', \n",
    "    'Pós-graduação',\n",
    "    'Mestrado',\n",
    "    'Doutorado ou Phd'\n",
    "])\n",
    "\n",
    "\n",
    "df_unificado[\"tempo_area_dados\"] = df_unificado[\"tempo_area_dados\"].astype('category')\n",
    "df_unificado[\"tempo_area_dados\"] = df_unificado[\"tempo_area_dados\"].cat.reorder_categories([\n",
    "    'Não tenho experiência na área de dados', \n",
    "    'Menos de 1 ano', \n",
    "    'de 1 a 2 anos', \n",
    "    'de 2 a 3 anos', \n",
    "    'de 3 a 4 anos', \n",
    "    'de 4 a 5 anos', \n",
    "    'de 4 a 6 anos', \n",
    "    'de 5 a 6 anos', \n",
    "    'de 6 a 10 anos', \n",
    "    'de 7 a 10 anos', \n",
    "    'Mais de 10 anos'])\n",
    "\n",
    "df_unificado[\"nivel\"] = df_unificado[\"nivel\"].astype('category')\n",
    "\n",
    "if 'Gestor' not in df_unificado[\"nivel\"].cat.categories:\n",
    "    df_unificado[\"nivel\"] = df_unificado[\"nivel\"].cat.add_categories(['Gestor'])\n",
    "    \n",
    "df_unificado.loc[(df_unificado[\"cargo\"] == \"Gestor\") & (df_unificado[\"nivel\"].isna()), \"nivel\"] = \"Gestor\"\n",
    "df_unificado[\"nivel\"] = df_unificado[\"nivel\"].cat.reorder_categories(['Júnior', 'Pleno', 'Sênior', 'Gestor'])\n",
    "\n",
    "\n",
    "\n",
    "# criando variavel \"desfecho\" para ser utilizada nos gráficos a seguir\n",
    "df_unificado = df_unificado[~df_unificado[\"genero\"].isin([\"Prefiro não informar\", \"Outro\"])]\n",
    "desfecho = \"genero\""
   ]
  },
  {
   "cell_type": "code",
   "execution_count": 26,
   "metadata": {},
   "outputs": [
    {
     "data": {
      "text/html": [
       "<div>\n",
       "<style scoped>\n",
       "    .dataframe tbody tr th:only-of-type {\n",
       "        vertical-align: middle;\n",
       "    }\n",
       "\n",
       "    .dataframe tbody tr th {\n",
       "        vertical-align: top;\n",
       "    }\n",
       "\n",
       "    .dataframe thead th {\n",
       "        text-align: right;\n",
       "    }\n",
       "</style>\n",
       "<table border=\"1\" class=\"dataframe\">\n",
       "  <thead>\n",
       "    <tr style=\"text-align: right;\">\n",
       "      <th></th>\n",
       "      <th>ano_pesquisa</th>\n",
       "      <th>idade</th>\n",
       "      <th>faixa_idade</th>\n",
       "      <th>genero</th>\n",
       "      <th>estado</th>\n",
       "      <th>uf</th>\n",
       "      <th>regiao</th>\n",
       "      <th>regiao_origem</th>\n",
       "      <th>mudou_estado</th>\n",
       "      <th>nivel_ensino</th>\n",
       "      <th>area_formacao</th>\n",
       "      <th>situacao</th>\n",
       "      <th>setor</th>\n",
       "      <th>cargo</th>\n",
       "      <th>nivel</th>\n",
       "      <th>faixa_salarial</th>\n",
       "      <th>tempo_area_dados</th>\n",
       "      <th>tempo_area_ti</th>\n",
       "      <th>modalidade</th>\n",
       "    </tr>\n",
       "  </thead>\n",
       "  <tbody>\n",
       "    <tr>\n",
       "      <th>0</th>\n",
       "      <td>2021</td>\n",
       "      <td>38.0</td>\n",
       "      <td>35-39</td>\n",
       "      <td>Masculino</td>\n",
       "      <td>Ceará (CE)</td>\n",
       "      <td>CE</td>\n",
       "      <td>Nordeste</td>\n",
       "      <td>NaN</td>\n",
       "      <td>0</td>\n",
       "      <td>Pós-graduação</td>\n",
       "      <td>Química / Física</td>\n",
       "      <td>Empregado (CLT)</td>\n",
       "      <td>Marketing</td>\n",
       "      <td>NaN</td>\n",
       "      <td>NaN</td>\n",
       "      <td>R$4k-6k</td>\n",
       "      <td>Mais de 10 anos</td>\n",
       "      <td>Não tive experiência na área de TI/Engenharia ...</td>\n",
       "      <td>Modelo 100% presencial</td>\n",
       "    </tr>\n",
       "    <tr>\n",
       "      <th>1</th>\n",
       "      <td>2021</td>\n",
       "      <td>39.0</td>\n",
       "      <td>35-39</td>\n",
       "      <td>Masculino</td>\n",
       "      <td>Bahia (BA)</td>\n",
       "      <td>BA</td>\n",
       "      <td>Nordeste</td>\n",
       "      <td>Sudeste</td>\n",
       "      <td>1</td>\n",
       "      <td>Pós-graduação</td>\n",
       "      <td>Economia/ Administração / Contabilidade / Fina...</td>\n",
       "      <td>Empreendedor ou Empregado (CNPJ)</td>\n",
       "      <td>Consultoria</td>\n",
       "      <td>NaN</td>\n",
       "      <td>NaN</td>\n",
       "      <td>R$6k-8k</td>\n",
       "      <td>de 2 a 3 anos</td>\n",
       "      <td>Não tive experiência na área de TI/Engenharia ...</td>\n",
       "      <td>Modelo híbrido flexível (o funcionário tem lib...</td>\n",
       "    </tr>\n",
       "    <tr>\n",
       "      <th>2</th>\n",
       "      <td>2021</td>\n",
       "      <td>30.0</td>\n",
       "      <td>30-34</td>\n",
       "      <td>Masculino</td>\n",
       "      <td>Santa Catarina (SC)</td>\n",
       "      <td>SC</td>\n",
       "      <td>Sul</td>\n",
       "      <td>NaN</td>\n",
       "      <td>0</td>\n",
       "      <td>Pós-graduação</td>\n",
       "      <td>Computação / Engenharia de Software / Sistemas...</td>\n",
       "      <td>Empregado (CLT)</td>\n",
       "      <td>Indústria</td>\n",
       "      <td>NaN</td>\n",
       "      <td>NaN</td>\n",
       "      <td>R$8k-12k</td>\n",
       "      <td>de 1 a 2 anos</td>\n",
       "      <td>de 2 a 3 anos</td>\n",
       "      <td>Modelo 100% presencial</td>\n",
       "    </tr>\n",
       "    <tr>\n",
       "      <th>3</th>\n",
       "      <td>2021</td>\n",
       "      <td>38.0</td>\n",
       "      <td>35-39</td>\n",
       "      <td>Feminino</td>\n",
       "      <td>São Paulo (SP)</td>\n",
       "      <td>SP</td>\n",
       "      <td>Sudeste</td>\n",
       "      <td>NaN</td>\n",
       "      <td>0</td>\n",
       "      <td>Pós-graduação</td>\n",
       "      <td>Outras</td>\n",
       "      <td>Empreendedor ou Empregado (CNPJ)</td>\n",
       "      <td>Serviços</td>\n",
       "      <td>NaN</td>\n",
       "      <td>NaN</td>\n",
       "      <td>R$12k-16k</td>\n",
       "      <td>Mais de 10 anos</td>\n",
       "      <td>Menos de 1 ano</td>\n",
       "      <td>Modelo 100% presencial</td>\n",
       "    </tr>\n",
       "    <tr>\n",
       "      <th>4</th>\n",
       "      <td>2021</td>\n",
       "      <td>36.0</td>\n",
       "      <td>35-39</td>\n",
       "      <td>Masculino</td>\n",
       "      <td>Santa Catarina (SC)</td>\n",
       "      <td>SC</td>\n",
       "      <td>Sul</td>\n",
       "      <td>NaN</td>\n",
       "      <td>0</td>\n",
       "      <td>Pós-graduação</td>\n",
       "      <td>Outras Engenharias</td>\n",
       "      <td>Empreendedor ou Empregado (CNPJ)</td>\n",
       "      <td>Varejo</td>\n",
       "      <td>NaN</td>\n",
       "      <td>NaN</td>\n",
       "      <td>R$8k-12k</td>\n",
       "      <td>de 1 a 2 anos</td>\n",
       "      <td>de 4 a 5 anos</td>\n",
       "      <td>Modelo 100% presencial</td>\n",
       "    </tr>\n",
       "  </tbody>\n",
       "</table>\n",
       "</div>"
      ],
      "text/plain": [
       "  ano_pesquisa  idade faixa_idade     genero               estado  uf  \\\n",
       "0         2021   38.0       35-39  Masculino           Ceará (CE)  CE   \n",
       "1         2021   39.0       35-39  Masculino           Bahia (BA)  BA   \n",
       "2         2021   30.0       30-34  Masculino  Santa Catarina (SC)  SC   \n",
       "3         2021   38.0       35-39   Feminino       São Paulo (SP)  SP   \n",
       "4         2021   36.0       35-39  Masculino  Santa Catarina (SC)  SC   \n",
       "\n",
       "     regiao regiao_origem mudou_estado   nivel_ensino  \\\n",
       "0  Nordeste           NaN            0  Pós-graduação   \n",
       "1  Nordeste       Sudeste            1  Pós-graduação   \n",
       "2       Sul           NaN            0  Pós-graduação   \n",
       "3   Sudeste           NaN            0  Pós-graduação   \n",
       "4       Sul           NaN            0  Pós-graduação   \n",
       "\n",
       "                                       area_formacao  \\\n",
       "0                                   Química / Física   \n",
       "1  Economia/ Administração / Contabilidade / Fina...   \n",
       "2  Computação / Engenharia de Software / Sistemas...   \n",
       "3                                             Outras   \n",
       "4                                 Outras Engenharias   \n",
       "\n",
       "                           situacao        setor cargo nivel faixa_salarial  \\\n",
       "0                   Empregado (CLT)    Marketing   NaN   NaN        R$4k-6k   \n",
       "1  Empreendedor ou Empregado (CNPJ)  Consultoria   NaN   NaN        R$6k-8k   \n",
       "2                   Empregado (CLT)    Indústria   NaN   NaN       R$8k-12k   \n",
       "3  Empreendedor ou Empregado (CNPJ)     Serviços   NaN   NaN      R$12k-16k   \n",
       "4  Empreendedor ou Empregado (CNPJ)       Varejo   NaN   NaN       R$8k-12k   \n",
       "\n",
       "  tempo_area_dados                                      tempo_area_ti  \\\n",
       "0  Mais de 10 anos  Não tive experiência na área de TI/Engenharia ...   \n",
       "1    de 2 a 3 anos  Não tive experiência na área de TI/Engenharia ...   \n",
       "2    de 1 a 2 anos                                      de 2 a 3 anos   \n",
       "3  Mais de 10 anos                                     Menos de 1 ano   \n",
       "4    de 1 a 2 anos                                      de 4 a 5 anos   \n",
       "\n",
       "                                          modalidade  \n",
       "0                             Modelo 100% presencial  \n",
       "1  Modelo híbrido flexível (o funcionário tem lib...  \n",
       "2                             Modelo 100% presencial  \n",
       "3                             Modelo 100% presencial  \n",
       "4                             Modelo 100% presencial  "
      ]
     },
     "execution_count": 26,
     "metadata": {},
     "output_type": "execute_result"
    }
   ],
   "source": [
    "df_unificado.head()"
   ]
  },
  {
   "cell_type": "markdown",
   "metadata": {},
   "source": [
    "# Visualizando os dados"
   ]
  },
  {
   "cell_type": "code",
   "execution_count": 43,
   "metadata": {},
   "outputs": [
    {
     "name": "stderr",
     "output_type": "stream",
     "text": [
      "C:\\Users\\julli\\AppData\\Local\\Temp\\ipykernel_22044\\960730213.py:5: FutureWarning:\n",
      "\n",
      "The default of observed=False is deprecated and will be changed to True in a future version of pandas. Pass observed=False to retain current behavior or observed=True to adopt the future default and silence this warning.\n",
      "\n"
     ]
    },
    {
     "data": {
      "application/vnd.plotly.v1+json": {
       "config": {
        "plotlyServerURL": "https://plot.ly"
       },
       "data": [
        {
         "marker": {
          "color": "#673147"
         },
         "name": "Feminino",
         "orientation": "h",
         "showlegend": true,
         "type": "bar",
         "x": [
          -5,
          -23,
          -83,
          -80,
          -97,
          -34,
          -16,
          -8,
          -4
         ],
         "xaxis": "x",
         "y": [
          "R$1k",
          "R$1k-2k",
          "R$4k-6k",
          "R$6k-8k",
          "R$8k-12k",
          "R$12k-16k",
          "R$16k-20k",
          "R$20k-25k",
          "R$25k-30k"
         ],
         "yaxis": "y"
        },
        {
         "marker": {
          "color": "#708090"
         },
         "name": "Masculino",
         "orientation": "h",
         "showlegend": true,
         "type": "bar",
         "x": [
          27,
          102,
          317,
          313,
          382,
          229,
          113,
          54,
          39
         ],
         "xaxis": "x",
         "y": [
          "R$1k",
          "R$1k-2k",
          "R$4k-6k",
          "R$6k-8k",
          "R$8k-12k",
          "R$12k-16k",
          "R$16k-20k",
          "R$20k-25k",
          "R$25k-30k"
         ],
         "yaxis": "y"
        },
        {
         "marker": {
          "color": "#673147"
         },
         "name": "Feminino",
         "orientation": "h",
         "showlegend": false,
         "type": "bar",
         "x": [
          -8,
          -49,
          -155,
          -145,
          -182,
          -93,
          -43,
          -21,
          -11
         ],
         "xaxis": "x2",
         "y": [
          "R$1k",
          "R$1k-2k",
          "R$4k-6k",
          "R$6k-8k",
          "R$8k-12k",
          "R$12k-16k",
          "R$16k-20k",
          "R$20k-25k",
          "R$25k-30k"
         ],
         "yaxis": "y2"
        },
        {
         "marker": {
          "color": "#708090"
         },
         "name": "Masculino",
         "orientation": "h",
         "showlegend": false,
         "type": "bar",
         "x": [
          26,
          165,
          429,
          380,
          565,
          344,
          184,
          113,
          66
         ],
         "xaxis": "x2",
         "y": [
          "R$1k",
          "R$1k-2k",
          "R$4k-6k",
          "R$6k-8k",
          "R$8k-12k",
          "R$12k-16k",
          "R$16k-20k",
          "R$20k-25k",
          "R$25k-30k"
         ],
         "yaxis": "y2"
        },
        {
         "marker": {
          "color": "#673147"
         },
         "name": "Feminino",
         "orientation": "h",
         "showlegend": false,
         "type": "bar",
         "x": [
          -10,
          -72,
          -181,
          -173,
          -242,
          -148,
          -56,
          -22,
          -18
         ],
         "xaxis": "x3",
         "y": [
          "R$1k",
          "R$1k-2k",
          "R$4k-6k",
          "R$6k-8k",
          "R$8k-12k",
          "R$12k-16k",
          "R$16k-20k",
          "R$20k-25k",
          "R$25k-30k"
         ],
         "yaxis": "y3"
        },
        {
         "marker": {
          "color": "#708090"
         },
         "name": "Masculino",
         "orientation": "h",
         "showlegend": false,
         "type": "bar",
         "x": [
          20,
          142,
          561,
          458,
          781,
          500,
          272,
          173,
          110
         ],
         "xaxis": "x3",
         "y": [
          "R$1k",
          "R$1k-2k",
          "R$4k-6k",
          "R$6k-8k",
          "R$8k-12k",
          "R$12k-16k",
          "R$16k-20k",
          "R$20k-25k",
          "R$25k-30k"
         ],
         "yaxis": "y3"
        }
       ],
       "layout": {
        "annotations": [
         {
          "font": {
           "size": 16
          },
          "showarrow": false,
          "text": "2021",
          "x": 0.14444444444444446,
          "xanchor": "center",
          "xref": "paper",
          "y": 1,
          "yanchor": "bottom",
          "yref": "paper"
         },
         {
          "font": {
           "size": 16
          },
          "showarrow": false,
          "text": "2022",
          "x": 0.5,
          "xanchor": "center",
          "xref": "paper",
          "y": 1,
          "yanchor": "bottom",
          "yref": "paper"
         },
         {
          "font": {
           "size": 16
          },
          "showarrow": false,
          "text": "2023",
          "x": 0.8555555555555556,
          "xanchor": "center",
          "xref": "paper",
          "y": 1,
          "yanchor": "bottom",
          "yref": "paper"
         }
        ],
        "barmode": "relative",
        "template": {
         "data": {
          "bar": [
           {
            "error_x": {
             "color": "#2a3f5f"
            },
            "error_y": {
             "color": "#2a3f5f"
            },
            "marker": {
             "line": {
              "color": "white",
              "width": 0.5
             },
             "pattern": {
              "fillmode": "overlay",
              "size": 10,
              "solidity": 0.2
             }
            },
            "type": "bar"
           }
          ],
          "barpolar": [
           {
            "marker": {
             "line": {
              "color": "white",
              "width": 0.5
             },
             "pattern": {
              "fillmode": "overlay",
              "size": 10,
              "solidity": 0.2
             }
            },
            "type": "barpolar"
           }
          ],
          "carpet": [
           {
            "aaxis": {
             "endlinecolor": "#2a3f5f",
             "gridcolor": "#C8D4E3",
             "linecolor": "#C8D4E3",
             "minorgridcolor": "#C8D4E3",
             "startlinecolor": "#2a3f5f"
            },
            "baxis": {
             "endlinecolor": "#2a3f5f",
             "gridcolor": "#C8D4E3",
             "linecolor": "#C8D4E3",
             "minorgridcolor": "#C8D4E3",
             "startlinecolor": "#2a3f5f"
            },
            "type": "carpet"
           }
          ],
          "choropleth": [
           {
            "colorbar": {
             "outlinewidth": 0,
             "ticks": ""
            },
            "type": "choropleth"
           }
          ],
          "contour": [
           {
            "colorbar": {
             "outlinewidth": 0,
             "ticks": ""
            },
            "colorscale": [
             [
              0,
              "#0d0887"
             ],
             [
              0.1111111111111111,
              "#46039f"
             ],
             [
              0.2222222222222222,
              "#7201a8"
             ],
             [
              0.3333333333333333,
              "#9c179e"
             ],
             [
              0.4444444444444444,
              "#bd3786"
             ],
             [
              0.5555555555555556,
              "#d8576b"
             ],
             [
              0.6666666666666666,
              "#ed7953"
             ],
             [
              0.7777777777777778,
              "#fb9f3a"
             ],
             [
              0.8888888888888888,
              "#fdca26"
             ],
             [
              1,
              "#f0f921"
             ]
            ],
            "type": "contour"
           }
          ],
          "contourcarpet": [
           {
            "colorbar": {
             "outlinewidth": 0,
             "ticks": ""
            },
            "type": "contourcarpet"
           }
          ],
          "heatmap": [
           {
            "colorbar": {
             "outlinewidth": 0,
             "ticks": ""
            },
            "colorscale": [
             [
              0,
              "#0d0887"
             ],
             [
              0.1111111111111111,
              "#46039f"
             ],
             [
              0.2222222222222222,
              "#7201a8"
             ],
             [
              0.3333333333333333,
              "#9c179e"
             ],
             [
              0.4444444444444444,
              "#bd3786"
             ],
             [
              0.5555555555555556,
              "#d8576b"
             ],
             [
              0.6666666666666666,
              "#ed7953"
             ],
             [
              0.7777777777777778,
              "#fb9f3a"
             ],
             [
              0.8888888888888888,
              "#fdca26"
             ],
             [
              1,
              "#f0f921"
             ]
            ],
            "type": "heatmap"
           }
          ],
          "heatmapgl": [
           {
            "colorbar": {
             "outlinewidth": 0,
             "ticks": ""
            },
            "colorscale": [
             [
              0,
              "#0d0887"
             ],
             [
              0.1111111111111111,
              "#46039f"
             ],
             [
              0.2222222222222222,
              "#7201a8"
             ],
             [
              0.3333333333333333,
              "#9c179e"
             ],
             [
              0.4444444444444444,
              "#bd3786"
             ],
             [
              0.5555555555555556,
              "#d8576b"
             ],
             [
              0.6666666666666666,
              "#ed7953"
             ],
             [
              0.7777777777777778,
              "#fb9f3a"
             ],
             [
              0.8888888888888888,
              "#fdca26"
             ],
             [
              1,
              "#f0f921"
             ]
            ],
            "type": "heatmapgl"
           }
          ],
          "histogram": [
           {
            "marker": {
             "pattern": {
              "fillmode": "overlay",
              "size": 10,
              "solidity": 0.2
             }
            },
            "type": "histogram"
           }
          ],
          "histogram2d": [
           {
            "colorbar": {
             "outlinewidth": 0,
             "ticks": ""
            },
            "colorscale": [
             [
              0,
              "#0d0887"
             ],
             [
              0.1111111111111111,
              "#46039f"
             ],
             [
              0.2222222222222222,
              "#7201a8"
             ],
             [
              0.3333333333333333,
              "#9c179e"
             ],
             [
              0.4444444444444444,
              "#bd3786"
             ],
             [
              0.5555555555555556,
              "#d8576b"
             ],
             [
              0.6666666666666666,
              "#ed7953"
             ],
             [
              0.7777777777777778,
              "#fb9f3a"
             ],
             [
              0.8888888888888888,
              "#fdca26"
             ],
             [
              1,
              "#f0f921"
             ]
            ],
            "type": "histogram2d"
           }
          ],
          "histogram2dcontour": [
           {
            "colorbar": {
             "outlinewidth": 0,
             "ticks": ""
            },
            "colorscale": [
             [
              0,
              "#0d0887"
             ],
             [
              0.1111111111111111,
              "#46039f"
             ],
             [
              0.2222222222222222,
              "#7201a8"
             ],
             [
              0.3333333333333333,
              "#9c179e"
             ],
             [
              0.4444444444444444,
              "#bd3786"
             ],
             [
              0.5555555555555556,
              "#d8576b"
             ],
             [
              0.6666666666666666,
              "#ed7953"
             ],
             [
              0.7777777777777778,
              "#fb9f3a"
             ],
             [
              0.8888888888888888,
              "#fdca26"
             ],
             [
              1,
              "#f0f921"
             ]
            ],
            "type": "histogram2dcontour"
           }
          ],
          "mesh3d": [
           {
            "colorbar": {
             "outlinewidth": 0,
             "ticks": ""
            },
            "type": "mesh3d"
           }
          ],
          "parcoords": [
           {
            "line": {
             "colorbar": {
              "outlinewidth": 0,
              "ticks": ""
             }
            },
            "type": "parcoords"
           }
          ],
          "pie": [
           {
            "automargin": true,
            "type": "pie"
           }
          ],
          "scatter": [
           {
            "fillpattern": {
             "fillmode": "overlay",
             "size": 10,
             "solidity": 0.2
            },
            "type": "scatter"
           }
          ],
          "scatter3d": [
           {
            "line": {
             "colorbar": {
              "outlinewidth": 0,
              "ticks": ""
             }
            },
            "marker": {
             "colorbar": {
              "outlinewidth": 0,
              "ticks": ""
             }
            },
            "type": "scatter3d"
           }
          ],
          "scattercarpet": [
           {
            "marker": {
             "colorbar": {
              "outlinewidth": 0,
              "ticks": ""
             }
            },
            "type": "scattercarpet"
           }
          ],
          "scattergeo": [
           {
            "marker": {
             "colorbar": {
              "outlinewidth": 0,
              "ticks": ""
             }
            },
            "type": "scattergeo"
           }
          ],
          "scattergl": [
           {
            "marker": {
             "colorbar": {
              "outlinewidth": 0,
              "ticks": ""
             }
            },
            "type": "scattergl"
           }
          ],
          "scattermapbox": [
           {
            "marker": {
             "colorbar": {
              "outlinewidth": 0,
              "ticks": ""
             }
            },
            "type": "scattermapbox"
           }
          ],
          "scatterpolar": [
           {
            "marker": {
             "colorbar": {
              "outlinewidth": 0,
              "ticks": ""
             }
            },
            "type": "scatterpolar"
           }
          ],
          "scatterpolargl": [
           {
            "marker": {
             "colorbar": {
              "outlinewidth": 0,
              "ticks": ""
             }
            },
            "type": "scatterpolargl"
           }
          ],
          "scatterternary": [
           {
            "marker": {
             "colorbar": {
              "outlinewidth": 0,
              "ticks": ""
             }
            },
            "type": "scatterternary"
           }
          ],
          "surface": [
           {
            "colorbar": {
             "outlinewidth": 0,
             "ticks": ""
            },
            "colorscale": [
             [
              0,
              "#0d0887"
             ],
             [
              0.1111111111111111,
              "#46039f"
             ],
             [
              0.2222222222222222,
              "#7201a8"
             ],
             [
              0.3333333333333333,
              "#9c179e"
             ],
             [
              0.4444444444444444,
              "#bd3786"
             ],
             [
              0.5555555555555556,
              "#d8576b"
             ],
             [
              0.6666666666666666,
              "#ed7953"
             ],
             [
              0.7777777777777778,
              "#fb9f3a"
             ],
             [
              0.8888888888888888,
              "#fdca26"
             ],
             [
              1,
              "#f0f921"
             ]
            ],
            "type": "surface"
           }
          ],
          "table": [
           {
            "cells": {
             "fill": {
              "color": "#EBF0F8"
             },
             "line": {
              "color": "white"
             }
            },
            "header": {
             "fill": {
              "color": "#C8D4E3"
             },
             "line": {
              "color": "white"
             }
            },
            "type": "table"
           }
          ]
         },
         "layout": {
          "annotationdefaults": {
           "arrowcolor": "#2a3f5f",
           "arrowhead": 0,
           "arrowwidth": 1
          },
          "autotypenumbers": "strict",
          "coloraxis": {
           "colorbar": {
            "outlinewidth": 0,
            "ticks": ""
           }
          },
          "colorscale": {
           "diverging": [
            [
             0,
             "#8e0152"
            ],
            [
             0.1,
             "#c51b7d"
            ],
            [
             0.2,
             "#de77ae"
            ],
            [
             0.3,
             "#f1b6da"
            ],
            [
             0.4,
             "#fde0ef"
            ],
            [
             0.5,
             "#f7f7f7"
            ],
            [
             0.6,
             "#e6f5d0"
            ],
            [
             0.7,
             "#b8e186"
            ],
            [
             0.8,
             "#7fbc41"
            ],
            [
             0.9,
             "#4d9221"
            ],
            [
             1,
             "#276419"
            ]
           ],
           "sequential": [
            [
             0,
             "#0d0887"
            ],
            [
             0.1111111111111111,
             "#46039f"
            ],
            [
             0.2222222222222222,
             "#7201a8"
            ],
            [
             0.3333333333333333,
             "#9c179e"
            ],
            [
             0.4444444444444444,
             "#bd3786"
            ],
            [
             0.5555555555555556,
             "#d8576b"
            ],
            [
             0.6666666666666666,
             "#ed7953"
            ],
            [
             0.7777777777777778,
             "#fb9f3a"
            ],
            [
             0.8888888888888888,
             "#fdca26"
            ],
            [
             1,
             "#f0f921"
            ]
           ],
           "sequentialminus": [
            [
             0,
             "#0d0887"
            ],
            [
             0.1111111111111111,
             "#46039f"
            ],
            [
             0.2222222222222222,
             "#7201a8"
            ],
            [
             0.3333333333333333,
             "#9c179e"
            ],
            [
             0.4444444444444444,
             "#bd3786"
            ],
            [
             0.5555555555555556,
             "#d8576b"
            ],
            [
             0.6666666666666666,
             "#ed7953"
            ],
            [
             0.7777777777777778,
             "#fb9f3a"
            ],
            [
             0.8888888888888888,
             "#fdca26"
            ],
            [
             1,
             "#f0f921"
            ]
           ]
          },
          "colorway": [
           "#636efa",
           "#EF553B",
           "#00cc96",
           "#ab63fa",
           "#FFA15A",
           "#19d3f3",
           "#FF6692",
           "#B6E880",
           "#FF97FF",
           "#FECB52"
          ],
          "font": {
           "color": "#2a3f5f"
          },
          "geo": {
           "bgcolor": "white",
           "lakecolor": "white",
           "landcolor": "white",
           "showlakes": true,
           "showland": true,
           "subunitcolor": "#C8D4E3"
          },
          "hoverlabel": {
           "align": "left"
          },
          "hovermode": "closest",
          "mapbox": {
           "style": "light"
          },
          "paper_bgcolor": "white",
          "plot_bgcolor": "white",
          "polar": {
           "angularaxis": {
            "gridcolor": "#EBF0F8",
            "linecolor": "#EBF0F8",
            "ticks": ""
           },
           "bgcolor": "white",
           "radialaxis": {
            "gridcolor": "#EBF0F8",
            "linecolor": "#EBF0F8",
            "ticks": ""
           }
          },
          "scene": {
           "xaxis": {
            "backgroundcolor": "white",
            "gridcolor": "#DFE8F3",
            "gridwidth": 2,
            "linecolor": "#EBF0F8",
            "showbackground": true,
            "ticks": "",
            "zerolinecolor": "#EBF0F8"
           },
           "yaxis": {
            "backgroundcolor": "white",
            "gridcolor": "#DFE8F3",
            "gridwidth": 2,
            "linecolor": "#EBF0F8",
            "showbackground": true,
            "ticks": "",
            "zerolinecolor": "#EBF0F8"
           },
           "zaxis": {
            "backgroundcolor": "white",
            "gridcolor": "#DFE8F3",
            "gridwidth": 2,
            "linecolor": "#EBF0F8",
            "showbackground": true,
            "ticks": "",
            "zerolinecolor": "#EBF0F8"
           }
          },
          "shapedefaults": {
           "line": {
            "color": "#2a3f5f"
           }
          },
          "ternary": {
           "aaxis": {
            "gridcolor": "#DFE8F3",
            "linecolor": "#A2B1C6",
            "ticks": ""
           },
           "baxis": {
            "gridcolor": "#DFE8F3",
            "linecolor": "#A2B1C6",
            "ticks": ""
           },
           "bgcolor": "white",
           "caxis": {
            "gridcolor": "#DFE8F3",
            "linecolor": "#A2B1C6",
            "ticks": ""
           }
          },
          "title": {
           "x": 0.05
          },
          "xaxis": {
           "automargin": true,
           "gridcolor": "#EBF0F8",
           "linecolor": "#EBF0F8",
           "ticks": "",
           "title": {
            "standoff": 15
           },
           "zerolinecolor": "#EBF0F8",
           "zerolinewidth": 2
          },
          "yaxis": {
           "automargin": true,
           "gridcolor": "#EBF0F8",
           "linecolor": "#EBF0F8",
           "ticks": "",
           "title": {
            "standoff": 15
           },
           "zerolinecolor": "#EBF0F8",
           "zerolinewidth": 2
          }
         }
        },
        "title": {
         "text": "Distribuição Salarial por Gênero (2021-2023)"
        },
        "xaxis": {
         "anchor": "y",
         "domain": [
          0,
          0.2888888888888889
         ],
         "title": {
          "text": "Quantidade de pessoas"
         }
        },
        "xaxis2": {
         "anchor": "y2",
         "domain": [
          0.35555555555555557,
          0.6444444444444445
         ]
        },
        "xaxis3": {
         "anchor": "y3",
         "domain": [
          0.7111111111111111,
          1
         ]
        },
        "yaxis": {
         "anchor": "x",
         "domain": [
          0,
          1
         ],
         "title": {
          "text": "Faixa Salarial"
         }
        },
        "yaxis2": {
         "anchor": "x2",
         "domain": [
          0,
          1
         ],
         "matches": "y",
         "showticklabels": false
        },
        "yaxis3": {
         "anchor": "x3",
         "domain": [
          0,
          1
         ],
         "matches": "y",
         "showticklabels": false
        }
       }
      }
     },
     "metadata": {},
     "output_type": "display_data"
    }
   ],
   "source": [
    "import plotly.graph_objects as go\n",
    "from plotly.subplots import make_subplots\n",
    "\n",
    "# Criando um DataFrame agrupado para contar quantas pessoas há por faixa salarial e gênero\n",
    "df_grouped = df_unificado.groupby([\"ano_pesquisa\", \"faixa_salarial\", \"genero\"]).size().reset_index(name=\"count\")\n",
    "\n",
    "# Criando a figura com subplots\n",
    "fig = make_subplots(rows=1, cols=3, shared_yaxes=True, subplot_titles=[\"2021\", \"2022\", \"2023\"])\n",
    "\n",
    "anos = ['2021', '2022', '2023']\n",
    "cores = {\"Masculino\": \"#708090\", \"Feminino\": \"#673147\"}\n",
    "\n",
    "for i, ano in enumerate(anos):\n",
    "    # Filtrando dados do ano atual\n",
    "    df_plot = df_grouped[df_grouped[\"ano_pesquisa\"] == ano].pivot(index=\"faixa_salarial\", columns=\"genero\", values=\"count\").fillna(0)\n",
    "\n",
    "    # Garantindo que as colunas existam, preenchendo com 0 se necessário\n",
    "    for genero in [\"Masculino\", \"Feminino\"]:\n",
    "        if genero not in df_plot.columns:\n",
    "            df_plot[genero] = 0\n",
    "    \n",
    "    # Filtrando faixas que têm pelo menos um registro (soma das colunas > 0)\n",
    "    df_plot = df_plot[(df_plot[\"Masculino\"] > 0) | (df_plot[\"Feminino\"] > 0)]\n",
    "    \n",
    "    # Se não houver dados, continue para o próximo ano\n",
    "    if df_plot.empty:\n",
    "        continue\n",
    "    \n",
    "    # Adicionando barras para Feminino (negativo para inverter no gráfico)\n",
    "    fig.add_trace(go.Bar(\n",
    "        y=df_plot.index,\n",
    "        x=-df_plot[\"Feminino\"],\n",
    "        name=\"Feminino\",\n",
    "        orientation=\"h\",\n",
    "        marker=dict(color=cores[\"Feminino\"]),\n",
    "        showlegend=True if i == 0 else False\n",
    "    ), row=1, col=i+1)\n",
    "\n",
    "    # Adicionando barras para Masculino\n",
    "    fig.add_trace(go.Bar(\n",
    "        y=df_plot.index,\n",
    "        x=df_plot[\"Masculino\"],\n",
    "        name=\"Masculino\",\n",
    "        orientation=\"h\",\n",
    "        marker=dict(color=cores[\"Masculino\"]),\n",
    "        showlegend=True if i == 0 else False\n",
    "    ), row=1, col=i+1)\n",
    "\n",
    "# Configurando layout\n",
    "fig.update_layout(\n",
    "    title=\"Distribuição Salarial por Gênero (2021-2023)\",\n",
    "    xaxis_title=\"Quantidade de pessoas\",\n",
    "    yaxis_title=\"Faixa Salarial\",\n",
    "    barmode=\"relative\",\n",
    "    template=\"plotly_white\"\n",
    ")\n",
    "\n",
    "fig.show()"
   ]
  },
  {
   "cell_type": "code",
   "execution_count": 45,
   "metadata": {},
   "outputs": [
    {
     "name": "stderr",
     "output_type": "stream",
     "text": [
      "C:\\Users\\julli\\AppData\\Local\\Temp\\ipykernel_22044\\3178381669.py:7: FutureWarning:\n",
      "\n",
      "The default of observed=False is deprecated and will be changed to True in a future version of pandas. Pass observed=False to retain current behavior or observed=True to adopt the future default and silence this warning.\n",
      "\n"
     ]
    },
    {
     "data": {
      "application/vnd.plotly.v1+json": {
       "config": {
        "plotlyServerURL": "https://plot.ly"
       },
       "data": [
        {
         "marker": {
          "color": "#673147"
         },
         "name": "Feminino",
         "orientation": "h",
         "showlegend": true,
         "text": [
          "29.2%",
          "26.6%",
          "19.1%"
         ],
         "textposition": "outside",
         "type": "bar",
         "x": [
          -29.20892494929006,
          -26.57200811359026,
          -19.066937119675455
         ],
         "xaxis": "x",
         "y": [
          "Júnior",
          "Pleno",
          "Sênior"
         ],
         "yaxis": "y"
        },
        {
         "marker": {
          "color": "#708090"
         },
         "name": "Masculino",
         "orientation": "h",
         "showlegend": true,
         "text": [
          "22.1%",
          "24.5%",
          "22.6%"
         ],
         "textposition": "outside",
         "type": "bar",
         "x": [
          22.108208955223883,
          24.486940298507463,
          22.574626865671643
         ],
         "xaxis": "x",
         "y": [
          "Júnior",
          "Pleno",
          "Sênior"
         ],
         "yaxis": "y"
        },
        {
         "marker": {
          "color": "#673147"
         },
         "name": "Feminino",
         "orientation": "h",
         "showlegend": false,
         "text": [
          "25.8%",
          "27.9%",
          "17.7%"
         ],
         "textposition": "outside",
         "type": "bar",
         "x": [
          -25.757575757575758,
          -27.935606060606062,
          -17.708333333333336
         ],
         "xaxis": "x2",
         "y": [
          "Júnior",
          "Pleno",
          "Sênior"
         ],
         "yaxis": "y2"
        },
        {
         "marker": {
          "color": "#708090"
         },
         "name": "Masculino",
         "orientation": "h",
         "showlegend": false,
         "text": [
          "23.3%",
          "23.8%",
          "22.2%"
         ],
         "textposition": "outside",
         "type": "bar",
         "x": [
          23.262366938008768,
          23.794614902943017,
          22.197871008140265
         ],
         "xaxis": "x2",
         "y": [
          "Júnior",
          "Pleno",
          "Sênior"
         ],
         "yaxis": "y2"
        },
        {
         "marker": {
          "color": "#673147"
         },
         "name": "Feminino",
         "orientation": "h",
         "showlegend": false,
         "text": [
          "23.1%",
          "26.1%",
          "23.7%"
         ],
         "textposition": "outside",
         "type": "bar",
         "x": [
          -23.124516627996908,
          -26.063418406805877,
          -23.74323279195669
         ],
         "xaxis": "x3",
         "y": [
          "Júnior",
          "Pleno",
          "Sênior"
         ],
         "yaxis": "y3"
        },
        {
         "marker": {
          "color": "#708090"
         },
         "name": "Masculino",
         "orientation": "h",
         "showlegend": false,
         "text": [
          "18.7%",
          "26.3%",
          "27.8%"
         ],
         "textposition": "outside",
         "type": "bar",
         "x": [
          18.69182389937107,
          26.339622641509436,
          27.82389937106918
         ],
         "xaxis": "x3",
         "y": [
          "Júnior",
          "Pleno",
          "Sênior"
         ],
         "yaxis": "y3"
        }
       ],
       "layout": {
        "annotations": [
         {
          "font": {
           "size": 16
          },
          "showarrow": false,
          "text": "2021",
          "x": 0.14444444444444446,
          "xanchor": "center",
          "xref": "paper",
          "y": 1,
          "yanchor": "bottom",
          "yref": "paper"
         },
         {
          "font": {
           "size": 16
          },
          "showarrow": false,
          "text": "2022",
          "x": 0.5,
          "xanchor": "center",
          "xref": "paper",
          "y": 1,
          "yanchor": "bottom",
          "yref": "paper"
         },
         {
          "font": {
           "size": 16
          },
          "showarrow": false,
          "text": "2023",
          "x": 0.8555555555555556,
          "xanchor": "center",
          "xref": "paper",
          "y": 1,
          "yanchor": "bottom",
          "yref": "paper"
         }
        ],
        "barmode": "relative",
        "shapes": [
         {
          "line": {
           "color": "black",
           "dash": "dot",
           "width": 1
          },
          "type": "line",
          "x0": 0,
          "x1": 0,
          "xref": "x",
          "y0": -0.5,
          "y1": 2.5,
          "yref": "y"
         },
         {
          "line": {
           "color": "black",
           "dash": "dot",
           "width": 1
          },
          "type": "line",
          "x0": 0,
          "x1": 0,
          "xref": "x2",
          "y0": -0.5,
          "y1": 2.5,
          "yref": "y2"
         },
         {
          "line": {
           "color": "black",
           "dash": "dot",
           "width": 1
          },
          "type": "line",
          "x0": 0,
          "x1": 0,
          "xref": "x3",
          "y0": -0.5,
          "y1": 2.5,
          "yref": "y3"
         }
        ],
        "template": {
         "data": {
          "bar": [
           {
            "error_x": {
             "color": "#2a3f5f"
            },
            "error_y": {
             "color": "#2a3f5f"
            },
            "marker": {
             "line": {
              "color": "white",
              "width": 0.5
             },
             "pattern": {
              "fillmode": "overlay",
              "size": 10,
              "solidity": 0.2
             }
            },
            "type": "bar"
           }
          ],
          "barpolar": [
           {
            "marker": {
             "line": {
              "color": "white",
              "width": 0.5
             },
             "pattern": {
              "fillmode": "overlay",
              "size": 10,
              "solidity": 0.2
             }
            },
            "type": "barpolar"
           }
          ],
          "carpet": [
           {
            "aaxis": {
             "endlinecolor": "#2a3f5f",
             "gridcolor": "#C8D4E3",
             "linecolor": "#C8D4E3",
             "minorgridcolor": "#C8D4E3",
             "startlinecolor": "#2a3f5f"
            },
            "baxis": {
             "endlinecolor": "#2a3f5f",
             "gridcolor": "#C8D4E3",
             "linecolor": "#C8D4E3",
             "minorgridcolor": "#C8D4E3",
             "startlinecolor": "#2a3f5f"
            },
            "type": "carpet"
           }
          ],
          "choropleth": [
           {
            "colorbar": {
             "outlinewidth": 0,
             "ticks": ""
            },
            "type": "choropleth"
           }
          ],
          "contour": [
           {
            "colorbar": {
             "outlinewidth": 0,
             "ticks": ""
            },
            "colorscale": [
             [
              0,
              "#0d0887"
             ],
             [
              0.1111111111111111,
              "#46039f"
             ],
             [
              0.2222222222222222,
              "#7201a8"
             ],
             [
              0.3333333333333333,
              "#9c179e"
             ],
             [
              0.4444444444444444,
              "#bd3786"
             ],
             [
              0.5555555555555556,
              "#d8576b"
             ],
             [
              0.6666666666666666,
              "#ed7953"
             ],
             [
              0.7777777777777778,
              "#fb9f3a"
             ],
             [
              0.8888888888888888,
              "#fdca26"
             ],
             [
              1,
              "#f0f921"
             ]
            ],
            "type": "contour"
           }
          ],
          "contourcarpet": [
           {
            "colorbar": {
             "outlinewidth": 0,
             "ticks": ""
            },
            "type": "contourcarpet"
           }
          ],
          "heatmap": [
           {
            "colorbar": {
             "outlinewidth": 0,
             "ticks": ""
            },
            "colorscale": [
             [
              0,
              "#0d0887"
             ],
             [
              0.1111111111111111,
              "#46039f"
             ],
             [
              0.2222222222222222,
              "#7201a8"
             ],
             [
              0.3333333333333333,
              "#9c179e"
             ],
             [
              0.4444444444444444,
              "#bd3786"
             ],
             [
              0.5555555555555556,
              "#d8576b"
             ],
             [
              0.6666666666666666,
              "#ed7953"
             ],
             [
              0.7777777777777778,
              "#fb9f3a"
             ],
             [
              0.8888888888888888,
              "#fdca26"
             ],
             [
              1,
              "#f0f921"
             ]
            ],
            "type": "heatmap"
           }
          ],
          "heatmapgl": [
           {
            "colorbar": {
             "outlinewidth": 0,
             "ticks": ""
            },
            "colorscale": [
             [
              0,
              "#0d0887"
             ],
             [
              0.1111111111111111,
              "#46039f"
             ],
             [
              0.2222222222222222,
              "#7201a8"
             ],
             [
              0.3333333333333333,
              "#9c179e"
             ],
             [
              0.4444444444444444,
              "#bd3786"
             ],
             [
              0.5555555555555556,
              "#d8576b"
             ],
             [
              0.6666666666666666,
              "#ed7953"
             ],
             [
              0.7777777777777778,
              "#fb9f3a"
             ],
             [
              0.8888888888888888,
              "#fdca26"
             ],
             [
              1,
              "#f0f921"
             ]
            ],
            "type": "heatmapgl"
           }
          ],
          "histogram": [
           {
            "marker": {
             "pattern": {
              "fillmode": "overlay",
              "size": 10,
              "solidity": 0.2
             }
            },
            "type": "histogram"
           }
          ],
          "histogram2d": [
           {
            "colorbar": {
             "outlinewidth": 0,
             "ticks": ""
            },
            "colorscale": [
             [
              0,
              "#0d0887"
             ],
             [
              0.1111111111111111,
              "#46039f"
             ],
             [
              0.2222222222222222,
              "#7201a8"
             ],
             [
              0.3333333333333333,
              "#9c179e"
             ],
             [
              0.4444444444444444,
              "#bd3786"
             ],
             [
              0.5555555555555556,
              "#d8576b"
             ],
             [
              0.6666666666666666,
              "#ed7953"
             ],
             [
              0.7777777777777778,
              "#fb9f3a"
             ],
             [
              0.8888888888888888,
              "#fdca26"
             ],
             [
              1,
              "#f0f921"
             ]
            ],
            "type": "histogram2d"
           }
          ],
          "histogram2dcontour": [
           {
            "colorbar": {
             "outlinewidth": 0,
             "ticks": ""
            },
            "colorscale": [
             [
              0,
              "#0d0887"
             ],
             [
              0.1111111111111111,
              "#46039f"
             ],
             [
              0.2222222222222222,
              "#7201a8"
             ],
             [
              0.3333333333333333,
              "#9c179e"
             ],
             [
              0.4444444444444444,
              "#bd3786"
             ],
             [
              0.5555555555555556,
              "#d8576b"
             ],
             [
              0.6666666666666666,
              "#ed7953"
             ],
             [
              0.7777777777777778,
              "#fb9f3a"
             ],
             [
              0.8888888888888888,
              "#fdca26"
             ],
             [
              1,
              "#f0f921"
             ]
            ],
            "type": "histogram2dcontour"
           }
          ],
          "mesh3d": [
           {
            "colorbar": {
             "outlinewidth": 0,
             "ticks": ""
            },
            "type": "mesh3d"
           }
          ],
          "parcoords": [
           {
            "line": {
             "colorbar": {
              "outlinewidth": 0,
              "ticks": ""
             }
            },
            "type": "parcoords"
           }
          ],
          "pie": [
           {
            "automargin": true,
            "type": "pie"
           }
          ],
          "scatter": [
           {
            "fillpattern": {
             "fillmode": "overlay",
             "size": 10,
             "solidity": 0.2
            },
            "type": "scatter"
           }
          ],
          "scatter3d": [
           {
            "line": {
             "colorbar": {
              "outlinewidth": 0,
              "ticks": ""
             }
            },
            "marker": {
             "colorbar": {
              "outlinewidth": 0,
              "ticks": ""
             }
            },
            "type": "scatter3d"
           }
          ],
          "scattercarpet": [
           {
            "marker": {
             "colorbar": {
              "outlinewidth": 0,
              "ticks": ""
             }
            },
            "type": "scattercarpet"
           }
          ],
          "scattergeo": [
           {
            "marker": {
             "colorbar": {
              "outlinewidth": 0,
              "ticks": ""
             }
            },
            "type": "scattergeo"
           }
          ],
          "scattergl": [
           {
            "marker": {
             "colorbar": {
              "outlinewidth": 0,
              "ticks": ""
             }
            },
            "type": "scattergl"
           }
          ],
          "scattermapbox": [
           {
            "marker": {
             "colorbar": {
              "outlinewidth": 0,
              "ticks": ""
             }
            },
            "type": "scattermapbox"
           }
          ],
          "scatterpolar": [
           {
            "marker": {
             "colorbar": {
              "outlinewidth": 0,
              "ticks": ""
             }
            },
            "type": "scatterpolar"
           }
          ],
          "scatterpolargl": [
           {
            "marker": {
             "colorbar": {
              "outlinewidth": 0,
              "ticks": ""
             }
            },
            "type": "scatterpolargl"
           }
          ],
          "scatterternary": [
           {
            "marker": {
             "colorbar": {
              "outlinewidth": 0,
              "ticks": ""
             }
            },
            "type": "scatterternary"
           }
          ],
          "surface": [
           {
            "colorbar": {
             "outlinewidth": 0,
             "ticks": ""
            },
            "colorscale": [
             [
              0,
              "#0d0887"
             ],
             [
              0.1111111111111111,
              "#46039f"
             ],
             [
              0.2222222222222222,
              "#7201a8"
             ],
             [
              0.3333333333333333,
              "#9c179e"
             ],
             [
              0.4444444444444444,
              "#bd3786"
             ],
             [
              0.5555555555555556,
              "#d8576b"
             ],
             [
              0.6666666666666666,
              "#ed7953"
             ],
             [
              0.7777777777777778,
              "#fb9f3a"
             ],
             [
              0.8888888888888888,
              "#fdca26"
             ],
             [
              1,
              "#f0f921"
             ]
            ],
            "type": "surface"
           }
          ],
          "table": [
           {
            "cells": {
             "fill": {
              "color": "#EBF0F8"
             },
             "line": {
              "color": "white"
             }
            },
            "header": {
             "fill": {
              "color": "#C8D4E3"
             },
             "line": {
              "color": "white"
             }
            },
            "type": "table"
           }
          ]
         },
         "layout": {
          "annotationdefaults": {
           "arrowcolor": "#2a3f5f",
           "arrowhead": 0,
           "arrowwidth": 1
          },
          "autotypenumbers": "strict",
          "coloraxis": {
           "colorbar": {
            "outlinewidth": 0,
            "ticks": ""
           }
          },
          "colorscale": {
           "diverging": [
            [
             0,
             "#8e0152"
            ],
            [
             0.1,
             "#c51b7d"
            ],
            [
             0.2,
             "#de77ae"
            ],
            [
             0.3,
             "#f1b6da"
            ],
            [
             0.4,
             "#fde0ef"
            ],
            [
             0.5,
             "#f7f7f7"
            ],
            [
             0.6,
             "#e6f5d0"
            ],
            [
             0.7,
             "#b8e186"
            ],
            [
             0.8,
             "#7fbc41"
            ],
            [
             0.9,
             "#4d9221"
            ],
            [
             1,
             "#276419"
            ]
           ],
           "sequential": [
            [
             0,
             "#0d0887"
            ],
            [
             0.1111111111111111,
             "#46039f"
            ],
            [
             0.2222222222222222,
             "#7201a8"
            ],
            [
             0.3333333333333333,
             "#9c179e"
            ],
            [
             0.4444444444444444,
             "#bd3786"
            ],
            [
             0.5555555555555556,
             "#d8576b"
            ],
            [
             0.6666666666666666,
             "#ed7953"
            ],
            [
             0.7777777777777778,
             "#fb9f3a"
            ],
            [
             0.8888888888888888,
             "#fdca26"
            ],
            [
             1,
             "#f0f921"
            ]
           ],
           "sequentialminus": [
            [
             0,
             "#0d0887"
            ],
            [
             0.1111111111111111,
             "#46039f"
            ],
            [
             0.2222222222222222,
             "#7201a8"
            ],
            [
             0.3333333333333333,
             "#9c179e"
            ],
            [
             0.4444444444444444,
             "#bd3786"
            ],
            [
             0.5555555555555556,
             "#d8576b"
            ],
            [
             0.6666666666666666,
             "#ed7953"
            ],
            [
             0.7777777777777778,
             "#fb9f3a"
            ],
            [
             0.8888888888888888,
             "#fdca26"
            ],
            [
             1,
             "#f0f921"
            ]
           ]
          },
          "colorway": [
           "#636efa",
           "#EF553B",
           "#00cc96",
           "#ab63fa",
           "#FFA15A",
           "#19d3f3",
           "#FF6692",
           "#B6E880",
           "#FF97FF",
           "#FECB52"
          ],
          "font": {
           "color": "#2a3f5f"
          },
          "geo": {
           "bgcolor": "white",
           "lakecolor": "white",
           "landcolor": "white",
           "showlakes": true,
           "showland": true,
           "subunitcolor": "#C8D4E3"
          },
          "hoverlabel": {
           "align": "left"
          },
          "hovermode": "closest",
          "mapbox": {
           "style": "light"
          },
          "paper_bgcolor": "white",
          "plot_bgcolor": "white",
          "polar": {
           "angularaxis": {
            "gridcolor": "#EBF0F8",
            "linecolor": "#EBF0F8",
            "ticks": ""
           },
           "bgcolor": "white",
           "radialaxis": {
            "gridcolor": "#EBF0F8",
            "linecolor": "#EBF0F8",
            "ticks": ""
           }
          },
          "scene": {
           "xaxis": {
            "backgroundcolor": "white",
            "gridcolor": "#DFE8F3",
            "gridwidth": 2,
            "linecolor": "#EBF0F8",
            "showbackground": true,
            "ticks": "",
            "zerolinecolor": "#EBF0F8"
           },
           "yaxis": {
            "backgroundcolor": "white",
            "gridcolor": "#DFE8F3",
            "gridwidth": 2,
            "linecolor": "#EBF0F8",
            "showbackground": true,
            "ticks": "",
            "zerolinecolor": "#EBF0F8"
           },
           "zaxis": {
            "backgroundcolor": "white",
            "gridcolor": "#DFE8F3",
            "gridwidth": 2,
            "linecolor": "#EBF0F8",
            "showbackground": true,
            "ticks": "",
            "zerolinecolor": "#EBF0F8"
           }
          },
          "shapedefaults": {
           "line": {
            "color": "#2a3f5f"
           }
          },
          "ternary": {
           "aaxis": {
            "gridcolor": "#DFE8F3",
            "linecolor": "#A2B1C6",
            "ticks": ""
           },
           "baxis": {
            "gridcolor": "#DFE8F3",
            "linecolor": "#A2B1C6",
            "ticks": ""
           },
           "bgcolor": "white",
           "caxis": {
            "gridcolor": "#DFE8F3",
            "linecolor": "#A2B1C6",
            "ticks": ""
           }
          },
          "title": {
           "x": 0.05
          },
          "xaxis": {
           "automargin": true,
           "gridcolor": "#EBF0F8",
           "linecolor": "#EBF0F8",
           "ticks": "",
           "title": {
            "standoff": 15
           },
           "zerolinecolor": "#EBF0F8",
           "zerolinewidth": 2
          },
          "yaxis": {
           "automargin": true,
           "gridcolor": "#EBF0F8",
           "linecolor": "#EBF0F8",
           "ticks": "",
           "title": {
            "standoff": 15
           },
           "zerolinecolor": "#EBF0F8",
           "zerolinewidth": 2
          }
         }
        },
        "title": {
         "text": "Distribuição de Senioridade por Gênero (2021-2023)"
        },
        "xaxis": {
         "anchor": "y",
         "domain": [
          0,
          0.2888888888888889
         ],
         "range": [
          -100,
          100
         ],
         "ticksuffix": "%",
         "title": {
          "text": "Proporção (%)"
         }
        },
        "xaxis2": {
         "anchor": "y2",
         "domain": [
          0.35555555555555557,
          0.6444444444444445
         ],
         "range": [
          -100,
          100
         ],
         "ticksuffix": "%"
        },
        "xaxis3": {
         "anchor": "y3",
         "domain": [
          0.7111111111111111,
          1
         ],
         "range": [
          -100,
          100
         ],
         "ticksuffix": "%"
        },
        "yaxis": {
         "anchor": "x",
         "domain": [
          0,
          1
         ],
         "title": {
          "text": "Nível de Senioridade"
         }
        },
        "yaxis2": {
         "anchor": "x2",
         "domain": [
          0,
          1
         ],
         "matches": "y",
         "showticklabels": false
        },
        "yaxis3": {
         "anchor": "x3",
         "domain": [
          0,
          1
         ],
         "matches": "y",
         "showticklabels": false
        }
       }
      }
     },
     "metadata": {},
     "output_type": "display_data"
    }
   ],
   "source": [
    "#Grafico comparar proporção niveis senioridade\n",
    "\n",
    "import plotly.graph_objects as go\n",
    "from plotly.subplots import make_subplots\n",
    "\n",
    "# Criando um DataFrame agrupado para contar quantas pessoas há por nível de senioridade e gênero\n",
    "df_grouped = df_unificado.groupby([\"ano_pesquisa\", \"nivel\", \"genero\"]).size().reset_index(name=\"count\")\n",
    "\n",
    "# Calculando o total por ano e gênero para depois calcular proporções\n",
    "totais_por_ano_genero = df_unificado.groupby([\"ano_pesquisa\", \"genero\"]).size().reset_index(name=\"total\")\n",
    "df_grouped = df_grouped.merge(totais_por_ano_genero, on=[\"ano_pesquisa\", \"genero\"])\n",
    "\n",
    "# Calculando a proporção\n",
    "df_grouped[\"proporção\"] = df_grouped[\"count\"] / df_grouped[\"total\"] * 100\n",
    "\n",
    "# Criando a figura com subplots\n",
    "fig = make_subplots(rows=1, cols=3, shared_yaxes=True, subplot_titles=[\"2021\", \"2022\", \"2023\"])\n",
    "\n",
    "anos = ['2021', '2022', '2023']\n",
    "cores = {\"Masculino\": \"#708090\", \"Feminino\": \"#673147\"}\n",
    "\n",
    "for i, ano in enumerate(anos):\n",
    "    # Filtrando dados do ano atual\n",
    "    df_ano = df_grouped[df_grouped[\"ano_pesquisa\"] == ano]\n",
    "    \n",
    "    # Criando um pivot para senioridade x gênero\n",
    "    df_plot = df_ano.pivot(index=\"nivel\", columns=\"genero\", values=\"proporção\").fillna(0)\n",
    "    \n",
    "    # Garantindo que as colunas existam, preenchendo com 0 se necessário\n",
    "    for genero in [\"Masculino\", \"Feminino\"]:\n",
    "        if genero not in df_plot.columns:\n",
    "            df_plot[genero] = 0\n",
    "    \n",
    "    # Filtrando níveis que têm pelo menos um registro\n",
    "    df_plot = df_plot[(df_plot[\"Masculino\"] > 0) | (df_plot[\"Feminino\"] > 0)]\n",
    "    \n",
    "    # Se não houver dados, continue para o próximo ano\n",
    "    if df_plot.empty:\n",
    "        continue\n",
    "    \n",
    "    # Adicionando barras para Feminino (negativo para inverter no gráfico)\n",
    "    fig.add_trace(go.Bar(\n",
    "        y=df_plot.index,\n",
    "        x=-df_plot[\"Feminino\"],\n",
    "        name=\"Feminino\",\n",
    "        orientation=\"h\",\n",
    "        marker=dict(color=cores[\"Feminino\"]),\n",
    "        text=[f\"{val:.1f}%\" for val in df_plot[\"Feminino\"]],\n",
    "        textposition=\"outside\",\n",
    "        showlegend=True if i == 0 else False\n",
    "    ), row=1, col=i+1)\n",
    "\n",
    "    # Adicionando barras para Masculino\n",
    "    fig.add_trace(go.Bar(\n",
    "        y=df_plot.index,\n",
    "        x=df_plot[\"Masculino\"],\n",
    "        name=\"Masculino\",\n",
    "        orientation=\"h\",\n",
    "        marker=dict(color=cores[\"Masculino\"]),\n",
    "        text=[f\"{val:.1f}%\" for val in df_plot[\"Masculino\"]],\n",
    "        textposition=\"outside\",\n",
    "        showlegend=True if i == 0 else False\n",
    "    ), row=1, col=i+1)\n",
    "\n",
    "# Configurando layout\n",
    "fig.update_layout(\n",
    "    title=\"Distribuição de Senioridade por Gênero (2021-2023)\",\n",
    "    xaxis_title=\"Proporção (%)\",\n",
    "    yaxis_title=\"Nível de Senioridade\",\n",
    "    barmode=\"relative\",\n",
    "    template=\"plotly_white\"\n",
    ")\n",
    "\n",
    "# Ajustando os eixos X para mostrar valores em percentuais\n",
    "for i in range(1, 4):\n",
    "    fig.update_xaxes(ticksuffix=\"%\", range=[-100, 100], row=1, col=i)\n",
    "    \n",
    "    # Adicionando linhas de referência em 0\n",
    "    fig.add_shape(\n",
    "        type=\"line\",\n",
    "        x0=0, y0=-0.5,\n",
    "        x1=0, y1=len(df_plot.index) - 0.5,\n",
    "        line=dict(color=\"black\", width=1, dash=\"dot\"),\n",
    "        row=1, col=i\n",
    "    )\n",
    "\n",
    "fig.show()"
   ]
  },
  {
   "cell_type": "code",
   "execution_count": 59,
   "metadata": {},
   "outputs": [
    {
     "name": "stdout",
     "output_type": "stream",
     "text": [
      "Níveis existentes: ['Não tenho graduação formal', 'Estudante de Graduação', 'Graduação/Bacharelado', 'Pós-graduação', 'Mestrado', 'Doutorado ou Phd']\n",
      "Categories (6, object): ['Não tenho graduação formal', 'Estudante de Graduação', 'Graduação/Bacharelado', 'Pós-graduação', 'Mestrado', 'Doutorado ou Phd']\n"
     ]
    },
    {
     "name": "stderr",
     "output_type": "stream",
     "text": [
      "C:\\Users\\julli\\AppData\\Local\\Temp\\ipykernel_22044\\2280032985.py:5: FutureWarning:\n",
      "\n",
      "The default of observed=False is deprecated and will be changed to True in a future version of pandas. Pass observed=False to retain current behavior or observed=True to adopt the future default and silence this warning.\n",
      "\n",
      "C:\\Users\\julli\\AppData\\Local\\Temp\\ipykernel_22044\\2280032985.py:8: FutureWarning:\n",
      "\n",
      "The default of observed=False is deprecated and will be changed to True in a future version of pandas. Pass observed=False to retain current behavior or observed=True to adopt the future default and silence this warning.\n",
      "\n"
     ]
    },
    {
     "data": {
      "application/vnd.plotly.v1+json": {
       "config": {
        "plotlyServerURL": "https://plot.ly"
       },
       "data": [
        {
         "marker": {
          "color": "#673147"
         },
         "name": "Feminino",
         "orientation": "h",
         "showlegend": true,
         "text": "11.5%",
         "textposition": "inside",
         "type": "bar",
         "x": [
          11.475409836065573
         ],
         "xaxis": "x",
         "y": [
          "Não tenho graduação formal"
         ],
         "yaxis": "y"
        },
        {
         "marker": {
          "color": "#708090"
         },
         "name": "Masculino",
         "orientation": "h",
         "showlegend": true,
         "text": "88.5%",
         "textposition": "inside",
         "type": "bar",
         "x": [
          88.52459016393442
         ],
         "xaxis": "x",
         "y": [
          "Não tenho graduação formal"
         ],
         "yaxis": "y"
        },
        {
         "marker": {
          "color": "#673147"
         },
         "name": "Feminino",
         "orientation": "h",
         "showlegend": false,
         "text": "14.5%",
         "textposition": "inside",
         "type": "bar",
         "x": [
          14.507772020725387
         ],
         "xaxis": "x",
         "y": [
          "Estudante de Graduação"
         ],
         "yaxis": "y"
        },
        {
         "marker": {
          "color": "#708090"
         },
         "name": "Masculino",
         "orientation": "h",
         "showlegend": false,
         "text": "85.5%",
         "textposition": "inside",
         "type": "bar",
         "x": [
          85.49222797927462
         ],
         "xaxis": "x",
         "y": [
          "Estudante de Graduação"
         ],
         "yaxis": "y"
        },
        {
         "marker": {
          "color": "#673147"
         },
         "name": "Feminino",
         "orientation": "h",
         "showlegend": false,
         "text": "17.6%",
         "textposition": "inside",
         "type": "bar",
         "x": [
          17.588495575221238
         ],
         "xaxis": "x",
         "y": [
          "Graduação/Bacharelado"
         ],
         "yaxis": "y"
        },
        {
         "marker": {
          "color": "#708090"
         },
         "name": "Masculino",
         "orientation": "h",
         "showlegend": false,
         "text": "82.4%",
         "textposition": "inside",
         "type": "bar",
         "x": [
          82.41150442477876
         ],
         "xaxis": "x",
         "y": [
          "Graduação/Bacharelado"
         ],
         "yaxis": "y"
        },
        {
         "marker": {
          "color": "#673147"
         },
         "name": "Feminino",
         "orientation": "h",
         "showlegend": false,
         "text": "20.8%",
         "textposition": "inside",
         "type": "bar",
         "x": [
          20.77764277035237
         ],
         "xaxis": "x",
         "y": [
          "Pós-graduação"
         ],
         "yaxis": "y"
        },
        {
         "marker": {
          "color": "#708090"
         },
         "name": "Masculino",
         "orientation": "h",
         "showlegend": false,
         "text": "79.2%",
         "textposition": "inside",
         "type": "bar",
         "x": [
          79.22235722964763
         ],
         "xaxis": "x",
         "y": [
          "Pós-graduação"
         ],
         "yaxis": "y"
        },
        {
         "marker": {
          "color": "#673147"
         },
         "name": "Feminino",
         "orientation": "h",
         "showlegend": false,
         "text": "22.4%",
         "textposition": "inside",
         "type": "bar",
         "x": [
          22.38372093023256
         ],
         "xaxis": "x",
         "y": [
          "Mestrado"
         ],
         "yaxis": "y"
        },
        {
         "marker": {
          "color": "#708090"
         },
         "name": "Masculino",
         "orientation": "h",
         "showlegend": false,
         "text": "77.6%",
         "textposition": "inside",
         "type": "bar",
         "x": [
          77.61627906976744
         ],
         "xaxis": "x",
         "y": [
          "Mestrado"
         ],
         "yaxis": "y"
        },
        {
         "marker": {
          "color": "#673147"
         },
         "name": "Feminino",
         "orientation": "h",
         "showlegend": false,
         "text": "19.8%",
         "textposition": "inside",
         "type": "bar",
         "x": [
          19.82758620689655
         ],
         "xaxis": "x",
         "y": [
          "Doutorado ou Phd"
         ],
         "yaxis": "y"
        },
        {
         "marker": {
          "color": "#708090"
         },
         "name": "Masculino",
         "orientation": "h",
         "showlegend": false,
         "text": "80.2%",
         "textposition": "inside",
         "type": "bar",
         "x": [
          80.17241379310344
         ],
         "xaxis": "x",
         "y": [
          "Doutorado ou Phd"
         ],
         "yaxis": "y"
        },
        {
         "marker": {
          "color": "#673147"
         },
         "name": "Feminino",
         "orientation": "h",
         "showlegend": false,
         "text": "21.8%",
         "textposition": "inside",
         "type": "bar",
         "x": [
          21.818181818181817
         ],
         "xaxis": "x2",
         "y": [
          "Não tenho graduação formal"
         ],
         "yaxis": "y2"
        },
        {
         "marker": {
          "color": "#708090"
         },
         "name": "Masculino",
         "orientation": "h",
         "showlegend": false,
         "text": "78.2%",
         "textposition": "inside",
         "type": "bar",
         "x": [
          78.18181818181819
         ],
         "xaxis": "x2",
         "y": [
          "Não tenho graduação formal"
         ],
         "yaxis": "y2"
        },
        {
         "marker": {
          "color": "#673147"
         },
         "name": "Feminino",
         "orientation": "h",
         "showlegend": false,
         "text": "17.0%",
         "textposition": "inside",
         "type": "bar",
         "x": [
          17.04918032786885
         ],
         "xaxis": "x2",
         "y": [
          "Estudante de Graduação"
         ],
         "yaxis": "y2"
        },
        {
         "marker": {
          "color": "#708090"
         },
         "name": "Masculino",
         "orientation": "h",
         "showlegend": false,
         "text": "83.0%",
         "textposition": "inside",
         "type": "bar",
         "x": [
          82.95081967213115
         ],
         "xaxis": "x2",
         "y": [
          "Estudante de Graduação"
         ],
         "yaxis": "y2"
        },
        {
         "marker": {
          "color": "#673147"
         },
         "name": "Feminino",
         "orientation": "h",
         "showlegend": false,
         "text": "24.3%",
         "textposition": "inside",
         "type": "bar",
         "x": [
          24.28476380572189
         ],
         "xaxis": "x2",
         "y": [
          "Graduação/Bacharelado"
         ],
         "yaxis": "y2"
        },
        {
         "marker": {
          "color": "#708090"
         },
         "name": "Masculino",
         "orientation": "h",
         "showlegend": false,
         "text": "75.7%",
         "textposition": "inside",
         "type": "bar",
         "x": [
          75.7152361942781
         ],
         "xaxis": "x2",
         "y": [
          "Graduação/Bacharelado"
         ],
         "yaxis": "y2"
        },
        {
         "marker": {
          "color": "#673147"
         },
         "name": "Feminino",
         "orientation": "h",
         "showlegend": false,
         "text": "28.3%",
         "textposition": "inside",
         "type": "bar",
         "x": [
          28.330781010719758
         ],
         "xaxis": "x2",
         "y": [
          "Pós-graduação"
         ],
         "yaxis": "y2"
        },
        {
         "marker": {
          "color": "#708090"
         },
         "name": "Masculino",
         "orientation": "h",
         "showlegend": false,
         "text": "71.7%",
         "textposition": "inside",
         "type": "bar",
         "x": [
          71.66921898928025
         ],
         "xaxis": "x2",
         "y": [
          "Pós-graduação"
         ],
         "yaxis": "y2"
        },
        {
         "marker": {
          "color": "#673147"
         },
         "name": "Feminino",
         "orientation": "h",
         "showlegend": false,
         "text": "25.6%",
         "textposition": "inside",
         "type": "bar",
         "x": [
          25.626204238921
         ],
         "xaxis": "x2",
         "y": [
          "Mestrado"
         ],
         "yaxis": "y2"
        },
        {
         "marker": {
          "color": "#708090"
         },
         "name": "Masculino",
         "orientation": "h",
         "showlegend": false,
         "text": "74.4%",
         "textposition": "inside",
         "type": "bar",
         "x": [
          74.373795761079
         ],
         "xaxis": "x2",
         "y": [
          "Mestrado"
         ],
         "yaxis": "y2"
        },
        {
         "marker": {
          "color": "#673147"
         },
         "name": "Feminino",
         "orientation": "h",
         "showlegend": false,
         "text": "29.8%",
         "textposition": "inside",
         "type": "bar",
         "x": [
          29.84293193717277
         ],
         "xaxis": "x2",
         "y": [
          "Doutorado ou Phd"
         ],
         "yaxis": "y2"
        },
        {
         "marker": {
          "color": "#708090"
         },
         "name": "Masculino",
         "orientation": "h",
         "showlegend": false,
         "text": "70.2%",
         "textposition": "inside",
         "type": "bar",
         "x": [
          70.15706806282722
         ],
         "xaxis": "x2",
         "y": [
          "Doutorado ou Phd"
         ],
         "yaxis": "y2"
        },
        {
         "marker": {
          "color": "#673147"
         },
         "name": "Feminino",
         "orientation": "h",
         "showlegend": false,
         "text": "19.0%",
         "textposition": "inside",
         "type": "bar",
         "x": [
          19.047619047619047
         ],
         "xaxis": "x3",
         "y": [
          "Não tenho graduação formal"
         ],
         "yaxis": "y3"
        },
        {
         "marker": {
          "color": "#708090"
         },
         "name": "Masculino",
         "orientation": "h",
         "showlegend": false,
         "text": "81.0%",
         "textposition": "inside",
         "type": "bar",
         "x": [
          80.95238095238095
         ],
         "xaxis": "x3",
         "y": [
          "Não tenho graduação formal"
         ],
         "yaxis": "y3"
        },
        {
         "marker": {
          "color": "#673147"
         },
         "name": "Feminino",
         "orientation": "h",
         "showlegend": false,
         "text": "19.6%",
         "textposition": "inside",
         "type": "bar",
         "x": [
          19.584569732937684
         ],
         "xaxis": "x3",
         "y": [
          "Estudante de Graduação"
         ],
         "yaxis": "y3"
        },
        {
         "marker": {
          "color": "#708090"
         },
         "name": "Masculino",
         "orientation": "h",
         "showlegend": false,
         "text": "80.4%",
         "textposition": "inside",
         "type": "bar",
         "x": [
          80.41543026706232
         ],
         "xaxis": "x3",
         "y": [
          "Estudante de Graduação"
         ],
         "yaxis": "y3"
        },
        {
         "marker": {
          "color": "#673147"
         },
         "name": "Feminino",
         "orientation": "h",
         "showlegend": false,
         "text": "23.0%",
         "textposition": "inside",
         "type": "bar",
         "x": [
          22.999440402909904
         ],
         "xaxis": "x3",
         "y": [
          "Graduação/Bacharelado"
         ],
         "yaxis": "y3"
        },
        {
         "marker": {
          "color": "#708090"
         },
         "name": "Masculino",
         "orientation": "h",
         "showlegend": false,
         "text": "77.0%",
         "textposition": "inside",
         "type": "bar",
         "x": [
          77.00055959709009
         ],
         "xaxis": "x3",
         "y": [
          "Graduação/Bacharelado"
         ],
         "yaxis": "y3"
        },
        {
         "marker": {
          "color": "#673147"
         },
         "name": "Feminino",
         "orientation": "h",
         "showlegend": false,
         "text": "25.5%",
         "textposition": "inside",
         "type": "bar",
         "x": [
          25.482625482625483
         ],
         "xaxis": "x3",
         "y": [
          "Pós-graduação"
         ],
         "yaxis": "y3"
        },
        {
         "marker": {
          "color": "#708090"
         },
         "name": "Masculino",
         "orientation": "h",
         "showlegend": false,
         "text": "74.5%",
         "textposition": "inside",
         "type": "bar",
         "x": [
          74.5173745173745
         ],
         "xaxis": "x3",
         "y": [
          "Pós-graduação"
         ],
         "yaxis": "y3"
        },
        {
         "marker": {
          "color": "#673147"
         },
         "name": "Feminino",
         "orientation": "h",
         "showlegend": false,
         "text": "29.2%",
         "textposition": "inside",
         "type": "bar",
         "x": [
          29.166666666666668
         ],
         "xaxis": "x3",
         "y": [
          "Mestrado"
         ],
         "yaxis": "y3"
        },
        {
         "marker": {
          "color": "#708090"
         },
         "name": "Masculino",
         "orientation": "h",
         "showlegend": false,
         "text": "70.8%",
         "textposition": "inside",
         "type": "bar",
         "x": [
          70.83333333333334
         ],
         "xaxis": "x3",
         "y": [
          "Mestrado"
         ],
         "yaxis": "y3"
        },
        {
         "marker": {
          "color": "#673147"
         },
         "name": "Feminino",
         "orientation": "h",
         "showlegend": false,
         "text": "34.4%",
         "textposition": "inside",
         "type": "bar",
         "x": [
          34.44976076555024
         ],
         "xaxis": "x3",
         "y": [
          "Doutorado ou Phd"
         ],
         "yaxis": "y3"
        },
        {
         "marker": {
          "color": "#708090"
         },
         "name": "Masculino",
         "orientation": "h",
         "showlegend": false,
         "text": "65.6%",
         "textposition": "inside",
         "type": "bar",
         "x": [
          65.55023923444976
         ],
         "xaxis": "x3",
         "y": [
          "Doutorado ou Phd"
         ],
         "yaxis": "y3"
        }
       ],
       "layout": {
        "annotations": [
         {
          "font": {
           "size": 16
          },
          "showarrow": false,
          "text": "2021",
          "x": 0.14444444444444446,
          "xanchor": "center",
          "xref": "paper",
          "y": 1,
          "yanchor": "bottom",
          "yref": "paper"
         },
         {
          "font": {
           "size": 16
          },
          "showarrow": false,
          "text": "2022",
          "x": 0.5,
          "xanchor": "center",
          "xref": "paper",
          "y": 1,
          "yanchor": "bottom",
          "yref": "paper"
         },
         {
          "font": {
           "size": 16
          },
          "showarrow": false,
          "text": "2023",
          "x": 0.8555555555555556,
          "xanchor": "center",
          "xref": "paper",
          "y": 1,
          "yanchor": "bottom",
          "yref": "paper"
         }
        ],
        "barmode": "stack",
        "height": 600,
        "legend": {
         "orientation": "h",
         "x": 0.5,
         "xanchor": "center",
         "y": 1.02,
         "yanchor": "bottom"
        },
        "template": {
         "data": {
          "bar": [
           {
            "error_x": {
             "color": "#2a3f5f"
            },
            "error_y": {
             "color": "#2a3f5f"
            },
            "marker": {
             "line": {
              "color": "white",
              "width": 0.5
             },
             "pattern": {
              "fillmode": "overlay",
              "size": 10,
              "solidity": 0.2
             }
            },
            "type": "bar"
           }
          ],
          "barpolar": [
           {
            "marker": {
             "line": {
              "color": "white",
              "width": 0.5
             },
             "pattern": {
              "fillmode": "overlay",
              "size": 10,
              "solidity": 0.2
             }
            },
            "type": "barpolar"
           }
          ],
          "carpet": [
           {
            "aaxis": {
             "endlinecolor": "#2a3f5f",
             "gridcolor": "#C8D4E3",
             "linecolor": "#C8D4E3",
             "minorgridcolor": "#C8D4E3",
             "startlinecolor": "#2a3f5f"
            },
            "baxis": {
             "endlinecolor": "#2a3f5f",
             "gridcolor": "#C8D4E3",
             "linecolor": "#C8D4E3",
             "minorgridcolor": "#C8D4E3",
             "startlinecolor": "#2a3f5f"
            },
            "type": "carpet"
           }
          ],
          "choropleth": [
           {
            "colorbar": {
             "outlinewidth": 0,
             "ticks": ""
            },
            "type": "choropleth"
           }
          ],
          "contour": [
           {
            "colorbar": {
             "outlinewidth": 0,
             "ticks": ""
            },
            "colorscale": [
             [
              0,
              "#0d0887"
             ],
             [
              0.1111111111111111,
              "#46039f"
             ],
             [
              0.2222222222222222,
              "#7201a8"
             ],
             [
              0.3333333333333333,
              "#9c179e"
             ],
             [
              0.4444444444444444,
              "#bd3786"
             ],
             [
              0.5555555555555556,
              "#d8576b"
             ],
             [
              0.6666666666666666,
              "#ed7953"
             ],
             [
              0.7777777777777778,
              "#fb9f3a"
             ],
             [
              0.8888888888888888,
              "#fdca26"
             ],
             [
              1,
              "#f0f921"
             ]
            ],
            "type": "contour"
           }
          ],
          "contourcarpet": [
           {
            "colorbar": {
             "outlinewidth": 0,
             "ticks": ""
            },
            "type": "contourcarpet"
           }
          ],
          "heatmap": [
           {
            "colorbar": {
             "outlinewidth": 0,
             "ticks": ""
            },
            "colorscale": [
             [
              0,
              "#0d0887"
             ],
             [
              0.1111111111111111,
              "#46039f"
             ],
             [
              0.2222222222222222,
              "#7201a8"
             ],
             [
              0.3333333333333333,
              "#9c179e"
             ],
             [
              0.4444444444444444,
              "#bd3786"
             ],
             [
              0.5555555555555556,
              "#d8576b"
             ],
             [
              0.6666666666666666,
              "#ed7953"
             ],
             [
              0.7777777777777778,
              "#fb9f3a"
             ],
             [
              0.8888888888888888,
              "#fdca26"
             ],
             [
              1,
              "#f0f921"
             ]
            ],
            "type": "heatmap"
           }
          ],
          "heatmapgl": [
           {
            "colorbar": {
             "outlinewidth": 0,
             "ticks": ""
            },
            "colorscale": [
             [
              0,
              "#0d0887"
             ],
             [
              0.1111111111111111,
              "#46039f"
             ],
             [
              0.2222222222222222,
              "#7201a8"
             ],
             [
              0.3333333333333333,
              "#9c179e"
             ],
             [
              0.4444444444444444,
              "#bd3786"
             ],
             [
              0.5555555555555556,
              "#d8576b"
             ],
             [
              0.6666666666666666,
              "#ed7953"
             ],
             [
              0.7777777777777778,
              "#fb9f3a"
             ],
             [
              0.8888888888888888,
              "#fdca26"
             ],
             [
              1,
              "#f0f921"
             ]
            ],
            "type": "heatmapgl"
           }
          ],
          "histogram": [
           {
            "marker": {
             "pattern": {
              "fillmode": "overlay",
              "size": 10,
              "solidity": 0.2
             }
            },
            "type": "histogram"
           }
          ],
          "histogram2d": [
           {
            "colorbar": {
             "outlinewidth": 0,
             "ticks": ""
            },
            "colorscale": [
             [
              0,
              "#0d0887"
             ],
             [
              0.1111111111111111,
              "#46039f"
             ],
             [
              0.2222222222222222,
              "#7201a8"
             ],
             [
              0.3333333333333333,
              "#9c179e"
             ],
             [
              0.4444444444444444,
              "#bd3786"
             ],
             [
              0.5555555555555556,
              "#d8576b"
             ],
             [
              0.6666666666666666,
              "#ed7953"
             ],
             [
              0.7777777777777778,
              "#fb9f3a"
             ],
             [
              0.8888888888888888,
              "#fdca26"
             ],
             [
              1,
              "#f0f921"
             ]
            ],
            "type": "histogram2d"
           }
          ],
          "histogram2dcontour": [
           {
            "colorbar": {
             "outlinewidth": 0,
             "ticks": ""
            },
            "colorscale": [
             [
              0,
              "#0d0887"
             ],
             [
              0.1111111111111111,
              "#46039f"
             ],
             [
              0.2222222222222222,
              "#7201a8"
             ],
             [
              0.3333333333333333,
              "#9c179e"
             ],
             [
              0.4444444444444444,
              "#bd3786"
             ],
             [
              0.5555555555555556,
              "#d8576b"
             ],
             [
              0.6666666666666666,
              "#ed7953"
             ],
             [
              0.7777777777777778,
              "#fb9f3a"
             ],
             [
              0.8888888888888888,
              "#fdca26"
             ],
             [
              1,
              "#f0f921"
             ]
            ],
            "type": "histogram2dcontour"
           }
          ],
          "mesh3d": [
           {
            "colorbar": {
             "outlinewidth": 0,
             "ticks": ""
            },
            "type": "mesh3d"
           }
          ],
          "parcoords": [
           {
            "line": {
             "colorbar": {
              "outlinewidth": 0,
              "ticks": ""
             }
            },
            "type": "parcoords"
           }
          ],
          "pie": [
           {
            "automargin": true,
            "type": "pie"
           }
          ],
          "scatter": [
           {
            "fillpattern": {
             "fillmode": "overlay",
             "size": 10,
             "solidity": 0.2
            },
            "type": "scatter"
           }
          ],
          "scatter3d": [
           {
            "line": {
             "colorbar": {
              "outlinewidth": 0,
              "ticks": ""
             }
            },
            "marker": {
             "colorbar": {
              "outlinewidth": 0,
              "ticks": ""
             }
            },
            "type": "scatter3d"
           }
          ],
          "scattercarpet": [
           {
            "marker": {
             "colorbar": {
              "outlinewidth": 0,
              "ticks": ""
             }
            },
            "type": "scattercarpet"
           }
          ],
          "scattergeo": [
           {
            "marker": {
             "colorbar": {
              "outlinewidth": 0,
              "ticks": ""
             }
            },
            "type": "scattergeo"
           }
          ],
          "scattergl": [
           {
            "marker": {
             "colorbar": {
              "outlinewidth": 0,
              "ticks": ""
             }
            },
            "type": "scattergl"
           }
          ],
          "scattermapbox": [
           {
            "marker": {
             "colorbar": {
              "outlinewidth": 0,
              "ticks": ""
             }
            },
            "type": "scattermapbox"
           }
          ],
          "scatterpolar": [
           {
            "marker": {
             "colorbar": {
              "outlinewidth": 0,
              "ticks": ""
             }
            },
            "type": "scatterpolar"
           }
          ],
          "scatterpolargl": [
           {
            "marker": {
             "colorbar": {
              "outlinewidth": 0,
              "ticks": ""
             }
            },
            "type": "scatterpolargl"
           }
          ],
          "scatterternary": [
           {
            "marker": {
             "colorbar": {
              "outlinewidth": 0,
              "ticks": ""
             }
            },
            "type": "scatterternary"
           }
          ],
          "surface": [
           {
            "colorbar": {
             "outlinewidth": 0,
             "ticks": ""
            },
            "colorscale": [
             [
              0,
              "#0d0887"
             ],
             [
              0.1111111111111111,
              "#46039f"
             ],
             [
              0.2222222222222222,
              "#7201a8"
             ],
             [
              0.3333333333333333,
              "#9c179e"
             ],
             [
              0.4444444444444444,
              "#bd3786"
             ],
             [
              0.5555555555555556,
              "#d8576b"
             ],
             [
              0.6666666666666666,
              "#ed7953"
             ],
             [
              0.7777777777777778,
              "#fb9f3a"
             ],
             [
              0.8888888888888888,
              "#fdca26"
             ],
             [
              1,
              "#f0f921"
             ]
            ],
            "type": "surface"
           }
          ],
          "table": [
           {
            "cells": {
             "fill": {
              "color": "#EBF0F8"
             },
             "line": {
              "color": "white"
             }
            },
            "header": {
             "fill": {
              "color": "#C8D4E3"
             },
             "line": {
              "color": "white"
             }
            },
            "type": "table"
           }
          ]
         },
         "layout": {
          "annotationdefaults": {
           "arrowcolor": "#2a3f5f",
           "arrowhead": 0,
           "arrowwidth": 1
          },
          "autotypenumbers": "strict",
          "coloraxis": {
           "colorbar": {
            "outlinewidth": 0,
            "ticks": ""
           }
          },
          "colorscale": {
           "diverging": [
            [
             0,
             "#8e0152"
            ],
            [
             0.1,
             "#c51b7d"
            ],
            [
             0.2,
             "#de77ae"
            ],
            [
             0.3,
             "#f1b6da"
            ],
            [
             0.4,
             "#fde0ef"
            ],
            [
             0.5,
             "#f7f7f7"
            ],
            [
             0.6,
             "#e6f5d0"
            ],
            [
             0.7,
             "#b8e186"
            ],
            [
             0.8,
             "#7fbc41"
            ],
            [
             0.9,
             "#4d9221"
            ],
            [
             1,
             "#276419"
            ]
           ],
           "sequential": [
            [
             0,
             "#0d0887"
            ],
            [
             0.1111111111111111,
             "#46039f"
            ],
            [
             0.2222222222222222,
             "#7201a8"
            ],
            [
             0.3333333333333333,
             "#9c179e"
            ],
            [
             0.4444444444444444,
             "#bd3786"
            ],
            [
             0.5555555555555556,
             "#d8576b"
            ],
            [
             0.6666666666666666,
             "#ed7953"
            ],
            [
             0.7777777777777778,
             "#fb9f3a"
            ],
            [
             0.8888888888888888,
             "#fdca26"
            ],
            [
             1,
             "#f0f921"
            ]
           ],
           "sequentialminus": [
            [
             0,
             "#0d0887"
            ],
            [
             0.1111111111111111,
             "#46039f"
            ],
            [
             0.2222222222222222,
             "#7201a8"
            ],
            [
             0.3333333333333333,
             "#9c179e"
            ],
            [
             0.4444444444444444,
             "#bd3786"
            ],
            [
             0.5555555555555556,
             "#d8576b"
            ],
            [
             0.6666666666666666,
             "#ed7953"
            ],
            [
             0.7777777777777778,
             "#fb9f3a"
            ],
            [
             0.8888888888888888,
             "#fdca26"
            ],
            [
             1,
             "#f0f921"
            ]
           ]
          },
          "colorway": [
           "#636efa",
           "#EF553B",
           "#00cc96",
           "#ab63fa",
           "#FFA15A",
           "#19d3f3",
           "#FF6692",
           "#B6E880",
           "#FF97FF",
           "#FECB52"
          ],
          "font": {
           "color": "#2a3f5f"
          },
          "geo": {
           "bgcolor": "white",
           "lakecolor": "white",
           "landcolor": "white",
           "showlakes": true,
           "showland": true,
           "subunitcolor": "#C8D4E3"
          },
          "hoverlabel": {
           "align": "left"
          },
          "hovermode": "closest",
          "mapbox": {
           "style": "light"
          },
          "paper_bgcolor": "white",
          "plot_bgcolor": "white",
          "polar": {
           "angularaxis": {
            "gridcolor": "#EBF0F8",
            "linecolor": "#EBF0F8",
            "ticks": ""
           },
           "bgcolor": "white",
           "radialaxis": {
            "gridcolor": "#EBF0F8",
            "linecolor": "#EBF0F8",
            "ticks": ""
           }
          },
          "scene": {
           "xaxis": {
            "backgroundcolor": "white",
            "gridcolor": "#DFE8F3",
            "gridwidth": 2,
            "linecolor": "#EBF0F8",
            "showbackground": true,
            "ticks": "",
            "zerolinecolor": "#EBF0F8"
           },
           "yaxis": {
            "backgroundcolor": "white",
            "gridcolor": "#DFE8F3",
            "gridwidth": 2,
            "linecolor": "#EBF0F8",
            "showbackground": true,
            "ticks": "",
            "zerolinecolor": "#EBF0F8"
           },
           "zaxis": {
            "backgroundcolor": "white",
            "gridcolor": "#DFE8F3",
            "gridwidth": 2,
            "linecolor": "#EBF0F8",
            "showbackground": true,
            "ticks": "",
            "zerolinecolor": "#EBF0F8"
           }
          },
          "shapedefaults": {
           "line": {
            "color": "#2a3f5f"
           }
          },
          "ternary": {
           "aaxis": {
            "gridcolor": "#DFE8F3",
            "linecolor": "#A2B1C6",
            "ticks": ""
           },
           "baxis": {
            "gridcolor": "#DFE8F3",
            "linecolor": "#A2B1C6",
            "ticks": ""
           },
           "bgcolor": "white",
           "caxis": {
            "gridcolor": "#DFE8F3",
            "linecolor": "#A2B1C6",
            "ticks": ""
           }
          },
          "title": {
           "x": 0.05
          },
          "xaxis": {
           "automargin": true,
           "gridcolor": "#EBF0F8",
           "linecolor": "#EBF0F8",
           "ticks": "",
           "title": {
            "standoff": 15
           },
           "zerolinecolor": "#EBF0F8",
           "zerolinewidth": 2
          },
          "yaxis": {
           "automargin": true,
           "gridcolor": "#EBF0F8",
           "linecolor": "#EBF0F8",
           "ticks": "",
           "title": {
            "standoff": 15
           },
           "zerolinecolor": "#EBF0F8",
           "zerolinewidth": 2
          }
         }
        },
        "title": {
         "text": "Distribuição por Gênero em Cada Nível de Formação Acadêmica (2021-2023)"
        },
        "xaxis": {
         "anchor": "y",
         "domain": [
          0,
          0.2888888888888889
         ],
         "range": [
          0,
          100
         ],
         "ticksuffix": "%",
         "title": {
          "text": "Proporção (%)"
         }
        },
        "xaxis2": {
         "anchor": "y2",
         "domain": [
          0.35555555555555557,
          0.6444444444444445
         ],
         "range": [
          0,
          100
         ],
         "ticksuffix": "%"
        },
        "xaxis3": {
         "anchor": "y3",
         "domain": [
          0.7111111111111111,
          1
         ],
         "range": [
          0,
          100
         ],
         "ticksuffix": "%"
        },
        "yaxis": {
         "anchor": "x",
         "domain": [
          0,
          1
         ],
         "title": {
          "text": "Nível de Formação"
         }
        },
        "yaxis2": {
         "anchor": "x2",
         "domain": [
          0,
          1
         ],
         "matches": "y",
         "showticklabels": false
        },
        "yaxis3": {
         "anchor": "x3",
         "domain": [
          0,
          1
         ],
         "matches": "y",
         "showticklabels": false
        }
       }
      }
     },
     "metadata": {},
     "output_type": "display_data"
    }
   ],
   "source": [
    "import plotly.graph_objects as go\n",
    "from plotly.subplots import make_subplots\n",
    "\n",
    "# Criando um DataFrame agrupado para contar quantas pessoas há por nível de escolaridade e gênero\n",
    "df_grouped = df_unificado.groupby([\"ano_pesquisa\", \"nivel_ensino\", \"genero\"]).size().reset_index(name=\"count\")\n",
    "\n",
    "# Calculando o total por ano e nível para percentuais dentro de cada nível\n",
    "totais_por_ano_nivel = df_unificado.groupby([\"ano_pesquisa\", \"nivel_ensino\"]).size().reset_index(name=\"total_nivel\")\n",
    "df_grouped = df_grouped.merge(totais_por_ano_nivel, on=[\"ano_pesquisa\", \"nivel_ensino\"])\n",
    "\n",
    "# Calculando a proporção dentro de cada nível\n",
    "df_grouped[\"proporção\"] = df_grouped[\"count\"] / df_grouped[\"total_nivel\"] * 100\n",
    "\n",
    "# Criando a figura com subplots\n",
    "fig = make_subplots(rows=1, cols=3, shared_yaxes=True, subplot_titles=[\"2021\", \"2022\", \"2023\"])\n",
    "\n",
    "anos = ['2021', '2022', '2023']\n",
    "cores = {\"Masculino\": \"#708090\", \"Feminino\": \"#673147\"}\n",
    "\n",
    "# Definindo a ordem lógica dos níveis de formação\n",
    "ordem_niveis = [\n",
    "    'Não tenho graduação formal', \n",
    "    'Estudante de Graduação',\n",
    "    'Graduação/Bacharelado', \n",
    "    'Pós-graduação',\n",
    "    'Mestrado',\n",
    "    'Doutorado ou Phd'\n",
    "]\n",
    "\n",
    "# Verificar quais níveis realmente existem nos dados\n",
    "niveis_existentes = df_grouped[\"nivel_ensino\"].unique()\n",
    "print(f\"Níveis existentes: {niveis_existentes}\")\n",
    "\n",
    "# Filtrando apenas os níveis que existem no DataFrame e estão na nossa ordem\n",
    "niveis_para_plotar = [nivel for nivel in ordem_niveis if nivel in niveis_existentes]\n",
    "if not niveis_para_plotar:  # Se nenhum nível corresponder, use todos os existentes\n",
    "    niveis_para_plotar = sorted(niveis_existentes)\n",
    "\n",
    "for i, ano in enumerate(anos):\n",
    "    # Filtrando dados do ano atual\n",
    "    df_ano = df_grouped[df_grouped[\"ano_pesquisa\"] == ano]\n",
    "    \n",
    "    for nivel in niveis_para_plotar:\n",
    "        df_nivel = df_ano[df_ano[\"nivel_ensino\"] == nivel]\n",
    "        \n",
    "        if df_nivel.empty:\n",
    "            continue\n",
    "        \n",
    "        # Criando um dicionário para mapear gênero para proporção\n",
    "        proporcoes = {genero: df_nivel[df_nivel[\"genero\"] == genero][\"proporção\"].values[0] \n",
    "                      if not df_nivel[df_nivel[\"genero\"] == genero].empty else 0 \n",
    "                      for genero in [\"Masculino\", \"Feminino\"]}\n",
    "        \n",
    "        # Adicionando barras para cada gênero\n",
    "        for genero in [\"Feminino\", \"Masculino\"]:\n",
    "            fig.add_trace(go.Bar(\n",
    "                y=[nivel],\n",
    "                x=[proporcoes[genero]],\n",
    "                name=genero,\n",
    "                orientation=\"h\",\n",
    "                marker=dict(color=cores[genero]),\n",
    "                text=f\"{proporcoes[genero]:.1f}%\",\n",
    "                textposition=\"inside\",\n",
    "                showlegend=True if i == 0 and nivel == niveis_para_plotar[0] else False\n",
    "            ), row=1, col=i+1)\n",
    "\n",
    "# Configurando layout\n",
    "fig.update_layout(\n",
    "    title=\"Distribuição por Gênero em Cada Nível de Formação Acadêmica (2021-2023)\",\n",
    "    xaxis_title=\"Proporção (%)\",\n",
    "    yaxis_title=\"Nível de Formação\",\n",
    "    barmode=\"stack\",\n",
    "    height=600,\n",
    "    template=\"plotly_white\",\n",
    "    legend=dict(\n",
    "        orientation=\"h\",\n",
    "        yanchor=\"bottom\",\n",
    "        y=1.02,\n",
    "        xanchor=\"center\",\n",
    "        x=0.5\n",
    "    )\n",
    ")\n",
    "\n",
    "# Ajustando os eixos X para mostrar valores em percentuais\n",
    "for i in range(1, 4):\n",
    "    fig.update_xaxes(ticksuffix=\"%\", range=[0, 100], row=1, col=i)\n",
    "    \n",
    "\n",
    "fig.show()"
   ]
  },
  {
   "cell_type": "code",
   "execution_count": null,
   "metadata": {},
   "outputs": [
    {
     "data": {
      "application/vnd.plotly.v1+json": {
       "config": {
        "plotlyServerURL": "https://plot.ly"
       },
       "data": [
        {
         "insidetextanchor": "middle",
         "legendgroup": "2021",
         "marker": {
          "color": "#673147"
         },
         "name": "2021",
         "offsetgroup": "2021",
         "orientation": "h",
         "showlegend": false,
         "text": [
          "2021",
          "2021",
          "2021",
          "2021",
          "2021",
          "2021",
          "2021",
          "2021",
          "2021"
         ],
         "textfont": {
          "color": "black",
          "size": 10
         },
         "textposition": "outside",
         "type": "bar",
         "x": [
          21,
          6,
          174,
          73,
          104,
          62,
          24,
          11,
          11
         ],
         "xaxis": "x",
         "y": [
          "Ciências Biológicas / Medicina / Saúde",
          "Ciências Sociais",
          "Computação / Engenharia de Software / TI",
          "Economia / Administração / Finanças / Negócios",
          "Engenharia (outras)",
          "Estatística / Matemática / Ciências Atuariais",
          "Marketing / Comunicação / Jornalismo",
          "Outras",
          "Química / Física"
         ],
         "yaxis": "y"
        },
        {
         "insidetextanchor": "middle",
         "legendgroup": "2022",
         "marker": {
          "color": "#673147"
         },
         "name": "2022",
         "offsetgroup": "2022",
         "orientation": "h",
         "showlegend": false,
         "text": [
          "2022",
          "2022",
          "2022",
          "2022",
          "2022",
          "2022",
          "2022",
          "2022",
          "2022"
         ],
         "textfont": {
          "color": "black",
          "size": 10
         },
         "textposition": "outside",
         "type": "bar",
         "x": [
          53,
          22,
          287,
          174,
          187,
          138,
          55,
          85,
          28
         ],
         "xaxis": "x",
         "y": [
          "Ciências Biológicas / Medicina / Saúde",
          "Ciências Sociais",
          "Computação / Engenharia de Software / TI",
          "Economia / Administração / Finanças / Negócios",
          "Engenharia (outras)",
          "Estatística / Matemática / Ciências Atuariais",
          "Marketing / Comunicação / Jornalismo",
          "Outras",
          "Química / Física"
         ],
         "yaxis": "y"
        },
        {
         "insidetextanchor": "middle",
         "legendgroup": "2023",
         "marker": {
          "color": "#673147"
         },
         "name": "2023",
         "offsetgroup": "2023",
         "orientation": "h",
         "showlegend": false,
         "text": [
          "2023",
          "2023",
          "2023",
          "2023",
          "2023",
          "2023",
          "2023",
          "2023",
          "2023"
         ],
         "textfont": {
          "color": "black",
          "size": 10
         },
         "textposition": "outside",
         "type": "bar",
         "x": [
          61,
          39,
          417,
          203,
          243,
          117,
          54,
          106,
          33
         ],
         "xaxis": "x",
         "y": [
          "Ciências Biológicas / Medicina / Saúde",
          "Ciências Sociais",
          "Computação / Engenharia de Software / TI",
          "Economia / Administração / Finanças / Negócios",
          "Engenharia (outras)",
          "Estatística / Matemática / Ciências Atuariais",
          "Marketing / Comunicação / Jornalismo",
          "Outras",
          "Química / Física"
         ],
         "yaxis": "y"
        },
        {
         "insidetextanchor": "middle",
         "legendgroup": "2021",
         "marker": {
          "color": "#708090"
         },
         "name": "2021",
         "offsetgroup": "2021",
         "orientation": "h",
         "showlegend": false,
         "text": [
          "2021",
          "2021",
          "2021",
          "2021",
          "2021",
          "2021",
          "2021",
          "2021",
          "2021"
         ],
         "textfont": {
          "color": "black",
          "size": 10
         },
         "textposition": "outside",
         "type": "bar",
         "x": [
          26,
          33,
          920,
          305,
          500,
          151,
          50,
          40,
          62
         ],
         "xaxis": "x2",
         "y": [
          "Ciências Biológicas / Medicina / Saúde",
          "Ciências Sociais",
          "Computação / Engenharia de Software / TI",
          "Economia / Administração / Finanças / Negócios",
          "Engenharia (outras)",
          "Estatística / Matemática / Ciências Atuariais",
          "Marketing / Comunicação / Jornalismo",
          "Outras",
          "Química / Física"
         ],
         "yaxis": "y2"
        },
        {
         "insidetextanchor": "middle",
         "legendgroup": "2022",
         "marker": {
          "color": "#708090"
         },
         "name": "2022",
         "offsetgroup": "2022",
         "orientation": "h",
         "showlegend": false,
         "text": [
          "2022",
          "2022",
          "2022",
          "2022",
          "2022",
          "2022",
          "2022",
          "2022",
          "2022"
         ],
         "textfont": {
          "color": "black",
          "size": 10
         },
         "textposition": "outside",
         "type": "bar",
         "x": [
          57,
          49,
          1252,
          464,
          749,
          266,
          66,
          114,
          83
         ],
         "xaxis": "x2",
         "y": [
          "Ciências Biológicas / Medicina / Saúde",
          "Ciências Sociais",
          "Computação / Engenharia de Software / TI",
          "Economia / Administração / Finanças / Negócios",
          "Engenharia (outras)",
          "Estatística / Matemática / Ciências Atuariais",
          "Marketing / Comunicação / Jornalismo",
          "Outras",
          "Química / Física"
         ],
         "yaxis": "y2"
        },
        {
         "insidetextanchor": "middle",
         "legendgroup": "2023",
         "marker": {
          "color": "#708090"
         },
         "name": "2023",
         "offsetgroup": "2023",
         "orientation": "h",
         "showlegend": false,
         "text": [
          "2023",
          "2023",
          "2023",
          "2023",
          "2023",
          "2023",
          "2023",
          "2023",
          "2023"
         ],
         "textfont": {
          "color": "black",
          "size": 10
         },
         "textposition": "outside",
         "type": "bar",
         "x": [
          60,
          45,
          1728,
          609,
          833,
          256,
          76,
          177,
          98
         ],
         "xaxis": "x2",
         "y": [
          "Ciências Biológicas / Medicina / Saúde",
          "Ciências Sociais",
          "Computação / Engenharia de Software / TI",
          "Economia / Administração / Finanças / Negócios",
          "Engenharia (outras)",
          "Estatística / Matemática / Ciências Atuariais",
          "Marketing / Comunicação / Jornalismo",
          "Outras",
          "Química / Física"
         ],
         "yaxis": "y2"
        }
       ],
       "layout": {
        "annotations": [
         {
          "font": {
           "size": 16
          },
          "showarrow": false,
          "text": "Feminino",
          "x": 0.2375,
          "xanchor": "center",
          "xref": "paper",
          "y": 1,
          "yanchor": "bottom",
          "yref": "paper"
         },
         {
          "font": {
           "size": 16
          },
          "showarrow": false,
          "text": "Masculino",
          "x": 0.7625,
          "xanchor": "center",
          "xref": "paper",
          "y": 1,
          "yanchor": "bottom",
          "yref": "paper"
         }
        ],
        "barmode": "group",
        "height": 700,
        "legend": {
         "orientation": "h",
         "x": 1,
         "xanchor": "right",
         "y": 1.02,
         "yanchor": "bottom"
        },
        "template": {
         "data": {
          "bar": [
           {
            "error_x": {
             "color": "#2a3f5f"
            },
            "error_y": {
             "color": "#2a3f5f"
            },
            "marker": {
             "line": {
              "color": "white",
              "width": 0.5
             },
             "pattern": {
              "fillmode": "overlay",
              "size": 10,
              "solidity": 0.2
             }
            },
            "type": "bar"
           }
          ],
          "barpolar": [
           {
            "marker": {
             "line": {
              "color": "white",
              "width": 0.5
             },
             "pattern": {
              "fillmode": "overlay",
              "size": 10,
              "solidity": 0.2
             }
            },
            "type": "barpolar"
           }
          ],
          "carpet": [
           {
            "aaxis": {
             "endlinecolor": "#2a3f5f",
             "gridcolor": "#C8D4E3",
             "linecolor": "#C8D4E3",
             "minorgridcolor": "#C8D4E3",
             "startlinecolor": "#2a3f5f"
            },
            "baxis": {
             "endlinecolor": "#2a3f5f",
             "gridcolor": "#C8D4E3",
             "linecolor": "#C8D4E3",
             "minorgridcolor": "#C8D4E3",
             "startlinecolor": "#2a3f5f"
            },
            "type": "carpet"
           }
          ],
          "choropleth": [
           {
            "colorbar": {
             "outlinewidth": 0,
             "ticks": ""
            },
            "type": "choropleth"
           }
          ],
          "contour": [
           {
            "colorbar": {
             "outlinewidth": 0,
             "ticks": ""
            },
            "colorscale": [
             [
              0,
              "#0d0887"
             ],
             [
              0.1111111111111111,
              "#46039f"
             ],
             [
              0.2222222222222222,
              "#7201a8"
             ],
             [
              0.3333333333333333,
              "#9c179e"
             ],
             [
              0.4444444444444444,
              "#bd3786"
             ],
             [
              0.5555555555555556,
              "#d8576b"
             ],
             [
              0.6666666666666666,
              "#ed7953"
             ],
             [
              0.7777777777777778,
              "#fb9f3a"
             ],
             [
              0.8888888888888888,
              "#fdca26"
             ],
             [
              1,
              "#f0f921"
             ]
            ],
            "type": "contour"
           }
          ],
          "contourcarpet": [
           {
            "colorbar": {
             "outlinewidth": 0,
             "ticks": ""
            },
            "type": "contourcarpet"
           }
          ],
          "heatmap": [
           {
            "colorbar": {
             "outlinewidth": 0,
             "ticks": ""
            },
            "colorscale": [
             [
              0,
              "#0d0887"
             ],
             [
              0.1111111111111111,
              "#46039f"
             ],
             [
              0.2222222222222222,
              "#7201a8"
             ],
             [
              0.3333333333333333,
              "#9c179e"
             ],
             [
              0.4444444444444444,
              "#bd3786"
             ],
             [
              0.5555555555555556,
              "#d8576b"
             ],
             [
              0.6666666666666666,
              "#ed7953"
             ],
             [
              0.7777777777777778,
              "#fb9f3a"
             ],
             [
              0.8888888888888888,
              "#fdca26"
             ],
             [
              1,
              "#f0f921"
             ]
            ],
            "type": "heatmap"
           }
          ],
          "heatmapgl": [
           {
            "colorbar": {
             "outlinewidth": 0,
             "ticks": ""
            },
            "colorscale": [
             [
              0,
              "#0d0887"
             ],
             [
              0.1111111111111111,
              "#46039f"
             ],
             [
              0.2222222222222222,
              "#7201a8"
             ],
             [
              0.3333333333333333,
              "#9c179e"
             ],
             [
              0.4444444444444444,
              "#bd3786"
             ],
             [
              0.5555555555555556,
              "#d8576b"
             ],
             [
              0.6666666666666666,
              "#ed7953"
             ],
             [
              0.7777777777777778,
              "#fb9f3a"
             ],
             [
              0.8888888888888888,
              "#fdca26"
             ],
             [
              1,
              "#f0f921"
             ]
            ],
            "type": "heatmapgl"
           }
          ],
          "histogram": [
           {
            "marker": {
             "pattern": {
              "fillmode": "overlay",
              "size": 10,
              "solidity": 0.2
             }
            },
            "type": "histogram"
           }
          ],
          "histogram2d": [
           {
            "colorbar": {
             "outlinewidth": 0,
             "ticks": ""
            },
            "colorscale": [
             [
              0,
              "#0d0887"
             ],
             [
              0.1111111111111111,
              "#46039f"
             ],
             [
              0.2222222222222222,
              "#7201a8"
             ],
             [
              0.3333333333333333,
              "#9c179e"
             ],
             [
              0.4444444444444444,
              "#bd3786"
             ],
             [
              0.5555555555555556,
              "#d8576b"
             ],
             [
              0.6666666666666666,
              "#ed7953"
             ],
             [
              0.7777777777777778,
              "#fb9f3a"
             ],
             [
              0.8888888888888888,
              "#fdca26"
             ],
             [
              1,
              "#f0f921"
             ]
            ],
            "type": "histogram2d"
           }
          ],
          "histogram2dcontour": [
           {
            "colorbar": {
             "outlinewidth": 0,
             "ticks": ""
            },
            "colorscale": [
             [
              0,
              "#0d0887"
             ],
             [
              0.1111111111111111,
              "#46039f"
             ],
             [
              0.2222222222222222,
              "#7201a8"
             ],
             [
              0.3333333333333333,
              "#9c179e"
             ],
             [
              0.4444444444444444,
              "#bd3786"
             ],
             [
              0.5555555555555556,
              "#d8576b"
             ],
             [
              0.6666666666666666,
              "#ed7953"
             ],
             [
              0.7777777777777778,
              "#fb9f3a"
             ],
             [
              0.8888888888888888,
              "#fdca26"
             ],
             [
              1,
              "#f0f921"
             ]
            ],
            "type": "histogram2dcontour"
           }
          ],
          "mesh3d": [
           {
            "colorbar": {
             "outlinewidth": 0,
             "ticks": ""
            },
            "type": "mesh3d"
           }
          ],
          "parcoords": [
           {
            "line": {
             "colorbar": {
              "outlinewidth": 0,
              "ticks": ""
             }
            },
            "type": "parcoords"
           }
          ],
          "pie": [
           {
            "automargin": true,
            "type": "pie"
           }
          ],
          "scatter": [
           {
            "fillpattern": {
             "fillmode": "overlay",
             "size": 10,
             "solidity": 0.2
            },
            "type": "scatter"
           }
          ],
          "scatter3d": [
           {
            "line": {
             "colorbar": {
              "outlinewidth": 0,
              "ticks": ""
             }
            },
            "marker": {
             "colorbar": {
              "outlinewidth": 0,
              "ticks": ""
             }
            },
            "type": "scatter3d"
           }
          ],
          "scattercarpet": [
           {
            "marker": {
             "colorbar": {
              "outlinewidth": 0,
              "ticks": ""
             }
            },
            "type": "scattercarpet"
           }
          ],
          "scattergeo": [
           {
            "marker": {
             "colorbar": {
              "outlinewidth": 0,
              "ticks": ""
             }
            },
            "type": "scattergeo"
           }
          ],
          "scattergl": [
           {
            "marker": {
             "colorbar": {
              "outlinewidth": 0,
              "ticks": ""
             }
            },
            "type": "scattergl"
           }
          ],
          "scattermapbox": [
           {
            "marker": {
             "colorbar": {
              "outlinewidth": 0,
              "ticks": ""
             }
            },
            "type": "scattermapbox"
           }
          ],
          "scatterpolar": [
           {
            "marker": {
             "colorbar": {
              "outlinewidth": 0,
              "ticks": ""
             }
            },
            "type": "scatterpolar"
           }
          ],
          "scatterpolargl": [
           {
            "marker": {
             "colorbar": {
              "outlinewidth": 0,
              "ticks": ""
             }
            },
            "type": "scatterpolargl"
           }
          ],
          "scatterternary": [
           {
            "marker": {
             "colorbar": {
              "outlinewidth": 0,
              "ticks": ""
             }
            },
            "type": "scatterternary"
           }
          ],
          "surface": [
           {
            "colorbar": {
             "outlinewidth": 0,
             "ticks": ""
            },
            "colorscale": [
             [
              0,
              "#0d0887"
             ],
             [
              0.1111111111111111,
              "#46039f"
             ],
             [
              0.2222222222222222,
              "#7201a8"
             ],
             [
              0.3333333333333333,
              "#9c179e"
             ],
             [
              0.4444444444444444,
              "#bd3786"
             ],
             [
              0.5555555555555556,
              "#d8576b"
             ],
             [
              0.6666666666666666,
              "#ed7953"
             ],
             [
              0.7777777777777778,
              "#fb9f3a"
             ],
             [
              0.8888888888888888,
              "#fdca26"
             ],
             [
              1,
              "#f0f921"
             ]
            ],
            "type": "surface"
           }
          ],
          "table": [
           {
            "cells": {
             "fill": {
              "color": "#EBF0F8"
             },
             "line": {
              "color": "white"
             }
            },
            "header": {
             "fill": {
              "color": "#C8D4E3"
             },
             "line": {
              "color": "white"
             }
            },
            "type": "table"
           }
          ]
         },
         "layout": {
          "annotationdefaults": {
           "arrowcolor": "#2a3f5f",
           "arrowhead": 0,
           "arrowwidth": 1
          },
          "autotypenumbers": "strict",
          "coloraxis": {
           "colorbar": {
            "outlinewidth": 0,
            "ticks": ""
           }
          },
          "colorscale": {
           "diverging": [
            [
             0,
             "#8e0152"
            ],
            [
             0.1,
             "#c51b7d"
            ],
            [
             0.2,
             "#de77ae"
            ],
            [
             0.3,
             "#f1b6da"
            ],
            [
             0.4,
             "#fde0ef"
            ],
            [
             0.5,
             "#f7f7f7"
            ],
            [
             0.6,
             "#e6f5d0"
            ],
            [
             0.7,
             "#b8e186"
            ],
            [
             0.8,
             "#7fbc41"
            ],
            [
             0.9,
             "#4d9221"
            ],
            [
             1,
             "#276419"
            ]
           ],
           "sequential": [
            [
             0,
             "#0d0887"
            ],
            [
             0.1111111111111111,
             "#46039f"
            ],
            [
             0.2222222222222222,
             "#7201a8"
            ],
            [
             0.3333333333333333,
             "#9c179e"
            ],
            [
             0.4444444444444444,
             "#bd3786"
            ],
            [
             0.5555555555555556,
             "#d8576b"
            ],
            [
             0.6666666666666666,
             "#ed7953"
            ],
            [
             0.7777777777777778,
             "#fb9f3a"
            ],
            [
             0.8888888888888888,
             "#fdca26"
            ],
            [
             1,
             "#f0f921"
            ]
           ],
           "sequentialminus": [
            [
             0,
             "#0d0887"
            ],
            [
             0.1111111111111111,
             "#46039f"
            ],
            [
             0.2222222222222222,
             "#7201a8"
            ],
            [
             0.3333333333333333,
             "#9c179e"
            ],
            [
             0.4444444444444444,
             "#bd3786"
            ],
            [
             0.5555555555555556,
             "#d8576b"
            ],
            [
             0.6666666666666666,
             "#ed7953"
            ],
            [
             0.7777777777777778,
             "#fb9f3a"
            ],
            [
             0.8888888888888888,
             "#fdca26"
            ],
            [
             1,
             "#f0f921"
            ]
           ]
          },
          "colorway": [
           "#636efa",
           "#EF553B",
           "#00cc96",
           "#ab63fa",
           "#FFA15A",
           "#19d3f3",
           "#FF6692",
           "#B6E880",
           "#FF97FF",
           "#FECB52"
          ],
          "font": {
           "color": "#2a3f5f"
          },
          "geo": {
           "bgcolor": "white",
           "lakecolor": "white",
           "landcolor": "white",
           "showlakes": true,
           "showland": true,
           "subunitcolor": "#C8D4E3"
          },
          "hoverlabel": {
           "align": "left"
          },
          "hovermode": "closest",
          "mapbox": {
           "style": "light"
          },
          "paper_bgcolor": "white",
          "plot_bgcolor": "white",
          "polar": {
           "angularaxis": {
            "gridcolor": "#EBF0F8",
            "linecolor": "#EBF0F8",
            "ticks": ""
           },
           "bgcolor": "white",
           "radialaxis": {
            "gridcolor": "#EBF0F8",
            "linecolor": "#EBF0F8",
            "ticks": ""
           }
          },
          "scene": {
           "xaxis": {
            "backgroundcolor": "white",
            "gridcolor": "#DFE8F3",
            "gridwidth": 2,
            "linecolor": "#EBF0F8",
            "showbackground": true,
            "ticks": "",
            "zerolinecolor": "#EBF0F8"
           },
           "yaxis": {
            "backgroundcolor": "white",
            "gridcolor": "#DFE8F3",
            "gridwidth": 2,
            "linecolor": "#EBF0F8",
            "showbackground": true,
            "ticks": "",
            "zerolinecolor": "#EBF0F8"
           },
           "zaxis": {
            "backgroundcolor": "white",
            "gridcolor": "#DFE8F3",
            "gridwidth": 2,
            "linecolor": "#EBF0F8",
            "showbackground": true,
            "ticks": "",
            "zerolinecolor": "#EBF0F8"
           }
          },
          "shapedefaults": {
           "line": {
            "color": "#2a3f5f"
           }
          },
          "ternary": {
           "aaxis": {
            "gridcolor": "#DFE8F3",
            "linecolor": "#A2B1C6",
            "ticks": ""
           },
           "baxis": {
            "gridcolor": "#DFE8F3",
            "linecolor": "#A2B1C6",
            "ticks": ""
           },
           "bgcolor": "white",
           "caxis": {
            "gridcolor": "#DFE8F3",
            "linecolor": "#A2B1C6",
            "ticks": ""
           }
          },
          "title": {
           "x": 0.05
          },
          "xaxis": {
           "automargin": true,
           "gridcolor": "#EBF0F8",
           "linecolor": "#EBF0F8",
           "ticks": "",
           "title": {
            "standoff": 15
           },
           "zerolinecolor": "#EBF0F8",
           "zerolinewidth": 2
          },
          "yaxis": {
           "automargin": true,
           "gridcolor": "#EBF0F8",
           "linecolor": "#EBF0F8",
           "ticks": "",
           "title": {
            "standoff": 15
           },
           "zerolinecolor": "#EBF0F8",
           "zerolinewidth": 2
          }
         }
        },
        "title": {
         "text": "Distribuição por Área de Formação, Gênero e Ano"
        },
        "width": 1200,
        "xaxis": {
         "anchor": "y",
         "domain": [
          0,
          0.475
         ],
         "title": {
          "text": "Contagem"
         }
        },
        "xaxis2": {
         "anchor": "y2",
         "domain": [
          0.525,
          1
         ],
         "title": {
          "text": "Contagem"
         }
        },
        "yaxis": {
         "anchor": "x",
         "domain": [
          0,
          1
         ],
         "title": {
          "text": "Área de Formação"
         }
        },
        "yaxis2": {
         "anchor": "x2",
         "domain": [
          0,
          1
         ],
         "matches": "y",
         "showticklabels": false
        }
       }
      }
     },
     "metadata": {},
     "output_type": "display_data"
    }
   ],
   "source": [
    "import plotly.graph_objects as go\n",
    "from plotly.subplots import make_subplots\n",
    "\n",
    "mapeamento_areas = {\n",
    "    \"Química / Física\": \"Química / Física\",\n",
    "    \"Economia/ Administração / Contabilidade / Finanças\": \"Economia / Administração / Finanças / Negócios\",\n",
    "    \"Computação / Engenharia de Software / Sistemas de Informação/ TI\": \"Computação / Engenharia de Software / TI\",\n",
    "    \"Outras\": \"Outras\",\n",
    "    \"Outras Engenharias\": \"Engenharia (outras)\",\n",
    "    \"Marketing / Publicidade / Comunicação / Jornalismo\": \"Marketing / Comunicação / Jornalismo\",\n",
    "    \"Estatística/ Matemática / Matemática Computacional\": \"Estatística / Matemática / Ciências Atuariais\",\n",
    "    \"Ciências Sociais\": \"Ciências Sociais\",\n",
    "    \"Ciências Biológicas/Farmácia/Medicina/Área da Saúde\": \"Ciências Biológicas / Medicina / Saúde\",\n",
    "    \"Estatística/ Matemática / Matemática Computacional/ Ciências Atuariais\": \"Estatística / Matemática / Ciências Atuariais\",\n",
    "    \"Ciências Biológicas/ Farmácia/ Medicina/ Área da Saúde\": \"Ciências Biológicas / Medicina / Saúde\",\n",
    "    \"Economia/ Administração / Contabilidade / Finanças/ Negócios\": \"Economia / Administração / Finanças / Negócios\",\n",
    "    \"Outra opção\": \"Outras\"\n",
    "}\n",
    "\n",
    "# Aplicando a normalização\n",
    "df_unificado[\"area_formacao\"] = df_unificado[\"area_formacao\"].replace(mapeamento_areas)\n",
    "\n",
    "# Criando um DataFrame agrupado para contar pessoas por área de formação e gênero\n",
    "df_grouped = df_unificado.groupby([\"ano_pesquisa\", \"area_formacao\", \"genero\"]).size().reset_index(name=\"count\")\n",
    "\n",
    "# Obter lista de áreas de formação únicas em ordem alfabética\n",
    "areas_unicas = sorted(df_grouped[\"area_formacao\"].unique())\n",
    "\n",
    "# Cores específicas para cada gênero\n",
    "cor_feminino = \"#673147\"  # tom de vinho\n",
    "cor_masculino = \"#708090\"  # cinza azulado\n",
    "\n",
    "# Criar a figura com subplots (1 linha, 2 colunas)\n",
    "fig = make_subplots(\n",
    "    rows=1, cols=2,\n",
    "    subplot_titles=(\"Feminino\", \"Masculino\"),\n",
    "    shared_yaxes=True,\n",
    "    horizontal_spacing=0.05\n",
    ")\n",
    "\n",
    "# Para cada gênero, vamos criar um subplot\n",
    "for i, genero in enumerate([\"Feminino\", \"Masculino\"]):\n",
    "    col = i + 1  # coluna 1 para Feminino, coluna 2 para Masculino\n",
    "    df_genero = df_grouped[df_grouped[\"genero\"] == genero]\n",
    "    \n",
    "    # Definir a cor com base no gênero\n",
    "    cor = cor_feminino if genero == \"Feminino\" else cor_masculino\n",
    "    \n",
    "    # Para cada ano, adicionamos um conjunto de barras\n",
    "    for ano in [\"2021\", \"2022\", \"2023\"]:\n",
    "        # Criar um dataframe apenas com os dados deste ano\n",
    "        df_ano = df_genero[df_genero[\"ano_pesquisa\"] == ano]\n",
    "        \n",
    "        # Preparar os dados para todas as áreas\n",
    "        valores = []\n",
    "        areas_presentes = []\n",
    "        \n",
    "        for area in areas_unicas:\n",
    "            df_area_ano = df_ano[df_ano[\"area_formacao\"] == area]\n",
    "            \n",
    "            # Se há dados para esta área neste ano, adicione-os\n",
    "            if not df_area_ano.empty:\n",
    "                valores.append(df_area_ano[\"count\"].values[0])\n",
    "                areas_presentes.append(area)\n",
    "        \n",
    "        # Adicionar barra horizontal para este ano\n",
    "        if valores:  # Verifica se temos algum dado para este ano\n",
    "            fig.add_trace(\n",
    "                go.Bar(\n",
    "                    x=valores,\n",
    "                    y=areas_presentes,\n",
    "                    name=ano,\n",
    "                    marker_color=cor,\n",
    "                    legendgroup=ano,\n",
    "                    showlegend=False,  # Mostra legenda apenas para o primeiro subplot\n",
    "                    orientation='h',\n",
    "                    offsetgroup=ano,  # Isso garante que as barras do mesmo ano fiquem alinhadas\n",
    "                    text=[ano] * len(valores),  # Adiciona o ano sobre as barras\n",
    "                    textposition=\"outside\",  # Todas as legendas fora das barras\n",
    "                    insidetextanchor=\"middle\",\n",
    "                    textfont=dict(size=10, color=\"black\")  # Fonte maior e cor preta para visibilidade\n",
    "                ),\n",
    "                row=1, col=col\n",
    "            )\n",
    "\n",
    "# Configurando layout\n",
    "fig.update_layout(\n",
    "    title=\"Distribuição por Área de Formação, Gênero e Ano\",\n",
    "    barmode='group',  # Agrupa as barras de cada ano uma abaixo da outra\n",
    "    height=max(700, len(areas_unicas) * 50),  # Altura dinâmica baseada no número de áreas\n",
    "    width=1200,\n",
    "    legend=dict(\n",
    "        orientation=\"h\",\n",
    "        yanchor=\"bottom\",\n",
    "        y=1.02,\n",
    "        xanchor=\"right\",\n",
    "        x=1\n",
    "    ),\n",
    "    template=\"plotly_white\"\n",
    ")\n",
    "\n",
    "# Atualizando eixos\n",
    "fig.update_xaxes(title_text=\"Contagem\", row=1, col=1)\n",
    "fig.update_xaxes(title_text=\"Contagem\", row=1, col=2)\n",
    "fig.update_yaxes(title_text=\"Área de Formação\", row=1, col=1)\n",
    "\n",
    "fig.show()"
   ]
  },
  {
   "cell_type": "code",
   "execution_count": 108,
   "metadata": {},
   "outputs": [
    {
     "data": {
      "text/plain": [
       "cargo\n",
       "                                                                       3498\n",
       "Analista de Dados                                                      1863\n",
       "Cientista de Dados                                                     1592\n",
       "Engenheiro de Dados/Arquiteto de Dados/Data Engineer/Data Architect    1170\n",
       "Analista de BI/BI Analyst                                               882\n",
       "Outra Opção                                                             539\n",
       "Analista de Negócios                                                    414\n",
       "Analista de BI                                                          338\n",
       "Engenheiro de Dados                                                     299\n",
       "Desenvolvedor/ Engenheiro de Software/ Analista de Sistemas             211\n",
       "Analytics Engineer                                                      208\n",
       "Analista de Suporte/Analista Técnico                                    142\n",
       "Engenheiro de Machine Learning                                          117\n",
       "Outro                                                                   113\n",
       "Outras Engenharias (não inclui dev)                                      91\n",
       "Dev ou Engenheiro de Software                                            90\n",
       "Analista de Inteligência de Mercado                                      86\n",
       "Data Product Manager/ Product Manager (PM/APM/DPM/GPM/PO)                81\n",
       "Engenheiro de Machine Learning/ML Engineer/AI Engineer                   73\n",
       "Estatístico                                                              63\n",
       "Product Manager/ Product Owner (PM/APM/DPM/GPM/PO)                       50\n",
       "Administrador de Banco de Dados                                          46\n",
       "Professor                                                                35\n",
       "Analista de Marketing                                                    32\n",
       "Professor/Pesquisador                                                    28\n",
       "Economista                                                               21\n",
       "Analista Administrativo                                                  18\n",
       "Analista de Sistemas                                                     14\n",
       "Suporte Técnico                                                          13\n",
       "Técnico                                                                  13\n",
       "Arquiteto de Dados                                                        9\n",
       "Product Manager                                                           6\n",
       "Name: count, dtype: int64"
      ]
     },
     "execution_count": 108,
     "metadata": {},
     "output_type": "execute_result"
    }
   ],
   "source": [
    "df_unificado[\"cargo\"].value_counts()"
   ]
  },
  {
   "cell_type": "code",
   "execution_count": 104,
   "metadata": {},
   "outputs": [
    {
     "name": "stdout",
     "output_type": "stream",
     "text": [
      "cargo_agrupado\n",
      "Analista de Dados        3717\n",
      "Não classificado         3498\n",
      "Cientista de Dados       1782\n",
      "Engenheiro de Dados      1732\n",
      "Outro                     743\n",
      "Desenvolvedor             483\n",
      "Product Manager           137\n",
      "Professor/Pesquisador      63\n",
      "Name: count, dtype: int64\n"
     ]
    }
   ],
   "source": [
    "import pandas as pd\n",
    "\n",
    "# Supondo que seus dados estejam em um DataFrame chamado 'df' com a coluna 'cargo'\n",
    "# Criando um mapeamento para as categorias desejadas\n",
    "mapeamento = {\n",
    "    # Analista de Dados\n",
    "    'Analista de Dados': 'Analista de Dados',\n",
    "    'Analista de BI/BI Analyst': 'Analista de Dados',\n",
    "    'Analista de BI': 'Analista de Dados',\n",
    "    'Analista de Negócios': 'Analista de Dados',\n",
    "    'Analista de Inteligência de Mercado': 'Analista de Dados',\n",
    "    'Analista de Marketing': 'Analista de Dados',\n",
    "    'Analista Administrativo': 'Analista de Dados',\n",
    "    'Estatístico': 'Analista de Dados',\n",
    "    'Economista': 'Analista de Dados',\n",
    "    \n",
    "    # Engenheiro de Dados\n",
    "    'Engenheiro de Dados/Arquiteto de Dados/Data Engineer/Data Architect': 'Engenheiro de Dados',\n",
    "    'Engenheiro de Dados': 'Engenheiro de Dados',\n",
    "    'Analytics Engineer': 'Engenheiro de Dados',\n",
    "    'Arquiteto de Dados': 'Engenheiro de Dados',\n",
    "    'Administrador de Banco de Dados': 'Engenheiro de Dados',\n",
    "    \n",
    "    # Cientista de Dados\n",
    "    'Cientista de Dados': 'Cientista de Dados',\n",
    "    'Engenheiro de Machine Learning': 'Cientista de Dados',\n",
    "    'Engenheiro de Machine Learning/ML Engineer/AI Engineer': 'Cientista de Dados',\n",
    "    \n",
    "    # Professor/Pesquisador\n",
    "    'Professor': 'Professor/Pesquisador',\n",
    "    'Professor/Pesquisador': 'Professor/Pesquisador',\n",
    "    \n",
    "    # Product Manager\n",
    "    'Data Product Manager/ Product Manager (PM/APM/DPM/GPM/PO)': 'Product Manager',\n",
    "    'Product Manager/ Product Owner (PM/APM/DPM/GPM/PO)': 'Product Manager',\n",
    "    'Product Manager': 'Product Manager',\n",
    "    \n",
    "    # Desenvolvedor\n",
    "    'Desenvolvedor/ Engenheiro de Software/ Analista de Sistemas': 'Desenvolvedor',\n",
    "    'Dev ou Engenheiro de Software': 'Desenvolvedor',\n",
    "    'Analista de Sistemas': 'Desenvolvedor',\n",
    "    'Analista de Suporte/Analista Técnico': 'Desenvolvedor',\n",
    "    'Suporte Técnico': 'Desenvolvedor',\n",
    "    'Técnico': 'Desenvolvedor',\n",
    "    \n",
    "    # Categorias que não se encaixam exatamente\n",
    "    'Outra Opção': 'Outro',\n",
    "    'Outro': 'Outro',\n",
    "    'Outras Engenharias (não inclui dev)': 'Outro'\n",
    "}\n",
    "\n",
    "# Para as entradas não classificadas (valor 3498 no início do seu output)\n",
    "# Vamos considerar que são valores vazios ou não classificados\n",
    "if df_unificado['cargo'].isna().any() or (df_unificado['cargo'] == '').any():\n",
    "    mapeamento[np.nan] = 'Não classificado'\n",
    "    mapeamento[''] = 'Não classificado'\n",
    "\n",
    "# Aplicando o mapeamento\n",
    "df_unificado['cargo_agrupado'] = df_unificado['cargo'].map(mapeamento)\n",
    "\n",
    "# Para valores que não estão no mapeamento\n",
    "df_unificado.loc[~df_unificado['cargo'].isin(mapeamento.keys()), 'cargo_agrupado'] = 'Outro'\n",
    "\n",
    "# Contagem após o agrupamento\n",
    "contagem_agrupada = df_unificado['cargo_agrupado'].value_counts()\n",
    "print(contagem_agrupada)"
   ]
  },
  {
   "cell_type": "code",
   "execution_count": 118,
   "metadata": {},
   "outputs": [
    {
     "data": {
      "application/vnd.plotly.v1+json": {
       "config": {
        "plotlyServerURL": "https://plot.ly"
       },
       "data": [
        {
         "marker": {
          "color": "#673147"
         },
         "name": "Feminino",
         "showlegend": true,
         "text": [
          "198",
          "354",
          "455"
         ],
         "textposition": "auto",
         "type": "bar",
         "x": [
          "2021",
          "2022",
          "2023"
         ],
         "xaxis": "x",
         "y": [
          198,
          354,
          455
         ],
         "yaxis": "y"
        },
        {
         "marker": {
          "color": "#708090"
         },
         "name": "Masculino",
         "showlegend": true,
         "text": [
          "634",
          "864",
          "1212"
         ],
         "textposition": "auto",
         "type": "bar",
         "x": [
          "2021",
          "2022",
          "2023"
         ],
         "xaxis": "x",
         "y": [
          634,
          864,
          1212
         ],
         "yaxis": "y"
        },
        {
         "marker": {
          "color": "#673147"
         },
         "name": "Feminino",
         "showlegend": false,
         "text": [
          "77",
          "139",
          "163"
         ],
         "textposition": "auto",
         "type": "bar",
         "x": [
          "2021",
          "2022",
          "2023"
         ],
         "xaxis": "x2",
         "y": [
          77,
          139,
          163
         ],
         "yaxis": "y2"
        },
        {
         "marker": {
          "color": "#708090"
         },
         "name": "Masculino",
         "showlegend": false,
         "text": [
          "328",
          "483",
          "592"
         ],
         "textposition": "auto",
         "type": "bar",
         "x": [
          "2021",
          "2022",
          "2023"
         ],
         "xaxis": "x2",
         "y": [
          328,
          483,
          592
         ],
         "yaxis": "y2"
        },
        {
         "marker": {
          "color": "#673147"
         },
         "name": "Feminino",
         "showlegend": false,
         "text": [
          "20",
          "28",
          "38"
         ],
         "textposition": "auto",
         "type": "bar",
         "x": [
          "2021",
          "2022",
          "2023"
         ],
         "xaxis": "x3",
         "y": [
          20,
          28,
          38
         ],
         "yaxis": "y3"
        },
        {
         "marker": {
          "color": "#708090"
         },
         "name": "Masculino",
         "showlegend": false,
         "text": [
          "110",
          "148",
          "139"
         ],
         "textposition": "auto",
         "type": "bar",
         "x": [
          "2021",
          "2022",
          "2023"
         ],
         "xaxis": "x3",
         "y": [
          110,
          148,
          139
         ],
         "yaxis": "y3"
        },
        {
         "marker": {
          "color": "#673147"
         },
         "name": "Feminino",
         "showlegend": false,
         "text": [
          "41",
          "117",
          "163"
         ],
         "textposition": "auto",
         "type": "bar",
         "x": [
          "2021",
          "2022",
          "2023"
         ],
         "xaxis": "x4",
         "y": [
          41,
          117,
          163
         ],
         "yaxis": "y4"
        },
        {
         "marker": {
          "color": "#708090"
         },
         "name": "Masculino",
         "showlegend": false,
         "text": [
          "281",
          "453",
          "677"
         ],
         "textposition": "auto",
         "type": "bar",
         "x": [
          "2021",
          "2022",
          "2023"
         ],
         "xaxis": "x4",
         "y": [
          281,
          453,
          677
         ],
         "yaxis": "y4"
        },
        {
         "marker": {
          "color": "#673147"
         },
         "name": "Feminino",
         "showlegend": false,
         "text": [
          "26",
          "89",
          "88"
         ],
         "textposition": "auto",
         "type": "bar",
         "x": [
          "2021",
          "2022",
          "2023"
         ],
         "xaxis": "x5",
         "y": [
          26,
          89,
          88
         ],
         "yaxis": "y5"
        },
        {
         "marker": {
          "color": "#708090"
         },
         "name": "Masculino",
         "showlegend": false,
         "text": [
          "119",
          "218",
          "203"
         ],
         "textposition": "auto",
         "type": "bar",
         "x": [
          "2021",
          "2022",
          "2023"
         ],
         "xaxis": "x5",
         "y": [
          119,
          218,
          203
         ],
         "yaxis": "y5"
        },
        {
         "marker": {
          "color": "#673147"
         },
         "name": "Feminino",
         "showlegend": false,
         "text": [
          "3",
          "16",
          "31"
         ],
         "textposition": "auto",
         "type": "bar",
         "x": [
          "2021",
          "2022",
          "2023"
         ],
         "xaxis": "x6",
         "y": [
          3,
          16,
          31
         ],
         "yaxis": "y6"
        },
        {
         "marker": {
          "color": "#708090"
         },
         "name": "Masculino",
         "showlegend": false,
         "text": [
          "3",
          "34",
          "50"
         ],
         "textposition": "auto",
         "type": "bar",
         "x": [
          "2021",
          "2022",
          "2023"
         ],
         "xaxis": "x6",
         "y": [
          3,
          34,
          50
         ],
         "yaxis": "y6"
        },
        {
         "marker": {
          "color": "#673147"
         },
         "name": "Feminino",
         "showlegend": false,
         "text": [
          "4",
          "11",
          "5"
         ],
         "textposition": "auto",
         "type": "bar",
         "x": [
          "2021",
          "2022",
          "2023"
         ],
         "xaxis": "x7",
         "y": [
          4,
          11,
          5
         ],
         "yaxis": "y7"
        },
        {
         "marker": {
          "color": "#708090"
         },
         "name": "Masculino",
         "showlegend": false,
         "text": [
          "8",
          "12",
          "23"
         ],
         "textposition": "auto",
         "type": "bar",
         "x": [
          "2021",
          "2022",
          "2023"
         ],
         "xaxis": "x7",
         "y": [
          8,
          12,
          23
         ],
         "yaxis": "y7"
        }
       ],
       "layout": {
        "annotations": [
         {
          "font": {
           "size": 16
          },
          "showarrow": false,
          "text": "Analista de Dados",
          "x": 0.5,
          "xanchor": "center",
          "xref": "paper",
          "y": 1,
          "yanchor": "bottom",
          "yref": "paper"
         },
         {
          "font": {
           "size": 16
          },
          "showarrow": false,
          "text": "Cientista de Dados",
          "x": 0.5,
          "xanchor": "center",
          "xref": "paper",
          "y": 0.85,
          "yanchor": "bottom",
          "yref": "paper"
         },
         {
          "font": {
           "size": 16
          },
          "showarrow": false,
          "text": "Desenvolvedor",
          "x": 0.5,
          "xanchor": "center",
          "xref": "paper",
          "y": 0.7,
          "yanchor": "bottom",
          "yref": "paper"
         },
         {
          "font": {
           "size": 16
          },
          "showarrow": false,
          "text": "Engenheiro de Dados",
          "x": 0.5,
          "xanchor": "center",
          "xref": "paper",
          "y": 0.55,
          "yanchor": "bottom",
          "yref": "paper"
         },
         {
          "font": {
           "size": 16
          },
          "showarrow": false,
          "text": "Outro",
          "x": 0.5,
          "xanchor": "center",
          "xref": "paper",
          "y": 0.39999999999999997,
          "yanchor": "bottom",
          "yref": "paper"
         },
         {
          "font": {
           "size": 16
          },
          "showarrow": false,
          "text": "Product Manager",
          "x": 0.5,
          "xanchor": "center",
          "xref": "paper",
          "y": 0.25,
          "yanchor": "bottom",
          "yref": "paper"
         },
         {
          "font": {
           "size": 16
          },
          "showarrow": false,
          "text": "Professor/Pesquisador",
          "x": 0.5,
          "xanchor": "center",
          "xref": "paper",
          "y": 0.09999999999999999,
          "yanchor": "bottom",
          "yref": "paper"
         }
        ],
        "barmode": "group",
        "height": 1400,
        "legend": {
         "orientation": "h",
         "x": 1,
         "xanchor": "right",
         "y": 1.02,
         "yanchor": "bottom"
        },
        "template": {
         "data": {
          "bar": [
           {
            "error_x": {
             "color": "#2a3f5f"
            },
            "error_y": {
             "color": "#2a3f5f"
            },
            "marker": {
             "line": {
              "color": "white",
              "width": 0.5
             },
             "pattern": {
              "fillmode": "overlay",
              "size": 10,
              "solidity": 0.2
             }
            },
            "type": "bar"
           }
          ],
          "barpolar": [
           {
            "marker": {
             "line": {
              "color": "white",
              "width": 0.5
             },
             "pattern": {
              "fillmode": "overlay",
              "size": 10,
              "solidity": 0.2
             }
            },
            "type": "barpolar"
           }
          ],
          "carpet": [
           {
            "aaxis": {
             "endlinecolor": "#2a3f5f",
             "gridcolor": "#C8D4E3",
             "linecolor": "#C8D4E3",
             "minorgridcolor": "#C8D4E3",
             "startlinecolor": "#2a3f5f"
            },
            "baxis": {
             "endlinecolor": "#2a3f5f",
             "gridcolor": "#C8D4E3",
             "linecolor": "#C8D4E3",
             "minorgridcolor": "#C8D4E3",
             "startlinecolor": "#2a3f5f"
            },
            "type": "carpet"
           }
          ],
          "choropleth": [
           {
            "colorbar": {
             "outlinewidth": 0,
             "ticks": ""
            },
            "type": "choropleth"
           }
          ],
          "contour": [
           {
            "colorbar": {
             "outlinewidth": 0,
             "ticks": ""
            },
            "colorscale": [
             [
              0,
              "#0d0887"
             ],
             [
              0.1111111111111111,
              "#46039f"
             ],
             [
              0.2222222222222222,
              "#7201a8"
             ],
             [
              0.3333333333333333,
              "#9c179e"
             ],
             [
              0.4444444444444444,
              "#bd3786"
             ],
             [
              0.5555555555555556,
              "#d8576b"
             ],
             [
              0.6666666666666666,
              "#ed7953"
             ],
             [
              0.7777777777777778,
              "#fb9f3a"
             ],
             [
              0.8888888888888888,
              "#fdca26"
             ],
             [
              1,
              "#f0f921"
             ]
            ],
            "type": "contour"
           }
          ],
          "contourcarpet": [
           {
            "colorbar": {
             "outlinewidth": 0,
             "ticks": ""
            },
            "type": "contourcarpet"
           }
          ],
          "heatmap": [
           {
            "colorbar": {
             "outlinewidth": 0,
             "ticks": ""
            },
            "colorscale": [
             [
              0,
              "#0d0887"
             ],
             [
              0.1111111111111111,
              "#46039f"
             ],
             [
              0.2222222222222222,
              "#7201a8"
             ],
             [
              0.3333333333333333,
              "#9c179e"
             ],
             [
              0.4444444444444444,
              "#bd3786"
             ],
             [
              0.5555555555555556,
              "#d8576b"
             ],
             [
              0.6666666666666666,
              "#ed7953"
             ],
             [
              0.7777777777777778,
              "#fb9f3a"
             ],
             [
              0.8888888888888888,
              "#fdca26"
             ],
             [
              1,
              "#f0f921"
             ]
            ],
            "type": "heatmap"
           }
          ],
          "heatmapgl": [
           {
            "colorbar": {
             "outlinewidth": 0,
             "ticks": ""
            },
            "colorscale": [
             [
              0,
              "#0d0887"
             ],
             [
              0.1111111111111111,
              "#46039f"
             ],
             [
              0.2222222222222222,
              "#7201a8"
             ],
             [
              0.3333333333333333,
              "#9c179e"
             ],
             [
              0.4444444444444444,
              "#bd3786"
             ],
             [
              0.5555555555555556,
              "#d8576b"
             ],
             [
              0.6666666666666666,
              "#ed7953"
             ],
             [
              0.7777777777777778,
              "#fb9f3a"
             ],
             [
              0.8888888888888888,
              "#fdca26"
             ],
             [
              1,
              "#f0f921"
             ]
            ],
            "type": "heatmapgl"
           }
          ],
          "histogram": [
           {
            "marker": {
             "pattern": {
              "fillmode": "overlay",
              "size": 10,
              "solidity": 0.2
             }
            },
            "type": "histogram"
           }
          ],
          "histogram2d": [
           {
            "colorbar": {
             "outlinewidth": 0,
             "ticks": ""
            },
            "colorscale": [
             [
              0,
              "#0d0887"
             ],
             [
              0.1111111111111111,
              "#46039f"
             ],
             [
              0.2222222222222222,
              "#7201a8"
             ],
             [
              0.3333333333333333,
              "#9c179e"
             ],
             [
              0.4444444444444444,
              "#bd3786"
             ],
             [
              0.5555555555555556,
              "#d8576b"
             ],
             [
              0.6666666666666666,
              "#ed7953"
             ],
             [
              0.7777777777777778,
              "#fb9f3a"
             ],
             [
              0.8888888888888888,
              "#fdca26"
             ],
             [
              1,
              "#f0f921"
             ]
            ],
            "type": "histogram2d"
           }
          ],
          "histogram2dcontour": [
           {
            "colorbar": {
             "outlinewidth": 0,
             "ticks": ""
            },
            "colorscale": [
             [
              0,
              "#0d0887"
             ],
             [
              0.1111111111111111,
              "#46039f"
             ],
             [
              0.2222222222222222,
              "#7201a8"
             ],
             [
              0.3333333333333333,
              "#9c179e"
             ],
             [
              0.4444444444444444,
              "#bd3786"
             ],
             [
              0.5555555555555556,
              "#d8576b"
             ],
             [
              0.6666666666666666,
              "#ed7953"
             ],
             [
              0.7777777777777778,
              "#fb9f3a"
             ],
             [
              0.8888888888888888,
              "#fdca26"
             ],
             [
              1,
              "#f0f921"
             ]
            ],
            "type": "histogram2dcontour"
           }
          ],
          "mesh3d": [
           {
            "colorbar": {
             "outlinewidth": 0,
             "ticks": ""
            },
            "type": "mesh3d"
           }
          ],
          "parcoords": [
           {
            "line": {
             "colorbar": {
              "outlinewidth": 0,
              "ticks": ""
             }
            },
            "type": "parcoords"
           }
          ],
          "pie": [
           {
            "automargin": true,
            "type": "pie"
           }
          ],
          "scatter": [
           {
            "fillpattern": {
             "fillmode": "overlay",
             "size": 10,
             "solidity": 0.2
            },
            "type": "scatter"
           }
          ],
          "scatter3d": [
           {
            "line": {
             "colorbar": {
              "outlinewidth": 0,
              "ticks": ""
             }
            },
            "marker": {
             "colorbar": {
              "outlinewidth": 0,
              "ticks": ""
             }
            },
            "type": "scatter3d"
           }
          ],
          "scattercarpet": [
           {
            "marker": {
             "colorbar": {
              "outlinewidth": 0,
              "ticks": ""
             }
            },
            "type": "scattercarpet"
           }
          ],
          "scattergeo": [
           {
            "marker": {
             "colorbar": {
              "outlinewidth": 0,
              "ticks": ""
             }
            },
            "type": "scattergeo"
           }
          ],
          "scattergl": [
           {
            "marker": {
             "colorbar": {
              "outlinewidth": 0,
              "ticks": ""
             }
            },
            "type": "scattergl"
           }
          ],
          "scattermapbox": [
           {
            "marker": {
             "colorbar": {
              "outlinewidth": 0,
              "ticks": ""
             }
            },
            "type": "scattermapbox"
           }
          ],
          "scatterpolar": [
           {
            "marker": {
             "colorbar": {
              "outlinewidth": 0,
              "ticks": ""
             }
            },
            "type": "scatterpolar"
           }
          ],
          "scatterpolargl": [
           {
            "marker": {
             "colorbar": {
              "outlinewidth": 0,
              "ticks": ""
             }
            },
            "type": "scatterpolargl"
           }
          ],
          "scatterternary": [
           {
            "marker": {
             "colorbar": {
              "outlinewidth": 0,
              "ticks": ""
             }
            },
            "type": "scatterternary"
           }
          ],
          "surface": [
           {
            "colorbar": {
             "outlinewidth": 0,
             "ticks": ""
            },
            "colorscale": [
             [
              0,
              "#0d0887"
             ],
             [
              0.1111111111111111,
              "#46039f"
             ],
             [
              0.2222222222222222,
              "#7201a8"
             ],
             [
              0.3333333333333333,
              "#9c179e"
             ],
             [
              0.4444444444444444,
              "#bd3786"
             ],
             [
              0.5555555555555556,
              "#d8576b"
             ],
             [
              0.6666666666666666,
              "#ed7953"
             ],
             [
              0.7777777777777778,
              "#fb9f3a"
             ],
             [
              0.8888888888888888,
              "#fdca26"
             ],
             [
              1,
              "#f0f921"
             ]
            ],
            "type": "surface"
           }
          ],
          "table": [
           {
            "cells": {
             "fill": {
              "color": "#EBF0F8"
             },
             "line": {
              "color": "white"
             }
            },
            "header": {
             "fill": {
              "color": "#C8D4E3"
             },
             "line": {
              "color": "white"
             }
            },
            "type": "table"
           }
          ]
         },
         "layout": {
          "annotationdefaults": {
           "arrowcolor": "#2a3f5f",
           "arrowhead": 0,
           "arrowwidth": 1
          },
          "autotypenumbers": "strict",
          "coloraxis": {
           "colorbar": {
            "outlinewidth": 0,
            "ticks": ""
           }
          },
          "colorscale": {
           "diverging": [
            [
             0,
             "#8e0152"
            ],
            [
             0.1,
             "#c51b7d"
            ],
            [
             0.2,
             "#de77ae"
            ],
            [
             0.3,
             "#f1b6da"
            ],
            [
             0.4,
             "#fde0ef"
            ],
            [
             0.5,
             "#f7f7f7"
            ],
            [
             0.6,
             "#e6f5d0"
            ],
            [
             0.7,
             "#b8e186"
            ],
            [
             0.8,
             "#7fbc41"
            ],
            [
             0.9,
             "#4d9221"
            ],
            [
             1,
             "#276419"
            ]
           ],
           "sequential": [
            [
             0,
             "#0d0887"
            ],
            [
             0.1111111111111111,
             "#46039f"
            ],
            [
             0.2222222222222222,
             "#7201a8"
            ],
            [
             0.3333333333333333,
             "#9c179e"
            ],
            [
             0.4444444444444444,
             "#bd3786"
            ],
            [
             0.5555555555555556,
             "#d8576b"
            ],
            [
             0.6666666666666666,
             "#ed7953"
            ],
            [
             0.7777777777777778,
             "#fb9f3a"
            ],
            [
             0.8888888888888888,
             "#fdca26"
            ],
            [
             1,
             "#f0f921"
            ]
           ],
           "sequentialminus": [
            [
             0,
             "#0d0887"
            ],
            [
             0.1111111111111111,
             "#46039f"
            ],
            [
             0.2222222222222222,
             "#7201a8"
            ],
            [
             0.3333333333333333,
             "#9c179e"
            ],
            [
             0.4444444444444444,
             "#bd3786"
            ],
            [
             0.5555555555555556,
             "#d8576b"
            ],
            [
             0.6666666666666666,
             "#ed7953"
            ],
            [
             0.7777777777777778,
             "#fb9f3a"
            ],
            [
             0.8888888888888888,
             "#fdca26"
            ],
            [
             1,
             "#f0f921"
            ]
           ]
          },
          "colorway": [
           "#636efa",
           "#EF553B",
           "#00cc96",
           "#ab63fa",
           "#FFA15A",
           "#19d3f3",
           "#FF6692",
           "#B6E880",
           "#FF97FF",
           "#FECB52"
          ],
          "font": {
           "color": "#2a3f5f"
          },
          "geo": {
           "bgcolor": "white",
           "lakecolor": "white",
           "landcolor": "white",
           "showlakes": true,
           "showland": true,
           "subunitcolor": "#C8D4E3"
          },
          "hoverlabel": {
           "align": "left"
          },
          "hovermode": "closest",
          "mapbox": {
           "style": "light"
          },
          "paper_bgcolor": "white",
          "plot_bgcolor": "white",
          "polar": {
           "angularaxis": {
            "gridcolor": "#EBF0F8",
            "linecolor": "#EBF0F8",
            "ticks": ""
           },
           "bgcolor": "white",
           "radialaxis": {
            "gridcolor": "#EBF0F8",
            "linecolor": "#EBF0F8",
            "ticks": ""
           }
          },
          "scene": {
           "xaxis": {
            "backgroundcolor": "white",
            "gridcolor": "#DFE8F3",
            "gridwidth": 2,
            "linecolor": "#EBF0F8",
            "showbackground": true,
            "ticks": "",
            "zerolinecolor": "#EBF0F8"
           },
           "yaxis": {
            "backgroundcolor": "white",
            "gridcolor": "#DFE8F3",
            "gridwidth": 2,
            "linecolor": "#EBF0F8",
            "showbackground": true,
            "ticks": "",
            "zerolinecolor": "#EBF0F8"
           },
           "zaxis": {
            "backgroundcolor": "white",
            "gridcolor": "#DFE8F3",
            "gridwidth": 2,
            "linecolor": "#EBF0F8",
            "showbackground": true,
            "ticks": "",
            "zerolinecolor": "#EBF0F8"
           }
          },
          "shapedefaults": {
           "line": {
            "color": "#2a3f5f"
           }
          },
          "ternary": {
           "aaxis": {
            "gridcolor": "#DFE8F3",
            "linecolor": "#A2B1C6",
            "ticks": ""
           },
           "baxis": {
            "gridcolor": "#DFE8F3",
            "linecolor": "#A2B1C6",
            "ticks": ""
           },
           "bgcolor": "white",
           "caxis": {
            "gridcolor": "#DFE8F3",
            "linecolor": "#A2B1C6",
            "ticks": ""
           }
          },
          "title": {
           "x": 0.05
          },
          "xaxis": {
           "automargin": true,
           "gridcolor": "#EBF0F8",
           "linecolor": "#EBF0F8",
           "ticks": "",
           "title": {
            "standoff": 15
           },
           "zerolinecolor": "#EBF0F8",
           "zerolinewidth": 2
          },
          "yaxis": {
           "automargin": true,
           "gridcolor": "#EBF0F8",
           "linecolor": "#EBF0F8",
           "ticks": "",
           "title": {
            "standoff": 15
           },
           "zerolinecolor": "#EBF0F8",
           "zerolinewidth": 2
          }
         }
        },
        "title": {
         "text": "Distribuição de Cargos por Ano e Gênero"
        },
        "width": 1000,
        "xaxis": {
         "anchor": "y",
         "domain": [
          0,
          1
         ],
         "matches": "x7",
         "showticklabels": false
        },
        "xaxis2": {
         "anchor": "y2",
         "domain": [
          0,
          1
         ],
         "matches": "x7",
         "showticklabels": false
        },
        "xaxis3": {
         "anchor": "y3",
         "domain": [
          0,
          1
         ],
         "matches": "x7",
         "showticklabels": false
        },
        "xaxis4": {
         "anchor": "y4",
         "domain": [
          0,
          1
         ],
         "matches": "x7",
         "showticklabels": false
        },
        "xaxis5": {
         "anchor": "y5",
         "domain": [
          0,
          1
         ],
         "matches": "x7",
         "showticklabels": false
        },
        "xaxis6": {
         "anchor": "y6",
         "domain": [
          0,
          1
         ],
         "matches": "x7",
         "showticklabels": false
        },
        "xaxis7": {
         "anchor": "y7",
         "domain": [
          0,
          1
         ],
         "title": {
          "text": "Ano da Pesquisa"
         }
        },
        "yaxis": {
         "anchor": "x",
         "domain": [
          0.9,
          1
         ],
         "title": {
          "text": "Quantidade"
         }
        },
        "yaxis2": {
         "anchor": "x2",
         "domain": [
          0.75,
          0.85
         ],
         "title": {
          "text": "Quantidade"
         }
        },
        "yaxis3": {
         "anchor": "x3",
         "domain": [
          0.6,
          0.7
         ],
         "title": {
          "text": "Quantidade"
         }
        },
        "yaxis4": {
         "anchor": "x4",
         "domain": [
          0.45,
          0.55
         ],
         "title": {
          "text": "Quantidade"
         }
        },
        "yaxis5": {
         "anchor": "x5",
         "domain": [
          0.3,
          0.39999999999999997
         ],
         "title": {
          "text": "Quantidade"
         }
        },
        "yaxis6": {
         "anchor": "x6",
         "domain": [
          0.15,
          0.25
         ],
         "title": {
          "text": "Quantidade"
         }
        },
        "yaxis7": {
         "anchor": "x7",
         "domain": [
          0,
          0.09999999999999999
         ],
         "title": {
          "text": "Quantidade"
         }
        }
       }
      }
     },
     "metadata": {},
     "output_type": "display_data"
    }
   ],
   "source": [
    "import pandas as pd\n",
    "import plotly.graph_objects as go\n",
    "from plotly.subplots import make_subplots\n",
    "\n",
    "# Assumindo que df_unificado já existe\n",
    "# Se precisar carregar o DataFrame, descomente a linha abaixo:\n",
    "# df_unificado = pd.read_csv('seu_arquivo.csv')\n",
    "\n",
    "# Filtrando para excluir \"Não classificado\" se necessário\n",
    "df = df_unificado[df_unificado['cargo_agrupado'] != \"Não classificado\"].copy()\n",
    "\n",
    "# Contando o número de ocorrências por cargo, ano e gênero\n",
    "df_contagem = df.groupby(['cargo_agrupado', 'ano_pesquisa', 'genero']).size().reset_index(name='contagem')\n",
    "\n",
    "# Cores para cada gênero\n",
    "cores = {\"Feminino\": \"#673147\", \"Masculino\": \"#708090\"}\n",
    "\n",
    "# Obter lista de cargos únicos e anos\n",
    "cargos_unicos = sorted(df_contagem['cargo_agrupado'].unique())\n",
    "anos = sorted(df_contagem['ano_pesquisa'].unique())\n",
    "generos = [\"Feminino\", \"Masculino\"]\n",
    "\n",
    "# Criar figura com subplots - um para cada cargo\n",
    "fig = make_subplots(\n",
    "    rows=len(cargos_unicos), \n",
    "    cols=1,\n",
    "    subplot_titles=cargos_unicos,\n",
    "    shared_xaxes=True,\n",
    "    vertical_spacing=0.05\n",
    ")\n",
    "\n",
    "# Para cada cargo, criar um subplot\n",
    "for i, cargo in enumerate(cargos_unicos):\n",
    "    row = i + 1  # Linha do subplot\n",
    "    \n",
    "    for genero in generos:\n",
    "        # Filtrar dados para este cargo e gênero\n",
    "        df_filtrado = df_contagem[(df_contagem['cargo_agrupado'] == cargo) & \n",
    "                                  (df_contagem['genero'] == genero)]\n",
    "        \n",
    "        # Preparar dados para todos os anos\n",
    "        x_anos = []\n",
    "        y_contagens = []\n",
    "        \n",
    "        for ano in anos:\n",
    "            df_ano = df_filtrado[df_filtrado['ano_pesquisa'] == ano]\n",
    "            if not df_ano.empty:\n",
    "                y_contagens.append(df_ano['contagem'].values[0])\n",
    "            else:\n",
    "                y_contagens.append(0)  # Zero para anos sem dados\n",
    "            x_anos.append(ano)\n",
    "        \n",
    "        # Adicionar barras para este cargo e gênero\n",
    "        fig.add_trace(\n",
    "            go.Bar(\n",
    "                x=x_anos,                  # Anos no eixo X\n",
    "                y=y_contagens,             # Contagens no eixo Y\n",
    "                name=genero,               # Nome na legenda\n",
    "                marker_color=cores[genero],# Cor com base no gênero\n",
    "                text=y_contagens,          # Mostrar valores nas barras\n",
    "                textposition='auto',\n",
    "                showlegend=i == 0          # Mostrar na legenda apenas para o primeiro cargo\n",
    "            ),\n",
    "            row=row, col=1\n",
    "        )\n",
    "\n",
    "# Configurar layout\n",
    "fig.update_layout(\n",
    "    title='Distribuição de Cargos por Ano e Gênero',\n",
    "    height=max(800, len(cargos_unicos) * 200),  # Altura baseada no número de cargos\n",
    "    width=1000,\n",
    "    template='plotly_white',\n",
    "    barmode='group',              # Agrupar barras por gênero\n",
    "    legend=dict(\n",
    "        orientation=\"h\",          # Legenda horizontal\n",
    "        yanchor=\"bottom\",\n",
    "        y=1.02,\n",
    "        xanchor=\"right\",\n",
    "        x=1\n",
    "    )\n",
    ")\n",
    "\n",
    "# Atualizar o título do eixo X apenas para o último subplot\n",
    "fig.update_xaxes(title_text=\"Ano da Pesquisa\", row=len(cargos_unicos), col=1)\n",
    "\n",
    "# Atualizar o título do eixo Y para todos os subplots\n",
    "for i in range(1, len(cargos_unicos) + 1):\n",
    "    fig.update_yaxes(title_text=\"Quantidade\", row=i, col=1)\n",
    "\n",
    "fig.show()\n",
    "\n",
    "# Para salvar o gráfico como um arquivo HTML interativo\n",
    "# fig.write_html(\"grafico_cargos_anos_genero.html\")\n",
    "\n",
    "# Para salvar como imagem\n",
    "# fig.write_image(\"grafico_cargos_anos_genero.png\", width=1000, height=800)"
   ]
  },
  {
   "cell_type": "code",
   "execution_count": null,
   "metadata": {},
   "outputs": [],
   "source": []
  },
  {
   "cell_type": "code",
   "execution_count": 127,
   "metadata": {},
   "outputs": [
    {
     "data": {
      "application/vnd.plotly.v1+json": {
       "config": {
        "plotlyServerURL": "https://plot.ly"
       },
       "data": [
        {
         "marker": {
          "color": "#673147"
         },
         "name": "Feminino",
         "orientation": "h",
         "showlegend": true,
         "textposition": "auto",
         "type": "bar",
         "x": [
          198,
          77,
          20,
          41,
          26,
          3,
          4
         ],
         "xaxis": "x",
         "y": [
          "Analista de Dados",
          "Cientista de Dados",
          "Desenvolvedor",
          "Engenheiro de Dados",
          "Outro",
          "Product Manager",
          "Professor/Pesquisador"
         ],
         "yaxis": "y"
        },
        {
         "marker": {
          "color": "#708090"
         },
         "name": "Masculino",
         "orientation": "h",
         "showlegend": true,
         "textposition": "auto",
         "type": "bar",
         "x": [
          634,
          328,
          110,
          281,
          119,
          3,
          8
         ],
         "xaxis": "x",
         "y": [
          "Analista de Dados",
          "Cientista de Dados",
          "Desenvolvedor",
          "Engenheiro de Dados",
          "Outro",
          "Product Manager",
          "Professor/Pesquisador"
         ],
         "yaxis": "y"
        },
        {
         "marker": {
          "color": "#673147"
         },
         "name": "Feminino",
         "orientation": "h",
         "showlegend": false,
         "textposition": "auto",
         "type": "bar",
         "x": [
          354,
          139,
          28,
          117,
          89,
          16,
          11
         ],
         "xaxis": "x2",
         "y": [
          "Analista de Dados",
          "Cientista de Dados",
          "Desenvolvedor",
          "Engenheiro de Dados",
          "Outro",
          "Product Manager",
          "Professor/Pesquisador"
         ],
         "yaxis": "y2"
        },
        {
         "marker": {
          "color": "#708090"
         },
         "name": "Masculino",
         "orientation": "h",
         "showlegend": false,
         "textposition": "auto",
         "type": "bar",
         "x": [
          864,
          483,
          148,
          453,
          218,
          34,
          12
         ],
         "xaxis": "x2",
         "y": [
          "Analista de Dados",
          "Cientista de Dados",
          "Desenvolvedor",
          "Engenheiro de Dados",
          "Outro",
          "Product Manager",
          "Professor/Pesquisador"
         ],
         "yaxis": "y2"
        },
        {
         "marker": {
          "color": "#673147"
         },
         "name": "Feminino",
         "orientation": "h",
         "showlegend": false,
         "textposition": "auto",
         "type": "bar",
         "x": [
          455,
          163,
          38,
          163,
          88,
          31,
          5
         ],
         "xaxis": "x3",
         "y": [
          "Analista de Dados",
          "Cientista de Dados",
          "Desenvolvedor",
          "Engenheiro de Dados",
          "Outro",
          "Product Manager",
          "Professor/Pesquisador"
         ],
         "yaxis": "y3"
        },
        {
         "marker": {
          "color": "#708090"
         },
         "name": "Masculino",
         "orientation": "h",
         "showlegend": false,
         "textposition": "auto",
         "type": "bar",
         "x": [
          1212,
          592,
          139,
          677,
          203,
          50,
          23
         ],
         "xaxis": "x3",
         "y": [
          "Analista de Dados",
          "Cientista de Dados",
          "Desenvolvedor",
          "Engenheiro de Dados",
          "Outro",
          "Product Manager",
          "Professor/Pesquisador"
         ],
         "yaxis": "y3"
        }
       ],
       "layout": {
        "annotations": [
         {
          "font": {
           "size": 16
          },
          "showarrow": false,
          "text": "Ano 2021",
          "x": 0.5,
          "xanchor": "center",
          "xref": "paper",
          "y": 1,
          "yanchor": "bottom",
          "yref": "paper"
         },
         {
          "font": {
           "size": 16
          },
          "showarrow": false,
          "text": "Ano 2022",
          "x": 0.5,
          "xanchor": "center",
          "xref": "paper",
          "y": 0.6499999999999999,
          "yanchor": "bottom",
          "yref": "paper"
         },
         {
          "font": {
           "size": 16
          },
          "showarrow": false,
          "text": "Ano 2023",
          "x": 0.5,
          "xanchor": "center",
          "xref": "paper",
          "y": 0.3,
          "yanchor": "bottom",
          "yref": "paper"
         }
        ],
        "barmode": "group",
        "height": 800,
        "legend": {
         "orientation": "h",
         "x": 1,
         "xanchor": "right",
         "y": 1.02,
         "yanchor": "bottom"
        },
        "template": {
         "data": {
          "bar": [
           {
            "error_x": {
             "color": "#2a3f5f"
            },
            "error_y": {
             "color": "#2a3f5f"
            },
            "marker": {
             "line": {
              "color": "white",
              "width": 0.5
             },
             "pattern": {
              "fillmode": "overlay",
              "size": 10,
              "solidity": 0.2
             }
            },
            "type": "bar"
           }
          ],
          "barpolar": [
           {
            "marker": {
             "line": {
              "color": "white",
              "width": 0.5
             },
             "pattern": {
              "fillmode": "overlay",
              "size": 10,
              "solidity": 0.2
             }
            },
            "type": "barpolar"
           }
          ],
          "carpet": [
           {
            "aaxis": {
             "endlinecolor": "#2a3f5f",
             "gridcolor": "#C8D4E3",
             "linecolor": "#C8D4E3",
             "minorgridcolor": "#C8D4E3",
             "startlinecolor": "#2a3f5f"
            },
            "baxis": {
             "endlinecolor": "#2a3f5f",
             "gridcolor": "#C8D4E3",
             "linecolor": "#C8D4E3",
             "minorgridcolor": "#C8D4E3",
             "startlinecolor": "#2a3f5f"
            },
            "type": "carpet"
           }
          ],
          "choropleth": [
           {
            "colorbar": {
             "outlinewidth": 0,
             "ticks": ""
            },
            "type": "choropleth"
           }
          ],
          "contour": [
           {
            "colorbar": {
             "outlinewidth": 0,
             "ticks": ""
            },
            "colorscale": [
             [
              0,
              "#0d0887"
             ],
             [
              0.1111111111111111,
              "#46039f"
             ],
             [
              0.2222222222222222,
              "#7201a8"
             ],
             [
              0.3333333333333333,
              "#9c179e"
             ],
             [
              0.4444444444444444,
              "#bd3786"
             ],
             [
              0.5555555555555556,
              "#d8576b"
             ],
             [
              0.6666666666666666,
              "#ed7953"
             ],
             [
              0.7777777777777778,
              "#fb9f3a"
             ],
             [
              0.8888888888888888,
              "#fdca26"
             ],
             [
              1,
              "#f0f921"
             ]
            ],
            "type": "contour"
           }
          ],
          "contourcarpet": [
           {
            "colorbar": {
             "outlinewidth": 0,
             "ticks": ""
            },
            "type": "contourcarpet"
           }
          ],
          "heatmap": [
           {
            "colorbar": {
             "outlinewidth": 0,
             "ticks": ""
            },
            "colorscale": [
             [
              0,
              "#0d0887"
             ],
             [
              0.1111111111111111,
              "#46039f"
             ],
             [
              0.2222222222222222,
              "#7201a8"
             ],
             [
              0.3333333333333333,
              "#9c179e"
             ],
             [
              0.4444444444444444,
              "#bd3786"
             ],
             [
              0.5555555555555556,
              "#d8576b"
             ],
             [
              0.6666666666666666,
              "#ed7953"
             ],
             [
              0.7777777777777778,
              "#fb9f3a"
             ],
             [
              0.8888888888888888,
              "#fdca26"
             ],
             [
              1,
              "#f0f921"
             ]
            ],
            "type": "heatmap"
           }
          ],
          "heatmapgl": [
           {
            "colorbar": {
             "outlinewidth": 0,
             "ticks": ""
            },
            "colorscale": [
             [
              0,
              "#0d0887"
             ],
             [
              0.1111111111111111,
              "#46039f"
             ],
             [
              0.2222222222222222,
              "#7201a8"
             ],
             [
              0.3333333333333333,
              "#9c179e"
             ],
             [
              0.4444444444444444,
              "#bd3786"
             ],
             [
              0.5555555555555556,
              "#d8576b"
             ],
             [
              0.6666666666666666,
              "#ed7953"
             ],
             [
              0.7777777777777778,
              "#fb9f3a"
             ],
             [
              0.8888888888888888,
              "#fdca26"
             ],
             [
              1,
              "#f0f921"
             ]
            ],
            "type": "heatmapgl"
           }
          ],
          "histogram": [
           {
            "marker": {
             "pattern": {
              "fillmode": "overlay",
              "size": 10,
              "solidity": 0.2
             }
            },
            "type": "histogram"
           }
          ],
          "histogram2d": [
           {
            "colorbar": {
             "outlinewidth": 0,
             "ticks": ""
            },
            "colorscale": [
             [
              0,
              "#0d0887"
             ],
             [
              0.1111111111111111,
              "#46039f"
             ],
             [
              0.2222222222222222,
              "#7201a8"
             ],
             [
              0.3333333333333333,
              "#9c179e"
             ],
             [
              0.4444444444444444,
              "#bd3786"
             ],
             [
              0.5555555555555556,
              "#d8576b"
             ],
             [
              0.6666666666666666,
              "#ed7953"
             ],
             [
              0.7777777777777778,
              "#fb9f3a"
             ],
             [
              0.8888888888888888,
              "#fdca26"
             ],
             [
              1,
              "#f0f921"
             ]
            ],
            "type": "histogram2d"
           }
          ],
          "histogram2dcontour": [
           {
            "colorbar": {
             "outlinewidth": 0,
             "ticks": ""
            },
            "colorscale": [
             [
              0,
              "#0d0887"
             ],
             [
              0.1111111111111111,
              "#46039f"
             ],
             [
              0.2222222222222222,
              "#7201a8"
             ],
             [
              0.3333333333333333,
              "#9c179e"
             ],
             [
              0.4444444444444444,
              "#bd3786"
             ],
             [
              0.5555555555555556,
              "#d8576b"
             ],
             [
              0.6666666666666666,
              "#ed7953"
             ],
             [
              0.7777777777777778,
              "#fb9f3a"
             ],
             [
              0.8888888888888888,
              "#fdca26"
             ],
             [
              1,
              "#f0f921"
             ]
            ],
            "type": "histogram2dcontour"
           }
          ],
          "mesh3d": [
           {
            "colorbar": {
             "outlinewidth": 0,
             "ticks": ""
            },
            "type": "mesh3d"
           }
          ],
          "parcoords": [
           {
            "line": {
             "colorbar": {
              "outlinewidth": 0,
              "ticks": ""
             }
            },
            "type": "parcoords"
           }
          ],
          "pie": [
           {
            "automargin": true,
            "type": "pie"
           }
          ],
          "scatter": [
           {
            "fillpattern": {
             "fillmode": "overlay",
             "size": 10,
             "solidity": 0.2
            },
            "type": "scatter"
           }
          ],
          "scatter3d": [
           {
            "line": {
             "colorbar": {
              "outlinewidth": 0,
              "ticks": ""
             }
            },
            "marker": {
             "colorbar": {
              "outlinewidth": 0,
              "ticks": ""
             }
            },
            "type": "scatter3d"
           }
          ],
          "scattercarpet": [
           {
            "marker": {
             "colorbar": {
              "outlinewidth": 0,
              "ticks": ""
             }
            },
            "type": "scattercarpet"
           }
          ],
          "scattergeo": [
           {
            "marker": {
             "colorbar": {
              "outlinewidth": 0,
              "ticks": ""
             }
            },
            "type": "scattergeo"
           }
          ],
          "scattergl": [
           {
            "marker": {
             "colorbar": {
              "outlinewidth": 0,
              "ticks": ""
             }
            },
            "type": "scattergl"
           }
          ],
          "scattermapbox": [
           {
            "marker": {
             "colorbar": {
              "outlinewidth": 0,
              "ticks": ""
             }
            },
            "type": "scattermapbox"
           }
          ],
          "scatterpolar": [
           {
            "marker": {
             "colorbar": {
              "outlinewidth": 0,
              "ticks": ""
             }
            },
            "type": "scatterpolar"
           }
          ],
          "scatterpolargl": [
           {
            "marker": {
             "colorbar": {
              "outlinewidth": 0,
              "ticks": ""
             }
            },
            "type": "scatterpolargl"
           }
          ],
          "scatterternary": [
           {
            "marker": {
             "colorbar": {
              "outlinewidth": 0,
              "ticks": ""
             }
            },
            "type": "scatterternary"
           }
          ],
          "surface": [
           {
            "colorbar": {
             "outlinewidth": 0,
             "ticks": ""
            },
            "colorscale": [
             [
              0,
              "#0d0887"
             ],
             [
              0.1111111111111111,
              "#46039f"
             ],
             [
              0.2222222222222222,
              "#7201a8"
             ],
             [
              0.3333333333333333,
              "#9c179e"
             ],
             [
              0.4444444444444444,
              "#bd3786"
             ],
             [
              0.5555555555555556,
              "#d8576b"
             ],
             [
              0.6666666666666666,
              "#ed7953"
             ],
             [
              0.7777777777777778,
              "#fb9f3a"
             ],
             [
              0.8888888888888888,
              "#fdca26"
             ],
             [
              1,
              "#f0f921"
             ]
            ],
            "type": "surface"
           }
          ],
          "table": [
           {
            "cells": {
             "fill": {
              "color": "#EBF0F8"
             },
             "line": {
              "color": "white"
             }
            },
            "header": {
             "fill": {
              "color": "#C8D4E3"
             },
             "line": {
              "color": "white"
             }
            },
            "type": "table"
           }
          ]
         },
         "layout": {
          "annotationdefaults": {
           "arrowcolor": "#2a3f5f",
           "arrowhead": 0,
           "arrowwidth": 1
          },
          "autotypenumbers": "strict",
          "coloraxis": {
           "colorbar": {
            "outlinewidth": 0,
            "ticks": ""
           }
          },
          "colorscale": {
           "diverging": [
            [
             0,
             "#8e0152"
            ],
            [
             0.1,
             "#c51b7d"
            ],
            [
             0.2,
             "#de77ae"
            ],
            [
             0.3,
             "#f1b6da"
            ],
            [
             0.4,
             "#fde0ef"
            ],
            [
             0.5,
             "#f7f7f7"
            ],
            [
             0.6,
             "#e6f5d0"
            ],
            [
             0.7,
             "#b8e186"
            ],
            [
             0.8,
             "#7fbc41"
            ],
            [
             0.9,
             "#4d9221"
            ],
            [
             1,
             "#276419"
            ]
           ],
           "sequential": [
            [
             0,
             "#0d0887"
            ],
            [
             0.1111111111111111,
             "#46039f"
            ],
            [
             0.2222222222222222,
             "#7201a8"
            ],
            [
             0.3333333333333333,
             "#9c179e"
            ],
            [
             0.4444444444444444,
             "#bd3786"
            ],
            [
             0.5555555555555556,
             "#d8576b"
            ],
            [
             0.6666666666666666,
             "#ed7953"
            ],
            [
             0.7777777777777778,
             "#fb9f3a"
            ],
            [
             0.8888888888888888,
             "#fdca26"
            ],
            [
             1,
             "#f0f921"
            ]
           ],
           "sequentialminus": [
            [
             0,
             "#0d0887"
            ],
            [
             0.1111111111111111,
             "#46039f"
            ],
            [
             0.2222222222222222,
             "#7201a8"
            ],
            [
             0.3333333333333333,
             "#9c179e"
            ],
            [
             0.4444444444444444,
             "#bd3786"
            ],
            [
             0.5555555555555556,
             "#d8576b"
            ],
            [
             0.6666666666666666,
             "#ed7953"
            ],
            [
             0.7777777777777778,
             "#fb9f3a"
            ],
            [
             0.8888888888888888,
             "#fdca26"
            ],
            [
             1,
             "#f0f921"
            ]
           ]
          },
          "colorway": [
           "#636efa",
           "#EF553B",
           "#00cc96",
           "#ab63fa",
           "#FFA15A",
           "#19d3f3",
           "#FF6692",
           "#B6E880",
           "#FF97FF",
           "#FECB52"
          ],
          "font": {
           "color": "#2a3f5f"
          },
          "geo": {
           "bgcolor": "white",
           "lakecolor": "white",
           "landcolor": "white",
           "showlakes": true,
           "showland": true,
           "subunitcolor": "#C8D4E3"
          },
          "hoverlabel": {
           "align": "left"
          },
          "hovermode": "closest",
          "mapbox": {
           "style": "light"
          },
          "paper_bgcolor": "white",
          "plot_bgcolor": "white",
          "polar": {
           "angularaxis": {
            "gridcolor": "#EBF0F8",
            "linecolor": "#EBF0F8",
            "ticks": ""
           },
           "bgcolor": "white",
           "radialaxis": {
            "gridcolor": "#EBF0F8",
            "linecolor": "#EBF0F8",
            "ticks": ""
           }
          },
          "scene": {
           "xaxis": {
            "backgroundcolor": "white",
            "gridcolor": "#DFE8F3",
            "gridwidth": 2,
            "linecolor": "#EBF0F8",
            "showbackground": true,
            "ticks": "",
            "zerolinecolor": "#EBF0F8"
           },
           "yaxis": {
            "backgroundcolor": "white",
            "gridcolor": "#DFE8F3",
            "gridwidth": 2,
            "linecolor": "#EBF0F8",
            "showbackground": true,
            "ticks": "",
            "zerolinecolor": "#EBF0F8"
           },
           "zaxis": {
            "backgroundcolor": "white",
            "gridcolor": "#DFE8F3",
            "gridwidth": 2,
            "linecolor": "#EBF0F8",
            "showbackground": true,
            "ticks": "",
            "zerolinecolor": "#EBF0F8"
           }
          },
          "shapedefaults": {
           "line": {
            "color": "#2a3f5f"
           }
          },
          "ternary": {
           "aaxis": {
            "gridcolor": "#DFE8F3",
            "linecolor": "#A2B1C6",
            "ticks": ""
           },
           "baxis": {
            "gridcolor": "#DFE8F3",
            "linecolor": "#A2B1C6",
            "ticks": ""
           },
           "bgcolor": "white",
           "caxis": {
            "gridcolor": "#DFE8F3",
            "linecolor": "#A2B1C6",
            "ticks": ""
           }
          },
          "title": {
           "x": 0.05
          },
          "xaxis": {
           "automargin": true,
           "gridcolor": "#EBF0F8",
           "linecolor": "#EBF0F8",
           "ticks": "",
           "title": {
            "standoff": 15
           },
           "zerolinecolor": "#EBF0F8",
           "zerolinewidth": 2
          },
          "yaxis": {
           "automargin": true,
           "gridcolor": "#EBF0F8",
           "linecolor": "#EBF0F8",
           "ticks": "",
           "title": {
            "standoff": 15
           },
           "zerolinecolor": "#EBF0F8",
           "zerolinewidth": 2
          }
         }
        },
        "title": {
         "text": "Distribuição de Cargos por Gênero ao Longo dos Anos"
        },
        "width": 1000,
        "xaxis": {
         "anchor": "y",
         "domain": [
          0,
          1
         ],
         "matches": "x3",
         "showticklabels": false
        },
        "xaxis2": {
         "anchor": "y2",
         "domain": [
          0,
          1
         ],
         "matches": "x3",
         "showticklabels": false
        },
        "xaxis3": {
         "anchor": "y3",
         "domain": [
          0,
          1
         ],
         "title": {
          "text": "Quantidade"
         }
        },
        "yaxis": {
         "anchor": "x",
         "domain": [
          0.7,
          1
         ],
         "showgrid": true,
         "title": {
          "text": "Cargo"
         }
        },
        "yaxis2": {
         "anchor": "x2",
         "domain": [
          0.35,
          0.6499999999999999
         ],
         "showgrid": true,
         "title": {
          "text": "Cargo"
         }
        },
        "yaxis3": {
         "anchor": "x3",
         "domain": [
          0,
          0.3
         ],
         "showgrid": true,
         "title": {
          "text": "Cargo"
         }
        }
       }
      }
     },
     "metadata": {},
     "output_type": "display_data"
    }
   ],
   "source": [
    "import pandas as pd\n",
    "import plotly.graph_objects as go\n",
    "from plotly.subplots import make_subplots\n",
    "\n",
    "# Filtrando para excluir \"Não classificado\" se necessário\n",
    "df = df_unificado[df_unificado['cargo_agrupado'] != \"Não classificado\"].copy()\n",
    "\n",
    "# Contando o número de ocorrências por cargo, ano e gênero\n",
    "df_contagem = df.groupby(['cargo_agrupado', 'ano_pesquisa', 'genero']).size().reset_index(name='contagem')\n",
    "\n",
    "# Cores para cada gênero\n",
    "cores = {\"Feminino\": \"#673147\", \"Masculino\": \"#708090\"}\n",
    "\n",
    "# Obter lista de cargos únicos e anos\n",
    "cargos_unicos = sorted(df_contagem['cargo_agrupado'].unique())\n",
    "anos = sorted(df_contagem['ano_pesquisa'].unique())\n",
    "generos = [\"Feminino\", \"Masculino\"]\n",
    "\n",
    "# Criar figura com subplots - um para cada ano\n",
    "fig = make_subplots(\n",
    "    rows=len(anos), \n",
    "    cols=1,\n",
    "    subplot_titles=[f\"Ano {ano}\" for ano in anos], \n",
    "    shared_xaxes=True,\n",
    "    vertical_spacing=0.05\n",
    ")\n",
    "\n",
    "# Para cada ano, criar um subplot\n",
    "for i, ano in enumerate(anos):\n",
    "    row = i + 1  # Linha do subplot\n",
    "    \n",
    "    for genero in generos:\n",
    "        # Filtrar dados para este ano e gênero\n",
    "        df_filtrado = df_contagem[(df_contagem['ano_pesquisa'] == ano) & \n",
    "                                  (df_contagem['genero'] == genero)]\n",
    "        \n",
    "        # Garantir que todos os cargos apareçam no eixo X\n",
    "        y_cargos = []\n",
    "        x_contagens = []\n",
    "        \n",
    "        for cargo in cargos_unicos:\n",
    "            df_cargo = df_filtrado[df_filtrado['cargo_agrupado'] == cargo]\n",
    "            if not df_cargo.empty:\n",
    "                x_contagens.append(df_cargo['contagem'].values[0])\n",
    "            else:\n",
    "                x_contagens.append(0)  # Zero para cargos sem dados\n",
    "            y_cargos.append(cargo)\n",
    "        \n",
    "        # Adicionar barras horizontais para este ano e gênero\n",
    "        fig.add_trace(\n",
    "            go.Bar(\n",
    "                y=y_cargos,                # Cargos no eixo Y\n",
    "                x=x_contagens,             # Contagens no eixo X\n",
    "                name=genero,               # Nome na legenda\n",
    "                marker_color=cores[genero],# Cor com base no gênero\n",
    "                textposition='auto',\n",
    "                orientation='h',           # Barras horizontais\n",
    "                showlegend=i == 0          # Mostrar na legenda apenas para o primeiro ano\n",
    "            ),\n",
    "            row=row, col=1\n",
    "        )\n",
    "\n",
    "# Configurar layout\n",
    "fig.update_layout(\n",
    "    title='Distribuição de Cargos por Gênero ao Longo dos Anos',\n",
    "    height=max(800, len(anos) * 200),  # Ajuste dinâmico da altura\n",
    "    width=1000,\n",
    "    template='plotly_white',\n",
    "    barmode='group',              # Agrupar barras por gênero\n",
    "    legend=dict(\n",
    "        orientation=\"h\",          # Legenda horizontal\n",
    "        yanchor=\"bottom\",\n",
    "        y=1.02,\n",
    "        xanchor=\"right\",\n",
    "        x=1\n",
    "    )\n",
    ")\n",
    "\n",
    "# Atualizar o título do eixo X para o último subplot\n",
    "fig.update_xaxes(title_text=\"Quantidade\", row=len(anos), col=1)\n",
    "\n",
    "# Atualizar o título do eixo Y para todos os subplots\n",
    "for i in range(1, len(anos) + 1):\n",
    "    fig.update_yaxes(title_text=\"Cargo\", row=i, col=1, showgrid=True)\n",
    "\n",
    "fig.show()\n"
   ]
  }
 ],
 "metadata": {
  "kernelspec": {
   "display_name": "Python 3",
   "language": "python",
   "name": "python3"
  },
  "language_info": {
   "codemirror_mode": {
    "name": "ipython",
    "version": 3
   },
   "file_extension": ".py",
   "mimetype": "text/x-python",
   "name": "python",
   "nbconvert_exporter": "python",
   "pygments_lexer": "ipython3",
   "version": "3.12.9"
  }
 },
 "nbformat": 4,
 "nbformat_minor": 2
}
